{
 "cells": [
  {
   "cell_type": "markdown",
   "metadata": {},
   "source": [
    "# Creating a Sentiment Analysis Web App\n",
    "## Using PyTorch and SageMaker\n",
    "\n",
    "_Deep Learning Nanodegree Program | Deployment_\n",
    "\n",
    "---\n",
    "\n",
    "Now that we have a basic understanding of how SageMaker works we will try to use it to construct a complete project from end to end. Our goal will be to have a simple web page which a user can use to enter a movie review. The web page will then send the review off to our deployed model which will predict the sentiment of the entered review.\n",
    "\n",
    "## Instructions\n",
    "\n",
    "Some template code has already been provided for you, and you will need to implement additional functionality to successfully complete this notebook. You will not need to modify the included code beyond what is requested. Sections that begin with '**TODO**' in the header indicate that you need to complete or implement some portion within them. Instructions will be provided for each section and the specifics of the implementation are marked in the code block with a `# TODO: ...` comment. Please be sure to read the instructions carefully!\n",
    "\n",
    "In addition to implementing code, there will be questions for you to answer which relate to the task and your implementation. Each section where you will answer a question is preceded by a '**Question:**' header. Carefully read each question and provide your answer below the '**Answer:**' header by editing the Markdown cell.\n",
    "\n",
    "> **Note**: Code and Markdown cells can be executed using the **Shift+Enter** keyboard shortcut. In addition, a cell can be edited by typically clicking it (double-click for Markdown cells) or by pressing **Enter** while it is highlighted.\n",
    "\n",
    "## General Outline\n",
    "\n",
    "Recall the general outline for SageMaker projects using a notebook instance.\n",
    "\n",
    "1. Download or otherwise retrieve the data.\n",
    "2. Process / Prepare the data.\n",
    "3. Upload the processed data to S3.\n",
    "4. Train a chosen model.\n",
    "5. Test the trained model (typically using a batch transform job).\n",
    "6. Deploy the trained model.\n",
    "7. Use the deployed model.\n",
    "\n",
    "For this project, you will be following the steps in the general outline with some modifications. \n",
    "\n",
    "First, you will not be testing the model in its own step. You will still be testing the model, however, you will do it by deploying your model and then using the deployed model by sending the test data to it. One of the reasons for doing this is so that you can make sure that your deployed model is working correctly before moving forward.\n",
    "\n",
    "In addition, you will deploy and use your trained model a second time. In the second iteration you will customize the way that your trained model is deployed by including some of your own code. In addition, your newly deployed model will be used in the sentiment analysis web app."
   ]
  },
  {
   "cell_type": "markdown",
   "metadata": {},
   "source": [
    "## Step 1: Downloading the data\n",
    "\n",
    "As in the XGBoost in SageMaker notebook, we will be using the [IMDb dataset](http://ai.stanford.edu/~amaas/data/sentiment/)\n",
    "\n",
    "> Maas, Andrew L., et al. [Learning Word Vectors for Sentiment Analysis](http://ai.stanford.edu/~amaas/data/sentiment/). In _Proceedings of the 49th Annual Meeting of the Association for Computational Linguistics: Human Language Technologies_. Association for Computational Linguistics, 2011."
   ]
  },
  {
   "cell_type": "code",
   "execution_count": 1,
   "metadata": {},
   "outputs": [
    {
     "name": "stdout",
     "output_type": "stream",
     "text": [
      "mkdir: cannot create directory ‘../data’: File exists\n",
      "--2019-01-13 17:28:57--  http://ai.stanford.edu/~amaas/data/sentiment/aclImdb_v1.tar.gz\n",
      "Resolving ai.stanford.edu (ai.stanford.edu)... 171.64.68.10\n",
      "Connecting to ai.stanford.edu (ai.stanford.edu)|171.64.68.10|:80... connected.\n",
      "HTTP request sent, awaiting response... 200 OK\n",
      "Length: 84125825 (80M) [application/x-gzip]\n",
      "Saving to: ‘../data/aclImdb_v1.tar.gz’\n",
      "\n",
      "../data/aclImdb_v1. 100%[===================>]  80.23M  15.3MB/s    in 10s     \n",
      "\n",
      "2019-01-13 17:29:08 (7.85 MB/s) - ‘../data/aclImdb_v1.tar.gz’ saved [84125825/84125825]\n",
      "\n"
     ]
    }
   ],
   "source": [
    "%mkdir ../data\n",
    "!wget -O ../data/aclImdb_v1.tar.gz http://ai.stanford.edu/~amaas/data/sentiment/aclImdb_v1.tar.gz\n",
    "!tar -zxf ../data/aclImdb_v1.tar.gz -C ../data"
   ]
  },
  {
   "cell_type": "markdown",
   "metadata": {},
   "source": [
    "## Step 2: Preparing and Processing the data\n",
    "\n",
    "Also, as in the XGBoost notebook, we will be doing some initial data processing. The first few steps are the same as in the XGBoost example. To begin with, we will read in each of the reviews and combine them into a single input structure. Then, we will split the dataset into a training set and a testing set."
   ]
  },
  {
   "cell_type": "code",
   "execution_count": 2,
   "metadata": {},
   "outputs": [],
   "source": [
    "import os\n",
    "import glob\n",
    "\n",
    "def read_imdb_data(data_dir='../data/aclImdb'):\n",
    "    data = {}\n",
    "    labels = {}\n",
    "    \n",
    "    for data_type in ['train', 'test']:\n",
    "        data[data_type] = {}\n",
    "        labels[data_type] = {}\n",
    "        \n",
    "        for sentiment in ['pos', 'neg']:\n",
    "            data[data_type][sentiment] = []\n",
    "            labels[data_type][sentiment] = []\n",
    "            \n",
    "            path = os.path.join(data_dir, data_type, sentiment, '*.txt')\n",
    "            files = glob.glob(path)\n",
    "            \n",
    "            for f in files:\n",
    "                with open(f) as review:\n",
    "                    data[data_type][sentiment].append(review.read())\n",
    "                    # Here we represent a positive review by '1' and a negative review by '0'\n",
    "                    labels[data_type][sentiment].append(1 if sentiment == 'pos' else 0)\n",
    "                    \n",
    "            assert len(data[data_type][sentiment]) == len(labels[data_type][sentiment]), \\\n",
    "                    \"{}/{} data size does not match labels size\".format(data_type, sentiment)\n",
    "                \n",
    "    return data, labels"
   ]
  },
  {
   "cell_type": "code",
   "execution_count": 3,
   "metadata": {},
   "outputs": [
    {
     "name": "stdout",
     "output_type": "stream",
     "text": [
      "IMDB reviews: train = 12500 pos / 12500 neg, test = 12500 pos / 12500 neg\n"
     ]
    }
   ],
   "source": [
    "data, labels = read_imdb_data()\n",
    "print(\"IMDB reviews: train = {} pos / {} neg, test = {} pos / {} neg\".format(\n",
    "            len(data['train']['pos']), len(data['train']['neg']),\n",
    "            len(data['test']['pos']), len(data['test']['neg'])))"
   ]
  },
  {
   "cell_type": "markdown",
   "metadata": {},
   "source": [
    "Now that we've read the raw training and testing data from the downloaded dataset, we will combine the positive and negative reviews and shuffle the resulting records."
   ]
  },
  {
   "cell_type": "code",
   "execution_count": 4,
   "metadata": {},
   "outputs": [],
   "source": [
    "from sklearn.utils import shuffle\n",
    "\n",
    "def prepare_imdb_data(data, labels):\n",
    "    \"\"\"Prepare training and test sets from IMDb movie reviews.\"\"\"\n",
    "    \n",
    "    #Combine positive and negative reviews and labels\n",
    "    data_train = data['train']['pos'] + data['train']['neg']\n",
    "    data_test = data['test']['pos'] + data['test']['neg']\n",
    "    labels_train = labels['train']['pos'] + labels['train']['neg']\n",
    "    labels_test = labels['test']['pos'] + labels['test']['neg']\n",
    "    \n",
    "    #Shuffle reviews and corresponding labels within training and test sets\n",
    "    data_train, labels_train = shuffle(data_train, labels_train)\n",
    "    data_test, labels_test = shuffle(data_test, labels_test)\n",
    "    \n",
    "    # Return a unified training data, test data, training labels, test labets\n",
    "    return data_train, data_test, labels_train, labels_test"
   ]
  },
  {
   "cell_type": "code",
   "execution_count": 5,
   "metadata": {},
   "outputs": [
    {
     "name": "stdout",
     "output_type": "stream",
     "text": [
      "IMDb reviews (combined): train = 25000, test = 25000\n"
     ]
    }
   ],
   "source": [
    "train_X, test_X, train_y, test_y = prepare_imdb_data(data, labels)\n",
    "print(\"IMDb reviews (combined): train = {}, test = {}\".format(len(train_X), len(test_X)))"
   ]
  },
  {
   "cell_type": "markdown",
   "metadata": {},
   "source": [
    "Now that we have our training and testing sets unified and prepared, we should do a quick check and see an example of the data our model will be trained on. This is generally a good idea as it allows you to see how each of the further processing steps affects the reviews and it also ensures that the data has been loaded correctly."
   ]
  },
  {
   "cell_type": "code",
   "execution_count": 6,
   "metadata": {},
   "outputs": [
    {
     "name": "stdout",
     "output_type": "stream",
     "text": [
      "Chances are, you'll think this movie is incredibly stupid the first time you watch it. But if, by chance, you watch it a second and third and fourth and fifth time (I'm well into the hundreds by now), you will find yourself spitting a line from it here and there and cracking yourself up! My friends and I have actually thrown Fear of a Black Hat Parties to get more of our friends, \"as they say, down with the riots\".\n",
      "1\n"
     ]
    }
   ],
   "source": [
    "print(train_X[100])\n",
    "print(train_y[100])"
   ]
  },
  {
   "cell_type": "markdown",
   "metadata": {},
   "source": [
    "The first step in processing the reviews is to make sure that any html tags that appear should be removed. In addition we wish to tokenize our input, that way words such as *entertained* and *entertaining* are considered the same with regard to sentiment analysis."
   ]
  },
  {
   "cell_type": "code",
   "execution_count": 7,
   "metadata": {},
   "outputs": [],
   "source": [
    "import nltk\n",
    "from nltk.corpus import stopwords\n",
    "from nltk.stem.porter import *\n",
    "\n",
    "import re\n",
    "from bs4 import BeautifulSoup\n",
    "\n",
    "def review_to_words(review):\n",
    "    nltk.download(\"stopwords\", quiet=True)\n",
    "    stemmer = PorterStemmer()\n",
    "    \n",
    "    text = BeautifulSoup(review, \"html.parser\").get_text() # Remove HTML tags\n",
    "    text = re.sub(r\"[^a-zA-Z0-9]\", \" \", text.lower()) # Convert to lower case\n",
    "    words = text.split() # Split string into words\n",
    "    words = [w for w in words if w not in stopwords.words(\"english\")] # Remove stopwords\n",
    "    words = [PorterStemmer().stem(w) for w in words] # stem\n",
    "    \n",
    "    return words"
   ]
  },
  {
   "cell_type": "markdown",
   "metadata": {},
   "source": [
    "The `review_to_words` method defined above uses `BeautifulSoup` to remove any html tags that appear and uses the `nltk` package to tokenize the reviews. As a check to ensure we know how everything is working, try applying `review_to_words` to one of the reviews in the training set."
   ]
  },
  {
   "cell_type": "code",
   "execution_count": 8,
   "metadata": {},
   "outputs": [
    {
     "name": "stdout",
     "output_type": "stream",
     "text": [
      "['chanc', 'think', 'movi', 'incred', 'stupid', 'first', 'time', 'watch', 'chanc', 'watch', 'second', 'third', 'fourth', 'fifth', 'time', 'well', 'hundr', 'find', 'spit', 'line', 'crack', 'friend', 'actual', 'thrown', 'fear', 'black', 'hat', 'parti', 'get', 'friend', 'say', 'riot']\n"
     ]
    }
   ],
   "source": [
    "# TODO: Apply review_to_words to a review (train_X[100] or any other review)\n",
    "print(review_to_words(train_X[100]))"
   ]
  },
  {
   "cell_type": "markdown",
   "metadata": {},
   "source": [
    "**Question:** Above we mentioned that `review_to_words` method removes html formatting and allows us to tokenize the words found in a review, for example, converting *entertained* and *entertaining* into *entertain* so that they are treated as though they are the same word. What else, if anything, does this method do to the input?"
   ]
  },
  {
   "cell_type": "markdown",
   "metadata": {},
   "source": [
    "**Answer:**<br>\n",
    "This method also converts all characters to lowercase using a regex, splits the reviews in individual words, removes stopwords (commonly used english words to ignore), and converts words into their base word or 'stem'. This also results in a smaller vocabulary due to the stopwords being removed and word stems being used to tokenize the words."
   ]
  },
  {
   "cell_type": "markdown",
   "metadata": {},
   "source": [
    "The method below applies the `review_to_words` method to each of the reviews in the training and testing datasets. In addition it caches the results. This is because performing this processing step can take a long time. This way if you are unable to complete the notebook in the current session, you can come back without needing to process the data a second time."
   ]
  },
  {
   "cell_type": "code",
   "execution_count": 9,
   "metadata": {},
   "outputs": [],
   "source": [
    "import pickle\n",
    "\n",
    "cache_dir = os.path.join(\"../cache\", \"sentiment_analysis\")  # where to store cache files\n",
    "os.makedirs(cache_dir, exist_ok=True)  # ensure cache directory exists\n",
    "\n",
    "def preprocess_data(data_train, data_test, labels_train, labels_test,\n",
    "                    cache_dir=cache_dir, cache_file=\"preprocessed_data.pkl\"):\n",
    "    \"\"\"Convert each review to words; read from cache if available.\"\"\"\n",
    "\n",
    "    # If cache_file is not None, try to read from it first\n",
    "    cache_data = None\n",
    "    if cache_file is not None:\n",
    "        try:\n",
    "            with open(os.path.join(cache_dir, cache_file), \"rb\") as f:\n",
    "                cache_data = pickle.load(f)\n",
    "            print(\"Read preprocessed data from cache file:\", cache_file)\n",
    "        except:\n",
    "            pass  # unable to read from cache, but that's okay\n",
    "    \n",
    "    # If cache is missing, then do the heavy lifting\n",
    "    if cache_data is None:\n",
    "        # Preprocess training and test data to obtain words for each review\n",
    "        #words_train = list(map(review_to_words, data_train))\n",
    "        #words_test = list(map(review_to_words, data_test))\n",
    "        words_train = [review_to_words(review) for review in data_train]\n",
    "        words_test = [review_to_words(review) for review in data_test]\n",
    "        \n",
    "        # Write to cache file for future runs\n",
    "        if cache_file is not None:\n",
    "            cache_data = dict(words_train=words_train, words_test=words_test,\n",
    "                              labels_train=labels_train, labels_test=labels_test)\n",
    "            with open(os.path.join(cache_dir, cache_file), \"wb\") as f:\n",
    "                pickle.dump(cache_data, f)\n",
    "            print(\"Wrote preprocessed data to cache file:\", cache_file)\n",
    "    else:\n",
    "        # Unpack data loaded from cache file\n",
    "        words_train, words_test, labels_train, labels_test = (cache_data['words_train'],\n",
    "                cache_data['words_test'], cache_data['labels_train'], cache_data['labels_test'])\n",
    "    \n",
    "    return words_train, words_test, labels_train, labels_test"
   ]
  },
  {
   "cell_type": "code",
   "execution_count": 10,
   "metadata": {},
   "outputs": [
    {
     "name": "stdout",
     "output_type": "stream",
     "text": [
      "Wrote preprocessed data to cache file: preprocessed_data.pkl\n"
     ]
    }
   ],
   "source": [
    "# Preprocess data\n",
    "train_X, test_X, train_y, test_y = preprocess_data(train_X, test_X, train_y, test_y)"
   ]
  },
  {
   "cell_type": "markdown",
   "metadata": {},
   "source": [
    "## Transform the data\n",
    "\n",
    "In the XGBoost notebook we transformed the data from its word representation to a bag-of-words feature representation. For the model we are going to construct in this notebook we will construct a feature representation which is very similar. To start, we will represent each word as an integer. Of course, some of the words that appear in the reviews occur very infrequently and so likely don't contain much information for the purposes of sentiment analysis. The way we will deal with this problem is that we will fix the size of our working vocabulary and we will only include the words that appear most frequently. We will then combine all of the infrequent words into a single category and, in our case, we will label it as `1`.\n",
    "\n",
    "Since we will be using a recurrent neural network, it will be convenient if the length of each review is the same. To do this, we will fix a size for our reviews and then pad short reviews with the category 'no word' (which we will label `0`) and truncate long reviews."
   ]
  },
  {
   "cell_type": "markdown",
   "metadata": {},
   "source": [
    "### (TODO) Create a word dictionary\n",
    "\n",
    "To begin with, we need to construct a way to map words that appear in the reviews to integers. Here we fix the size of our vocabulary (including the 'no word' and 'infrequent' categories) to be `5000` but you may wish to change this to see how it affects the model.\n",
    "\n",
    "> **TODO:** Complete the implementation for the `build_dict()` method below. Note that even though the vocab_size is set to `5000`, we only want to construct a mapping for the most frequently appearing `4998` words. This is because we want to reserve the special labels `0` for 'no word' and `1` for 'infrequent word'."
   ]
  },
  {
   "cell_type": "code",
   "execution_count": 42,
   "metadata": {},
   "outputs": [],
   "source": [
    "from collections import Counter"
   ]
  },
  {
   "cell_type": "code",
   "execution_count": 43,
   "metadata": {},
   "outputs": [],
   "source": [
    "import numpy as np\n",
    "\n",
    "def build_dict(data, vocab_size = 5000):\n",
    "    \"\"\"Construct and return a dictionary mapping each of the most frequently appearing words to a unique integer.\"\"\"\n",
    "    \n",
    "    # TODO: Determine how often each word appears in `data`. Note that `data` is a list of sentences and that a\n",
    "    #       sentence is a list of words.\n",
    "    \n",
    "    word_count = Counter(word for words in data for word in words) # A dict storing the words that appear in the reviews along with how often they occur\n",
    "\n",
    "    # TODO: Sort the words found in `data` so that sorted_words[0] is the most frequently appearing word and\n",
    "    #       sorted_words[-1] is the least frequently appearing word.\n",
    "    \n",
    "    sorted_words = word_count.most_common()\n",
    "    \n",
    "    word_dict = {} # This is what we are building, a dictionary that translates words into integers\n",
    "    for idx, (word, count) in enumerate(sorted_words[:vocab_size - 2]): # The -2 is so that we save room for the 'no word'\n",
    "        word_dict[word] = idx + 2                              # 'infrequent' labels\n",
    "        \n",
    "    return word_dict"
   ]
  },
  {
   "cell_type": "code",
   "execution_count": 44,
   "metadata": {},
   "outputs": [],
   "source": [
    "word_dict = build_dict(train_X)"
   ]
  },
  {
   "cell_type": "markdown",
   "metadata": {},
   "source": [
    "**Question:** What are the five most frequently appearing (tokenized) words in the training set? Does it makes sense that these words appear frequently in the training set?"
   ]
  },
  {
   "cell_type": "markdown",
   "metadata": {},
   "source": [
    "**Answer:**<br>\n",
    "5 Most Frequent tokenized words:\n",
    "1. 'movi' | Count: 51,695\n",
    "2. 'film' | Count: 48,190\n",
    "3. 'one'  | Count: 27,741\n",
    "4. 'like' | Count: 22,799\n",
    "5. 'time' | Count: 16,191\n",
    "\n",
    "Yes, it makes sense that these terms are the most frequent.\n",
    "\n",
    "'movi' (movie) and 'film' are the 2 most frequent words in our vocabulary and make sense given that the dataset is the IMDB movie/film review dataset. These two tokens may not provide much for determining sentiment though.\n",
    "\n",
    "The remaining terms: 'one', 'like', and 'time' also make sense to be frequent terms inside of movie reviews. 'like' leans towards positive reviews and similes/comparisons. 'time' can lean towards positive phrases like: \"time and time again, this director nails it\" and \"timeless\" but can also be negative in phrases like: \"waste of time\". 'time' end up being a neutral term after training. 'one' is very much like 'time' in that it can be a part of both negative (\"one to avoid\") and positive (\"this is the one\") reviews."
   ]
  },
  {
   "cell_type": "code",
   "execution_count": 45,
   "metadata": {},
   "outputs": [
    {
     "name": "stdout",
     "output_type": "stream",
     "text": [
      "{'movi': 2, 'film': 3, 'one': 4, 'like': 5, 'time': 6, 'good': 7, 'make': 8, 'charact': 9, 'get': 10, 'see': 11, 'watch': 12, 'stori': 13, 'even': 14, 'would': 15, 'realli': 16, 'well': 17, 'scene': 18, 'look': 19, 'show': 20, 'much': 21, 'end': 22, 'peopl': 23, 'bad': 24, 'go': 25, 'great': 26, 'also': 27, 'first': 28, 'love': 29, 'think': 30, 'way': 31, 'act': 32, 'play': 33, 'made': 34, 'thing': 35, 'could': 36, 'know': 37, 'say': 38, 'seem': 39, 'work': 40, 'plot': 41, 'two': 42, 'actor': 43, 'year': 44, 'come': 45, 'mani': 46, 'seen': 47, 'take': 48, 'life': 49, 'want': 50, 'never': 51, 'littl': 52, 'best': 53, 'tri': 54, 'man': 55, 'ever': 56, 'give': 57, 'better': 58, 'still': 59, 'perform': 60, 'find': 61, 'feel': 62, 'part': 63, 'back': 64, 'use': 65, 'someth': 66, 'director': 67, 'actual': 68, 'interest': 69, 'lot': 70, 'real': 71, 'old': 72, 'cast': 73, 'though': 74, 'live': 75, 'star': 76, 'enjoy': 77, 'guy': 78, 'anoth': 79, 'new': 80, 'role': 81, 'noth': 82, '10': 83, 'funni': 84, 'music': 85, 'point': 86, 'start': 87, 'set': 88, 'girl': 89, 'origin': 90, 'day': 91, 'world': 92, 'everi': 93, 'believ': 94, 'turn': 95, 'quit': 96, 'us': 97, 'direct': 98, 'thought': 99, 'fact': 100, 'minut': 101, 'horror': 102, 'kill': 103, 'action': 104, 'comedi': 105, 'pretti': 106, 'young': 107, 'wonder': 108, 'happen': 109, 'around': 110, 'got': 111, 'effect': 112, 'right': 113, 'long': 114, 'howev': 115, 'big': 116, 'line': 117, 'famili': 118, 'enough': 119, 'seri': 120, 'may': 121, 'need': 122, 'fan': 123, 'bit': 124, 'script': 125, 'beauti': 126, 'person': 127, 'becom': 128, 'without': 129, 'must': 130, 'alway': 131, 'friend': 132, 'tell': 133, 'reason': 134, 'saw': 135, 'last': 136, 'final': 137, 'kid': 138, 'almost': 139, 'put': 140, 'least': 141, 'sure': 142, 'done': 143, 'whole': 144, 'place': 145, 'complet': 146, 'kind': 147, 'differ': 148, 'expect': 149, 'shot': 150, 'far': 151, 'mean': 152, 'anyth': 153, 'book': 154, 'laugh': 155, 'might': 156, 'name': 157, 'sinc': 158, 'begin': 159, '2': 160, 'probabl': 161, 'woman': 162, 'help': 163, 'entertain': 164, 'let': 165, 'screen': 166, 'call': 167, 'tv': 168, 'moment': 169, 'away': 170, 'read': 171, 'yet': 172, 'rather': 173, 'worst': 174, 'run': 175, 'fun': 176, 'lead': 177, 'hard': 178, 'audienc': 179, 'idea': 180, 'anyon': 181, 'episod': 182, 'american': 183, 'found': 184, 'appear': 185, 'bore': 186, 'especi': 187, 'although': 188, 'hope': 189, 'cours': 190, 'keep': 191, 'anim': 192, 'job': 193, 'goe': 194, 'move': 195, 'sens': 196, 'dvd': 197, 'version': 198, 'war': 199, 'money': 200, 'someon': 201, 'mind': 202, 'mayb': 203, 'problem': 204, 'true': 205, 'hous': 206, 'everyth': 207, 'nice': 208, 'second': 209, 'rate': 210, 'three': 211, 'night': 212, 'follow': 213, 'face': 214, 'recommend': 215, 'main': 216, 'product': 217, 'worth': 218, 'leav': 219, 'human': 220, 'special': 221, 'excel': 222, 'togeth': 223, 'wast': 224, 'sound': 225, 'everyon': 226, 'john': 227, 'hand': 228, '1': 229, 'father': 230, 'later': 231, 'eye': 232, 'said': 233, 'view': 234, 'instead': 235, 'review': 236, 'boy': 237, 'high': 238, 'hour': 239, 'miss': 240, 'talk': 241, 'classic': 242, 'wife': 243, 'understand': 244, 'left': 245, 'care': 246, 'black': 247, 'death': 248, 'open': 249, 'murder': 250, 'write': 251, 'half': 252, 'head': 253, 'rememb': 254, 'chang': 255, 'viewer': 256, 'fight': 257, 'gener': 258, 'surpris': 259, 'short': 260, 'includ': 261, 'die': 262, 'fall': 263, 'less': 264, 'els': 265, 'entir': 266, 'piec': 267, 'involv': 268, 'pictur': 269, 'simpli': 270, 'top': 271, 'power': 272, 'home': 273, 'total': 274, 'usual': 275, 'budget': 276, 'attempt': 277, 'suppos': 278, 'releas': 279, 'hollywood': 280, 'terribl': 281, 'song': 282, 'men': 283, 'possibl': 284, 'featur': 285, 'portray': 286, 'disappoint': 287, 'poor': 288, '3': 289, 'coupl': 290, 'stupid': 291, 'camera': 292, 'dead': 293, 'wrong': 294, 'low': 295, 'produc': 296, 'either': 297, 'video': 298, 'aw': 299, 'definit': 300, 'except': 301, 'rest': 302, 'given': 303, 'absolut': 304, 'women': 305, 'lack': 306, 'word': 307, 'writer': 308, 'titl': 309, 'talent': 310, 'decid': 311, 'full': 312, 'perfect': 313, 'along': 314, 'style': 315, 'close': 316, 'truli': 317, 'school': 318, 'emot': 319, 'save': 320, 'age': 321, 'sex': 322, 'next': 323, 'bring': 324, 'mr': 325, 'case': 326, 'killer': 327, 'heart': 328, 'comment': 329, 'sort': 330, 'creat': 331, 'perhap': 332, 'came': 333, 'brother': 334, 'sever': 335, 'joke': 336, 'art': 337, 'dialogu': 338, 'game': 339, 'small': 340, 'base': 341, 'flick': 342, 'written': 343, 'sequenc': 344, 'meet': 345, 'earli': 346, 'often': 347, 'other': 348, 'mother': 349, 'develop': 350, 'humor': 351, 'actress': 352, 'consid': 353, 'dark': 354, 'guess': 355, 'amaz': 356, 'unfortun': 357, 'light': 358, 'lost': 359, 'exampl': 360, 'cinema': 361, 'drama': 362, 'ye': 363, 'white': 364, 'experi': 365, 'imagin': 366, 'mention': 367, 'stop': 368, 'natur': 369, 'forc': 370, 'manag': 371, 'felt': 372, 'present': 373, 'cut': 374, 'children': 375, 'fail': 376, 'son': 377, 'support': 378, 'qualiti': 379, 'car': 380, 'ask': 381, 'hit': 382, 'side': 383, 'voic': 384, 'extrem': 385, 'impress': 386, 'wors': 387, 'evil': 388, 'went': 389, 'stand': 390, 'certainli': 391, 'basic': 392, 'oh': 393, 'overal': 394, 'favorit': 395, 'horribl': 396, 'mysteri': 397, 'number': 398, 'type': 399, 'danc': 400, 'wait': 401, 'hero': 402, 'alreadi': 403, '5': 404, 'learn': 405, 'matter': 406, '4': 407, 'michael': 408, 'genr': 409, 'fine': 410, 'despit': 411, 'throughout': 412, 'walk': 413, 'success': 414, 'histori': 415, 'question': 416, 'zombi': 417, 'town': 418, 'relationship': 419, 'realiz': 420, 'past': 421, 'child': 422, 'daughter': 423, 'late': 424, 'b': 425, 'wish': 426, 'credit': 427, 'hate': 428, 'event': 429, 'theme': 430, 'touch': 431, 'citi': 432, 'today': 433, 'sometim': 434, 'behind': 435, 'god': 436, 'twist': 437, 'sit': 438, 'stay': 439, 'annoy': 440, 'deal': 441, 'abl': 442, 'rent': 443, 'pleas': 444, 'edit': 445, 'blood': 446, 'deserv': 447, 'anyway': 448, 'comic': 449, 'appar': 450, 'soon': 451, 'gave': 452, 'etc': 453, 'level': 454, 'slow': 455, 'chanc': 456, 'score': 457, 'bodi': 458, 'brilliant': 459, 'incred': 460, 'figur': 461, 'situat': 462, 'major': 463, 'self': 464, 'stuff': 465, 'decent': 466, 'element': 467, 'dream': 468, 'return': 469, 'obvious': 470, 'order': 471, 'continu': 472, 'pace': 473, 'ridicul': 474, 'happi': 475, 'highli': 476, 'add': 477, 'group': 478, 'thank': 479, 'ladi': 480, 'novel': 481, 'speak': 482, 'pain': 483, 'career': 484, 'shoot': 485, 'strang': 486, 'heard': 487, 'sad': 488, 'husband': 489, 'polic': 490, 'import': 491, 'break': 492, 'took': 493, 'strong': 494, 'cannot': 495, 'predict': 496, 'robert': 497, 'violenc': 498, 'hilari': 499, 'recent': 500, 'countri': 501, 'known': 502, 'particularli': 503, 'pick': 504, 'documentari': 505, 'season': 506, 'critic': 507, 'jame': 508, 'compar': 509, 'obviou': 510, 'alon': 511, 'told': 512, 'state': 513, 'visual': 514, 'rock': 515, 'theater': 516, 'offer': 517, 'exist': 518, 'opinion': 519, 'gore': 520, 'crap': 521, 'hold': 522, 'result': 523, 'hear': 524, 'realiti': 525, 'room': 526, 'effort': 527, 'clich': 528, 'thriller': 529, 'caus': 530, 'explain': 531, 'sequel': 532, 'serious': 533, 'king': 534, 'local': 535, 'ago': 536, 'hell': 537, 'none': 538, 'note': 539, 'allow': 540, 'david': 541, 'sister': 542, 'simpl': 543, 'femal': 544, 'deliv': 545, 'ok': 546, 'convinc': 547, 'class': 548, 'check': 549, 'suspens': 550, 'win': 551, 'oscar': 552, 'buy': 553, 'huge': 554, 'valu': 555, 'sexual': 556, 'cool': 557, 'scari': 558, 'excit': 559, 'similar': 560, 'exactli': 561, 'provid': 562, 'apart': 563, 'shown': 564, 'avoid': 565, 'seriou': 566, 'english': 567, 'taken': 568, 'whose': 569, 'cinematographi': 570, 'shock': 571, 'polit': 572, 'spoiler': 573, 'offic': 574, 'across': 575, 'middl': 576, 'pass': 577, 'street': 578, 'messag': 579, 'charm': 580, 'silli': 581, 'somewhat': 582, 'modern': 583, 'confus': 584, 'filmmak': 585, 'form': 586, 'tale': 587, 'singl': 588, 'jack': 589, 'mostli': 590, 'attent': 591, 'carri': 592, 'william': 593, 'sing': 594, 'five': 595, 'subject': 596, 'richard': 597, 'prove': 598, 'team': 599, 'stage': 600, 'cop': 601, 'unlik': 602, 'georg': 603, 'monster': 604, 'televis': 605, 'earth': 606, 'villain': 607, 'cover': 608, 'pay': 609, 'marri': 610, 'toward': 611, 'build': 612, 'parent': 613, 'pull': 614, 'due': 615, 'respect': 616, 'fill': 617, 'dialog': 618, 'four': 619, 'remind': 620, 'futur': 621, 'weak': 622, 'typic': 623, '7': 624, 'cheap': 625, 'intellig': 626, 'atmospher': 627, 'british': 628, 'clearli': 629, '80': 630, 'paul': 631, 'non': 632, 'dog': 633, 'artist': 634, '8': 635, 'fast': 636, 'knew': 637, 'crime': 638, 'easili': 639, 'escap': 640, 'doubt': 641, 'adult': 642, 'detail': 643, 'date': 644, 'romant': 645, 'member': 646, 'fire': 647, 'drive': 648, 'gun': 649, 'straight': 650, 'fit': 651, 'beyond': 652, 'attack': 653, 'imag': 654, 'upon': 655, 'posit': 656, 'whether': 657, 'peter': 658, 'fantast': 659, 'aspect': 660, 'appreci': 661, 'captur': 662, 'ten': 663, 'plan': 664, 'discov': 665, 'remain': 666, 'near': 667, 'period': 668, 'realist': 669, 'air': 670, 'mark': 671, 'red': 672, 'dull': 673, 'adapt': 674, 'within': 675, 'lose': 676, 'spend': 677, 'color': 678, 'materi': 679, 'chase': 680, 'mari': 681, 'storylin': 682, 'forget': 683, 'bunch': 684, 'clear': 685, 'lee': 686, 'victim': 687, 'nearli': 688, 'box': 689, 'york': 690, 'inspir': 691, 'match': 692, 'mess': 693, 'finish': 694, 'standard': 695, 'easi': 696, 'truth': 697, 'busi': 698, 'suffer': 699, 'dramat': 700, 'space': 701, 'bill': 702, 'western': 703, 'e': 704, 'list': 705, 'battl': 706, 'notic': 707, 'de': 708, 'french': 709, 'ad': 710, '9': 711, 'tom': 712, 'larg': 713, 'among': 714, 'eventu': 715, 'train': 716, 'accept': 717, 'agre': 718, 'soundtrack': 719, 'spirit': 720, 'third': 721, 'teenag': 722, 'adventur': 723, 'soldier': 724, 'suggest': 725, 'famou': 726, 'drug': 727, 'sorri': 728, 'babi': 729, 'cri': 730, 'normal': 731, 'ultim': 732, 'troubl': 733, 'contain': 734, 'certain': 735, 'cultur': 736, 'romanc': 737, 'rare': 738, 'lame': 739, 'somehow': 740, 'mix': 741, 'disney': 742, 'gone': 743, 'cartoon': 744, 'student': 745, 'reveal': 746, 'fear': 747, 'suck': 748, 'kept': 749, 'attract': 750, 'appeal': 751, 'premis': 752, 'secret': 753, 'greatest': 754, 'design': 755, 'shame': 756, 'throw': 757, 'copi': 758, 'scare': 759, 'wit': 760, 'america': 761, 'admit': 762, 'relat': 763, 'brought': 764, 'particular': 765, 'screenplay': 766, 'whatev': 767, 'pure': 768, '70': 769, 'averag': 770, 'harri': 771, 'master': 772, 'describ': 773, 'male': 774, 'treat': 775, '20': 776, 'fantasi': 777, 'issu': 778, 'warn': 779, 'inde': 780, 'forward': 781, 'background': 782, 'project': 783, 'free': 784, 'memor': 785, 'japanes': 786, 'poorli': 787, 'award': 788, 'locat': 789, 'potenti': 790, 'amus': 791, 'struggl': 792, 'magic': 793, 'weird': 794, 'societi': 795, 'okay': 796, 'doctor': 797, 'imdb': 798, 'accent': 799, 'water': 800, 'hot': 801, 'dr': 802, '30': 803, 'alien': 804, 'express': 805, 'odd': 806, 'choic': 807, 'crazi': 808, 'studio': 809, 'fiction': 810, 'control': 811, 'becam': 812, 'masterpiec': 813, 'difficult': 814, 'fli': 815, 'joe': 816, 'scream': 817, 'costum': 818, 'lover': 819, 'refer': 820, 'uniqu': 821, 'remak': 822, 'girlfriend': 823, 'vampir': 824, 'prison': 825, 'execut': 826, 'wear': 827, 'jump': 828, 'unless': 829, 'wood': 830, 'creepi': 831, 'cheesi': 832, 'superb': 833, 'otherwis': 834, 'parti': 835, 'roll': 836, 'ghost': 837, 'public': 838, 'mad': 839, 'depict': 840, 'badli': 841, 'moral': 842, 'jane': 843, 'earlier': 844, 'week': 845, 'fi': 846, 'dumb': 847, 'flaw': 848, 'grow': 849, 'deep': 850, 'sci': 851, 'maker': 852, 'cat': 853, 'older': 854, 'connect': 855, 'footag': 856, 'bother': 857, 'plenti': 858, 'outsid': 859, 'stick': 860, 'gay': 861, 'catch': 862, 'co': 863, 'plu': 864, 'popular': 865, 'equal': 866, 'social': 867, 'quickli': 868, 'disturb': 869, 'perfectli': 870, 'dress': 871, 'era': 872, '90': 873, 'mistak': 874, 'lie': 875, 'ride': 876, 'previou': 877, 'combin': 878, 'concept': 879, 'band': 880, 'rich': 881, 'answer': 882, 'surviv': 883, 'front': 884, 'christma': 885, 'sweet': 886, 'insid': 887, 'bare': 888, 'concern': 889, 'eat': 890, 'listen': 891, 'beat': 892, 'ben': 893, 'c': 894, 'term': 895, 'serv': 896, 'german': 897, 'meant': 898, 'la': 899, 'stereotyp': 900, 'hardli': 901, 'innoc': 902, 'law': 903, 'desper': 904, 'memori': 905, 'promis': 906, 'intent': 907, 'cute': 908, 'variou': 909, 'steal': 910, 'inform': 911, 'brain': 912, 'post': 913, 'tone': 914, 'island': 915, 'amount': 916, 'compani': 917, 'track': 918, 'nuditi': 919, 'store': 920, 'claim': 921, 'hair': 922, '50': 923, 'flat': 924, 'univers': 925, 'land': 926, 'fairli': 927, 'kick': 928, 'scott': 929, 'danger': 930, 'player': 931, 'crew': 932, 'plain': 933, 'step': 934, 'toni': 935, 'share': 936, 'tast': 937, 'centuri': 938, 'engag': 939, 'achiev': 940, 'travel': 941, 'cold': 942, 'record': 943, 'rip': 944, 'suit': 945, 'sadli': 946, 'manner': 947, 'wrote': 948, 'spot': 949, 'tension': 950, 'intens': 951, 'fascin': 952, 'familiar': 953, 'depth': 954, 'remark': 955, 'burn': 956, 'histor': 957, 'destroy': 958, 'sleep': 959, 'purpos': 960, 'languag': 961, 'ruin': 962, 'ignor': 963, 'delight': 964, 'unbeliev': 965, 'italian': 966, 'soul': 967, 'abil': 968, 'collect': 969, 'clever': 970, 'detect': 971, 'violent': 972, 'rape': 973, 'reach': 974, 'door': 975, 'trash': 976, 'scienc': 977, 'liter': 978, 'reveng': 979, 'commun': 980, 'caught': 981, 'creatur': 982, 'approach': 983, 'trip': 984, 'fashion': 985, 'intrigu': 986, 'paint': 987, 'introduc': 988, 'skill': 989, 'complex': 990, 'channel': 991, 'camp': 992, 'christian': 993, 'extra': 994, 'hole': 995, 'mental': 996, 'limit': 997, 'ann': 998, 'immedi': 999, 'mere': 1000, 'comput': 1001, '6': 1002, 'slightli': 1003, 'million': 1004, 'slasher': 1005, 'conclus': 1006, 'imposs': 1007, 'suddenli': 1008, 'teen': 1009, 'crimin': 1010, 'neither': 1011, 'spent': 1012, 'nation': 1013, 'physic': 1014, 'respons': 1015, 'planet': 1016, 'fake': 1017, 'receiv': 1018, 'sick': 1019, 'blue': 1020, 'bizarr': 1021, 'embarrass': 1022, 'indian': 1023, '15': 1024, 'ring': 1025, 'drop': 1026, 'pop': 1027, 'drag': 1028, 'haunt': 1029, 'suspect': 1030, 'pointless': 1031, 'search': 1032, 'edg': 1033, 'handl': 1034, 'biggest': 1035, 'common': 1036, 'arriv': 1037, 'hurt': 1038, 'faith': 1039, 'technic': 1040, 'angel': 1041, 'genuin': 1042, 'dad': 1043, 'solid': 1044, 'f': 1045, 'awesom': 1046, 'van': 1047, 'focu': 1048, 'former': 1049, 'colleg': 1050, 'count': 1051, 'heavi': 1052, 'tear': 1053, 'wall': 1054, 'rais': 1055, 'visit': 1056, 'younger': 1057, 'laughabl': 1058, 'fair': 1059, 'excus': 1060, 'sign': 1061, 'cult': 1062, 'tough': 1063, 'key': 1064, 'motion': 1065, 'super': 1066, 'desir': 1067, 'stun': 1068, 'addit': 1069, 'cloth': 1070, 'exploit': 1071, 'tortur': 1072, 'smith': 1073, 'davi': 1074, 'race': 1075, 'author': 1076, 'cross': 1077, 'jim': 1078, 'focus': 1079, 'compel': 1080, 'minor': 1081, 'consist': 1082, 'commit': 1083, 'pathet': 1084, 'chemistri': 1085, 'park': 1086, 'frank': 1087, 'obsess': 1088, 'tradit': 1089, 'grade': 1090, 'asid': 1091, '60': 1092, 'brutal': 1093, 'somewher': 1094, 'steve': 1095, 'depress': 1096, 'explor': 1097, 'u': 1098, 'opportun': 1099, 'grant': 1100, 'rule': 1101, 'besid': 1102, 'honest': 1103, 'anti': 1104, 'dub': 1105, 'intend': 1106, 'trailer': 1107, 'bar': 1108, 'longer': 1109, 'west': 1110, 'regard': 1111, 'scientist': 1112, 'decad': 1113, 'judg': 1114, 'silent': 1115, 'armi': 1116, 'creativ': 1117, 'wild': 1118, 'g': 1119, 'south': 1120, 'stewart': 1121, 'draw': 1122, 'road': 1123, 'govern': 1124, 'ex': 1125, 'boss': 1126, 'practic': 1127, 'club': 1128, 'gang': 1129, 'motiv': 1130, 'surprisingli': 1131, 'festiv': 1132, 'redeem': 1133, 'green': 1134, 'page': 1135, 'london': 1136, 'machin': 1137, 'aliv': 1138, 'idiot': 1139, 'militari': 1140, 'display': 1141, 'thrill': 1142, 'repeat': 1143, '100': 1144, 'folk': 1145, 'nobodi': 1146, 'yeah': 1147, '40': 1148, 'garbag': 1149, 'journey': 1150, 'ground': 1151, 'tire': 1152, 'smile': 1153, 'mood': 1154, 'bought': 1155, 'sam': 1156, 'cost': 1157, 'stone': 1158, 'noir': 1159, 'mouth': 1160, 'terrif': 1161, 'agent': 1162, 'requir': 1163, 'utterli': 1164, 'honestli': 1165, 'sexi': 1166, 'area': 1167, 'geniu': 1168, 'report': 1169, 'glad': 1170, 'humour': 1171, 'investig': 1172, 'enter': 1173, 'serial': 1174, 'narr': 1175, 'occasion': 1176, 'passion': 1177, 'marriag': 1178, 'climax': 1179, 'industri': 1180, 'studi': 1181, 'center': 1182, 'ship': 1183, 'nowher': 1184, 'charli': 1185, 'demon': 1186, 'hors': 1187, 'loos': 1188, 'bear': 1189, 'wow': 1190, 'hang': 1191, 'graphic': 1192, 'admir': 1193, 'giant': 1194, 'send': 1195, 'damn': 1196, 'loud': 1197, 'rel': 1198, 'profession': 1199, 'subtl': 1200, 'nake': 1201, 'blow': 1202, 'bottom': 1203, 'insult': 1204, 'batman': 1205, 'r': 1206, 'boyfriend': 1207, 'kelli': 1208, 'doubl': 1209, 'initi': 1210, 'frame': 1211, 'gem': 1212, 'opera': 1213, 'challeng': 1214, 'affect': 1215, 'church': 1216, 'drawn': 1217, 'cinemat': 1218, 'evid': 1219, 'fulli': 1220, 'l': 1221, 'seek': 1222, 'j': 1223, 'nightmar': 1224, 'essenti': 1225, 'conflict': 1226, 'arm': 1227, 'christoph': 1228, 'henri': 1229, 'grace': 1230, 'wind': 1231, 'witch': 1232, 'narrat': 1233, 'assum': 1234, 'push': 1235, 'hunt': 1236, 'wise': 1237, 'chri': 1238, 'repres': 1239, 'nomin': 1240, 'month': 1241, 'affair': 1242, 'sceneri': 1243, 'hide': 1244, 'avail': 1245, 'thu': 1246, 'bond': 1247, 'justic': 1248, 'smart': 1249, 'outstand': 1250, 'interview': 1251, 'flashback': 1252, 'presenc': 1253, 'constantli': 1254, 'satisfi': 1255, 'bed': 1256, 'central': 1257, 'sell': 1258, 'iron': 1259, 'content': 1260, 'everybodi': 1261, 'gag': 1262, 'slowli': 1263, 'hotel': 1264, 'hire': 1265, 'system': 1266, 'thrown': 1267, 'adam': 1268, 'charl': 1269, 'individu': 1270, 'hey': 1271, 'mediocr': 1272, 'jone': 1273, 'allen': 1274, 'lesson': 1275, 'ray': 1276, 'billi': 1277, 'cameo': 1278, 'photographi': 1279, 'pari': 1280, 'fellow': 1281, 'strike': 1282, 'absurd': 1283, 'rise': 1284, 'independ': 1285, 'brief': 1286, 'neg': 1287, 'impact': 1288, 'phone': 1289, 'ill': 1290, 'born': 1291, 'model': 1292, 'spoil': 1293, 'fresh': 1294, 'angl': 1295, 'likabl': 1296, 'abus': 1297, 'discuss': 1298, 'hill': 1299, 'sight': 1300, 'ahead': 1301, 'photograph': 1302, 'sent': 1303, 'blame': 1304, 'occur': 1305, 'logic': 1306, 'shine': 1307, 'mainli': 1308, 'bruce': 1309, 'forev': 1310, 'skip': 1311, 'commerci': 1312, 'teacher': 1313, 'held': 1314, 'surround': 1315, 'segment': 1316, 'zero': 1317, 'blond': 1318, 'resembl': 1319, 'trap': 1320, 'satir': 1321, 'summer': 1322, 'ball': 1323, 'six': 1324, 'queen': 1325, 'fool': 1326, 'sub': 1327, 'twice': 1328, 'tragedi': 1329, 'pack': 1330, 'reaction': 1331, 'bomb': 1332, 'hospit': 1333, 'will': 1334, 'protagonist': 1335, 'sport': 1336, 'mile': 1337, 'jerri': 1338, 'vote': 1339, 'trust': 1340, 'mom': 1341, 'drink': 1342, 'encount': 1343, 'plane': 1344, 'program': 1345, 'al': 1346, 'station': 1347, 'current': 1348, 'martin': 1349, 'choos': 1350, 'celebr': 1351, 'join': 1352, 'tragic': 1353, 'field': 1354, 'favourit': 1355, 'round': 1356, 'lord': 1357, 'jean': 1358, 'vision': 1359, 'robot': 1360, 'tie': 1361, 'arthur': 1362, 'random': 1363, 'fortun': 1364, 'roger': 1365, 'dread': 1366, 'psycholog': 1367, 'intern': 1368, 'nonsens': 1369, 'improv': 1370, 'prefer': 1371, 'epic': 1372, 'formula': 1373, 'highlight': 1374, 'pleasur': 1375, 'legend': 1376, 'dollar': 1377, '11': 1378, 'tape': 1379, 'wide': 1380, 'gorgeou': 1381, 'object': 1382, 'thin': 1383, 'fox': 1384, 'porn': 1385, 'ugli': 1386, 'influenc': 1387, 'buddi': 1388, 'ii': 1389, 'prepar': 1390, 'nasti': 1391, 'warm': 1392, 'supposedli': 1393, 'reflect': 1394, 'progress': 1395, 'worthi': 1396, 'youth': 1397, 'unusu': 1398, 'latter': 1399, 'length': 1400, 'crash': 1401, 'superior': 1402, 'seven': 1403, 'childhood': 1404, 'shop': 1405, 'theatr': 1406, 'remot': 1407, 'pilot': 1408, 'funniest': 1409, 'disgust': 1410, 'paid': 1411, 'fell': 1412, 'convers': 1413, 'trick': 1414, 'castl': 1415, 'establish': 1416, 'rob': 1417, 'disast': 1418, 'gangster': 1419, 'mine': 1420, 'suicid': 1421, 'disappear': 1422, 'ident': 1423, 'heaven': 1424, 'forgotten': 1425, 'decis': 1426, 'mask': 1427, 'singer': 1428, 'heroin': 1429, 'tend': 1430, 'brian': 1431, 'partner': 1432, 'alan': 1433, 'recogn': 1434, 'desert': 1435, 'sky': 1436, 'stuck': 1437, 'thoroughli': 1438, 'ms': 1439, 'p': 1440, 'replac': 1441, 'accur': 1442, 'market': 1443, 'commentari': 1444, 'uncl': 1445, 'seemingli': 1446, 'danni': 1447, 'andi': 1448, 'clue': 1449, 'eddi': 1450, 'jackson': 1451, 'devil': 1452, 'that': 1453, 'pair': 1454, 'refus': 1455, 'therefor': 1456, 'river': 1457, 'ed': 1458, 'accid': 1459, 'unit': 1460, 'fault': 1461, 'fate': 1462, 'tune': 1463, 'afraid': 1464, 'hidden': 1465, 'russian': 1466, 'stephen': 1467, 'clean': 1468, 'irrit': 1469, 'quick': 1470, 'instanc': 1471, 'captain': 1472, 'readi': 1473, 'convey': 1474, 'test': 1475, 'european': 1476, 'frustrat': 1477, 'daniel': 1478, 'insan': 1479, 'food': 1480, 'rescu': 1481, 'wed': 1482, '1950': 1483, 'chines': 1484, 'dirti': 1485, 'lock': 1486, 'angri': 1487, 'joy': 1488, 'steven': 1489, 'price': 1490, 'cage': 1491, 'bland': 1492, 'rang': 1493, 'anymor': 1494, 'wooden': 1495, 'rush': 1496, 'n': 1497, 'jason': 1498, 'news': 1499, 'board': 1500, 'twenti': 1501, '12': 1502, 'worri': 1503, 'led': 1504, 'martial': 1505, 'transform': 1506, 'cgi': 1507, 'hunter': 1508, 'symbol': 1509, 'johnni': 1510, 'piti': 1511, 'sentiment': 1512, 'onto': 1513, 'x': 1514, 'invent': 1515, 'explan': 1516, 'process': 1517, 'attitud': 1518, 'owner': 1519, 'awar': 1520, 'aim': 1521, 'favor': 1522, 'necessari': 1523, 'target': 1524, 'floor': 1525, 'energi': 1526, 'opposit': 1527, 'religi': 1528, 'window': 1529, 'insight': 1530, 'blind': 1531, 'chick': 1532, 'movement': 1533, 'comparison': 1534, 'mountain': 1535, 'research': 1536, 'possess': 1537, 'deepli': 1538, 'grand': 1539, 'whatsoev': 1540, 'rain': 1541, 'comed': 1542, 'began': 1543, 'shadow': 1544, 'mid': 1545, 'bank': 1546, 'parodi': 1547, 'princ': 1548, 'taylor': 1549, 'credibl': 1550, 'pre': 1551, 'friendship': 1552, 'weapon': 1553, 'teach': 1554, 'flesh': 1555, 'dougla': 1556, 'hint': 1557, 'terror': 1558, 'protect': 1559, 'bloodi': 1560, 'marvel': 1561, 'anybodi': 1562, 'leader': 1563, 'accord': 1564, 'load': 1565, 'drunk': 1566, 'watchabl': 1567, 'superman': 1568, 'freddi': 1569, 'brown': 1570, 'seat': 1571, 'appropri': 1572, 'tim': 1573, 'jeff': 1574, 'hitler': 1575, 'unknown': 1576, 'keaton': 1577, 'knock': 1578, 'villag': 1579, 'charg': 1580, 'england': 1581, 'enemi': 1582, 'unnecessari': 1583, 'media': 1584, 'empti': 1585, 'craft': 1586, 'utter': 1587, 'perspect': 1588, 'wave': 1589, 'dare': 1590, 'buck': 1591, 'strength': 1592, 'contrast': 1593, 'correct': 1594, 'nativ': 1595, 'kiss': 1596, 'ford': 1597, 'soap': 1598, 'magnific': 1599, 'knowledg': 1600, 'chill': 1601, 'anywher': 1602, 'nazi': 1603, 'distract': 1604, 'speed': 1605, 'mission': 1606, 'ice': 1607, 'fred': 1608, '1980': 1609, 'breath': 1610, 'moon': 1611, 'joan': 1612, 'jr': 1613, 'crowd': 1614, 'frighten': 1615, '000': 1616, 'soft': 1617, 'kate': 1618, 'dick': 1619, 'nick': 1620, 'hundr': 1621, 'dan': 1622, 'radio': 1623, 'somebodi': 1624, 'simon': 1625, 'dozen': 1626, 'loss': 1627, 'thousand': 1628, 'andrew': 1629, 'academi': 1630, 'shakespear': 1631, 'root': 1632, 'account': 1633, 'quot': 1634, 'sum': 1635, 'vehicl': 1636, 'convent': 1637, 'leg': 1638, '1970': 1639, 'behavior': 1640, 'gold': 1641, 'regular': 1642, 'pretenti': 1643, 'demand': 1644, 'compet': 1645, 'worker': 1646, 'notabl': 1647, 'interpret': 1648, 'privat': 1649, 'explos': 1650, 'candi': 1651, 'lynch': 1652, 'stretch': 1653, 'japan': 1654, 'constant': 1655, 'tarzan': 1656, 'debut': 1657, 'sea': 1658, 'prais': 1659, 'translat': 1660, 'spi': 1661, 'revolv': 1662, 'franc': 1663, 'quiet': 1664, 'technolog': 1665, 'threaten': 1666, 'sat': 1667, 'failur': 1668, 'jesu': 1669, 'ass': 1670, 'higher': 1671, 'toy': 1672, 'met': 1673, 'kevin': 1674, 'punch': 1675, 'aid': 1676, 'vh': 1677, 'mike': 1678, 'abandon': 1679, 'interact': 1680, 'confront': 1681, 'separ': 1682, 'command': 1683, 'bet': 1684, 'techniqu': 1685, 'recal': 1686, 'gotten': 1687, 'site': 1688, 'servic': 1689, 'belong': 1690, 'stunt': 1691, 'freak': 1692, 'bug': 1693, 'foot': 1694, 'cabl': 1695, 'fu': 1696, 'capabl': 1697, 'jimmi': 1698, 'african': 1699, 'bright': 1700, 'presid': 1701, 'boat': 1702, 'succeed': 1703, 'stock': 1704, 'fat': 1705, 'clark': 1706, 'structur': 1707, 'spanish': 1708, 'gene': 1709, 'paper': 1710, 'kidnap': 1711, 'belief': 1712, 'factor': 1713, 'whilst': 1714, 'witti': 1715, 'realis': 1716, 'bob': 1717, 'complic': 1718, 'tree': 1719, 'realism': 1720, 'attend': 1721, 'educ': 1722, 'finest': 1723, 'broken': 1724, 'santa': 1725, 'assist': 1726, 'observ': 1727, 'up': 1728, 'v': 1729, 'determin': 1730, 'depart': 1731, 'smoke': 1732, 'hat': 1733, 'oper': 1734, 'routin': 1735, 'domin': 1736, 'lewi': 1737, 'rubbish': 1738, 'fame': 1739, 'lone': 1740, 'advanc': 1741, 'hook': 1742, 'foreign': 1743, 'kinda': 1744, 'safe': 1745, 'morgan': 1746, 'rank': 1747, 'numer': 1748, 'shape': 1749, 'vs': 1750, 'civil': 1751, 'shallow': 1752, 'werewolf': 1753, 'washington': 1754, 'rose': 1755, 'morn': 1756, 'gari': 1757, 'accomplish': 1758, 'ordinari': 1759, 'winner': 1760, 'kong': 1761, 'virtual': 1762, 'peac': 1763, 'whenev': 1764, 'grab': 1765, 'luck': 1766, 'offens': 1767, 'h': 1768, 'activ': 1769, 'contriv': 1770, 'unfunni': 1771, 'patient': 1772, 'complain': 1773, 'welcom': 1774, 'bigger': 1775, 'con': 1776, 'dimension': 1777, 'trek': 1778, 'pretend': 1779, 'lesbian': 1780, 'flash': 1781, 'cain': 1782, 'dri': 1783, 'wake': 1784, 'eric': 1785, 'code': 1786, 'corrupt': 1787, 'statu': 1788, 'guard': 1789, 'manipul': 1790, 'dancer': 1791, 'albert': 1792, 'awkward': 1793, 'gain': 1794, 'speech': 1795, 'context': 1796, 'sourc': 1797, 'signific': 1798, 'clip': 1799, 'corni': 1800, 'anthoni': 1801, 'psycho': 1802, '13': 1803, 'sean': 1804, 'religion': 1805, 'priest': 1806, 'theatric': 1807, 'reli': 1808, 'curiou': 1809, 'advic': 1810, 'w': 1811, 'flow': 1812, 'addict': 1813, 'specif': 1814, 'skin': 1815, 'secur': 1816, 'howard': 1817, 'asian': 1818, 'jennif': 1819, 'core': 1820, 'organ': 1821, 'luke': 1822, 'golden': 1823, 'promot': 1824, 'comfort': 1825, 'cheat': 1826, 'lucki': 1827, 'cash': 1828, 'lower': 1829, 'associ': 1830, 'dislik': 1831, 'spell': 1832, 'wing': 1833, 'degre': 1834, 'devic': 1835, 'regret': 1836, 'balanc': 1837, 'contribut': 1838, 'frequent': 1839, 'frankli': 1840, 'forgiv': 1841, 'sake': 1842, 'lake': 1843, 'print': 1844, 'thoma': 1845, 'mass': 1846, 'betti': 1847, 'gordon': 1848, 'unexpect': 1849, 'crack': 1850, 'grown': 1851, 'construct': 1852, 'unfold': 1853, 'categori': 1854, 'depend': 1855, 'amateur': 1856, 'invit': 1857, 'honor': 1858, 'grew': 1859, 'matur': 1860, 'condit': 1861, 'intellectu': 1862, 'anna': 1863, 'walter': 1864, 'sudden': 1865, 'spectacular': 1866, 'veteran': 1867, 'mirror': 1868, 'sole': 1869, 'meanwhil': 1870, 'gift': 1871, 'experienc': 1872, 'liner': 1873, 'overli': 1874, 'grip': 1875, 'freedom': 1876, 'demonstr': 1877, 'robin': 1878, 'card': 1879, 'theori': 1880, 'crappi': 1881, 'oliv': 1882, 'colour': 1883, 'circumst': 1884, 'sheriff': 1885, 'brilliantli': 1886, 'subtitl': 1887, 'unabl': 1888, 'drew': 1889, 'section': 1890, 'altern': 1891, 'pile': 1892, 'sheer': 1893, 'path': 1894, 'matt': 1895, 'laughter': 1896, 'parker': 1897, 'cook': 1898, 'treatment': 1899, 'lawyer': 1900, 'hall': 1901, 'accident': 1902, 'wander': 1903, 'defin': 1904, 'relief': 1905, 'sinatra': 1906, 'dragon': 1907, 'captiv': 1908, 'hank': 1909, 'moor': 1910, 'halloween': 1911, 'gratuit': 1912, 'wound': 1913, 'kung': 1914, 'broadway': 1915, 'k': 1916, 'barbara': 1917, 'jacki': 1918, 'unintent': 1919, 'cowboy': 1920, 'wayn': 1921, 'surreal': 1922, 'statement': 1923, 'winter': 1924, 'spoof': 1925, 'canadian': 1926, 'treasur': 1927, 'fare': 1928, 'cheer': 1929, 'compos': 1930, 'gonna': 1931, 'fish': 1932, 'emerg': 1933, 'unrealist': 1934, 'victor': 1935, 'woodi': 1936, 'sensit': 1937, 'driven': 1938, 'ran': 1939, 'sympathet': 1940, 'neighbor': 1941, 'expos': 1942, 'glass': 1943, 'menac': 1944, 'overlook': 1945, 'topic': 1946, 'authent': 1947, 'chief': 1948, 'michel': 1949, 'gross': 1950, 'handsom': 1951, 'ancient': 1952, 'pleasant': 1953, 'russel': 1954, 'feet': 1955, 'stranger': 1956, 'contemporari': 1957, 'comedian': 1958, 'nevertheless': 1959, 'built': 1960, 'network': 1961, 'cinderella': 1962, 'consider': 1963, 'earn': 1964, 'endless': 1965, 'blockbust': 1966, 'letter': 1967, 'miser': 1968, 'gori': 1969, 'underr': 1970, 'solv': 1971, 'switch': 1972, 'brook': 1973, 'joseph': 1974, 'convict': 1975, 'bullet': 1976, 'edward': 1977, 'virgin': 1978, 'victoria': 1979, 'chosen': 1980, 'alex': 1981, 'scale': 1982, 'scenario': 1983, '0': 1984, 'cynic': 1985, 'sword': 1986, 'com': 1987, 'outrag': 1988, 'curs': 1989, 'gut': 1990, 'juli': 1991, 'screenwrit': 1992, 'substanc': 1993, 'monkey': 1994, 'proper': 1995, 'uk': 1996, 'wrap': 1997, 'driver': 1998, 'par': 1999, 'indic': 2000, 'remov': 2001, 'court': 2002, 'bird': 2003, 'consequ': 2004, 'nanci': 2005, 'rental': 2006, 'inevit': 2007, 'roy': 2008, 'grave': 2009, 'naiv': 2010, 'loser': 2011, 'advertis': 2012, 'germani': 2013, 'le': 2014, 'fatal': 2015, 'brave': 2016, 'invis': 2017, 'bridg': 2018, 'slap': 2019, 'loui': 2020, 'provok': 2021, 'ador': 2022, 'anger': 2023, 'footbal': 2024, 'anderson': 2025, 'alcohol': 2026, 'chan': 2027, 'stumbl': 2028, 'ryan': 2029, 'professor': 2030, 'willi': 2031, 'sharp': 2032, '1930': 2033, 'bat': 2034, 'assassin': 2035, 'patrick': 2036, 'australian': 2037, 'refresh': 2038, 'heck': 2039, 'amateurish': 2040, 'ape': 2041, 'cell': 2042, 'deni': 2043, 'trilog': 2044, 'strongli': 2045, 'lousi': 2046, 'liber': 2047, 'saturday': 2048, 'eight': 2049, 'sin': 2050, 'vagu': 2051, 'justifi': 2052, 'san': 2053, 'resid': 2054, 'creator': 2055, 'indi': 2056, 'defeat': 2057, 'sympathi': 2058, 'reput': 2059, 'terrifi': 2060, 'mini': 2061, 'prevent': 2062, 'expert': 2063, 'tabl': 2064, 'endur': 2065, 'tediou': 2066, 'task': 2067, 'imit': 2068, 'basebal': 2069, 'employ': 2070, 'rival': 2071, 'trial': 2072, 'che': 2073, 'offend': 2074, 'complaint': 2075, 'pitch': 2076, 'dig': 2077, 'beach': 2078, 'max': 2079, 'weekend': 2080, 'europ': 2081, 'fairi': 2082, 'purchas': 2083, 'risk': 2084, 'murphi': 2085, 'format': 2086, 'reminisc': 2087, 'harsh': 2088, 'glimps': 2089, 'titan': 2090, 'hype': 2091, 'bite': 2092, 'powel': 2093, 'tini': 2094, 'nois': 2095, 'strip': 2096, 'north': 2097, 'fals': 2098, '14': 2099, 'prime': 2100, 'asleep': 2101, 'till': 2102, 'revel': 2103, 'destruct': 2104, 'descript': 2105, 'texa': 2106, 'africa': 2107, 'surfac': 2108, 'inner': 2109, 'uninterest': 2110, 'excess': 2111, 'sitcom': 2112, 'spin': 2113, 'arrest': 2114, 'semi': 2115, 'dinosaur': 2116, 'maintain': 2117, 'massiv': 2118, 'hitchcock': 2119, 'makeup': 2120, 'argu': 2121, 'controversi': 2122, 'twin': 2123, 'reject': 2124, 'expens': 2125, 'kim': 2126, 'ideal': 2127, 'melodrama': 2128, 'insist': 2129, 'ludicr': 2130, 'stare': 2131, 'supernatur': 2132, 'atroci': 2133, 'subplot': 2134, 'press': 2135, 'host': 2136, 'nail': 2137, 'forest': 2138, 'ga': 2139, 'erot': 2140, 'ala': 2141, 'columbo': 2142, 'notch': 2143, 'identifi': 2144, 'dude': 2145, 'presum': 2146, 'cant': 2147, 'guest': 2148, 'method': 2149, 'character': 2150, 'plagu': 2151, 'forgett': 2152, 'closer': 2153, 'crude': 2154, 'lion': 2155, 'landscap': 2156, 'princess': 2157, 'foster': 2158, 'ear': 2159, 'border': 2160, 'beast': 2161, 'previous': 2162, 'damag': 2163, 'jungl': 2164, 'accus': 2165, 'storytel': 2166, 'aunt': 2167, 'urban': 2168, 'bound': 2169, 'pacino': 2170, 'birth': 2171, 'thirti': 2172, 'chose': 2173, 'doll': 2174, 'propaganda': 2175, 'jess': 2176, 'guid': 2177, 'nude': 2178, 'emma': 2179, 'warrior': 2180, 'mainstream': 2181, 'whoever': 2182, 'mate': 2183, '25': 2184, 'pet': 2185, 'gritti': 2186, 'poster': 2187, 'upset': 2188, 'deadli': 2189, 'latest': 2190, 'merit': 2191, 'cooper': 2192, 'friday': 2193, 'size': 2194, 'exact': 2195, 'rough': 2196, '1990': 2197, 'citizen': 2198, 'popul': 2199, 'blend': 2200, 'warner': 2201, 'corps': 2202, 'sun': 2203, 'wilson': 2204, 'buff': 2205, 'settl': 2206, 'contact': 2207, 'ton': 2208, 'contest': 2209, 'pitt': 2210, 'widow': 2211, 'select': 2212, 'bu': 2213, 'overcom': 2214, 'alic': 2215, 'mgm': 2216, 'environ': 2217, 'rat': 2218, 'metal': 2219, 'revolut': 2220, 'link': 2221, 'guilti': 2222, 'ted': 2223, 'particip': 2224, 'lift': 2225, 'moron': 2226, 'corpor': 2227, 'corner': 2228, '1960': 2229, 'afternoon': 2230, 'johnson': 2231, 'prostitut': 2232, 'accompani': 2233, 'matrix': 2234, 'exagger': 2235, 'friendli': 2236, 'clair': 2237, 'multipl': 2238, 'sincer': 2239, 'leagu': 2240, 'hood': 2241, 'doom': 2242, 'holm': 2243, 'instal': 2244, 'hip': 2245, 'irish': 2246, 'advis': 2247, 'aka': 2248, 'defend': 2249, 'sunday': 2250, 'lugosi': 2251, 'string': 2252, 'blah': 2253, 'campi': 2254, 'grim': 2255, 'examin': 2256, 'junk': 2257, 'varieti': 2258, 'shut': 2259, 'pro': 2260, 'tight': 2261, 'rachel': 2262, 'icon': 2263, 'shake': 2264, 'confid': 2265, 'directli': 2266, 'medic': 2267, 'goal': 2268, 'attach': 2269, 'denni': 2270, 'sullivan': 2271, 'jaw': 2272, 'mexican': 2273, 'courag': 2274, 'terrorist': 2275, 'prior': 2276, 'bourn': 2277, 'dean': 2278, 'truck': 2279, 'breast': 2280, 'duke': 2281, 'sentenc': 2282, 'sarah': 2283, 'vietnam': 2284, 'legendari': 2285, 'behav': 2286, 'entri': 2287, 'un': 2288, 'proceed': 2289, 'hong': 2290, 'donald': 2291, 'nose': 2292, 'yell': 2293, 'split': 2294, 'lifetim': 2295, 'everywher': 2296, 'buri': 2297, 'confess': 2298, 'borrow': 2299, 'concentr': 2300, 'unconvinc': 2301, 'forth': 2302, 'stolen': 2303, 'jerk': 2304, 'swim': 2305, 'crush': 2306, 'gather': 2307, 'turkey': 2308, 'pan': 2309, 'lip': 2310, 'california': 2311, 'deliveri': 2312, 'spite': 2313, 'julia': 2314, 'proud': 2315, 'reward': 2316, 'flight': 2317, 'offici': 2318, 'freeman': 2319, 'downright': 2320, 'quest': 2321, 'china': 2322, 'hoffman': 2323, 'inept': 2324, 'fabul': 2325, 'jon': 2326, 'fade': 2327, 'encourag': 2328, 'notori': 2329, 'betray': 2330, 'lazi': 2331, 'sink': 2332, 'sir': 2333, 'jail': 2334, 'worthwhil': 2335, 'retard': 2336, 'lisa': 2337, 'imageri': 2338, 'bell': 2339, 'susan': 2340, 'storm': 2341, 'shower': 2342, 'survivor': 2343, 'teeth': 2344, 'cousin': 2345, 'relev': 2346, 'branagh': 2347, 'bag': 2348, 'summari': 2349, 'stab': 2350, 'facial': 2351, 'toler': 2352, 'alright': 2353, 'mexico': 2354, 'tremend': 2355, 'hugh': 2356, 'quirki': 2357, 'shark': 2358, 'trade': 2359, 'bride': 2360, 'finger': 2361, 'blown': 2362, 'pose': 2363, 'hyster': 2364, 'bitter': 2365, 'von': 2366, 'ha': 2367, 'larri': 2368, 'scheme': 2369, 'ron': 2370, 'christ': 2371, 'address': 2372, 'bone': 2373, 'ned': 2374, 'cruel': 2375, 'afterward': 2376, 'feed': 2377, 'screw': 2378, 'swear': 2379, 'distinct': 2380, 'pursu': 2381, 'snake': 2382, 'beg': 2383, 'thumb': 2384, 'traci': 2385, 'tour': 2386, 'mechan': 2387, 'occas': 2388, 'stomach': 2389, 'raw': 2390, 'photo': 2391, 'chair': 2392, 'obscur': 2393, 'resist': 2394, 'render': 2395, 'sidney': 2396, 'holiday': 2397, 'argument': 2398, 'hardi': 2399, 'necessarili': 2400, 'southern': 2401, 'cabin': 2402, 'gruesom': 2403, 'heavili': 2404, 'chain': 2405, 'understood': 2406, 'indulg': 2407, 'racist': 2408, 'philip': 2409, 'satan': 2410, 'india': 2411, 'integr': 2412, 'outfit': 2413, 'stalk': 2414, 'lay': 2415, 'fourth': 2416, 'belov': 2417, 'obnoxi': 2418, 'tongu': 2419, 'forgot': 2420, 'pregnant': 2421, 'midnight': 2422, 'deeper': 2423, 'carol': 2424, 'inhabit': 2425, 'slapstick': 2426, 'magazin': 2427, 'restor': 2428, 'garden': 2429, 'ticket': 2430, '17': 2431, 'incid': 2432, 'lincoln': 2433, 'shoe': 2434, 'brad': 2435, 'devot': 2436, 'anticip': 2437, 'divorc': 2438, 'maria': 2439, 'disbelief': 2440, 'underground': 2441, 'elizabeth': 2442, 'guarante': 2443, 'benefit': 2444, 'sandler': 2445, 'lili': 2446, 'cring': 2447, 'mildli': 2448, 'slave': 2449, 'creation': 2450, 'capit': 2451, 'amazingli': 2452, 'explod': 2453, 'greater': 2454, 'bbc': 2455, 'princip': 2456, 'extraordinari': 2457, 'halfway': 2458, 'funnier': 2459, 'lesli': 2460, 'introduct': 2461, 'tap': 2462, 'text': 2463, 'transfer': 2464, 'punish': 2465, 'extent': 2466, 'overwhelm': 2467, 'advantag': 2468, 'enhanc': 2469, 'wreck': 2470, 'deliber': 2471, 'jessica': 2472, 'preview': 2473, 'lo': 2474, 'east': 2475, 'error': 2476, 'horrif': 2477, 'dynam': 2478, 'lane': 2479, 'plant': 2480, 'appli': 2481, '2000': 2482, 'sophist': 2483, 'miscast': 2484, 'basi': 2485, 'homosexu': 2486, 'vacat': 2487, 'miller': 2488, 'ensu': 2489, 'vincent': 2490, 'via': 2491, 'measur': 2492, 'sleazi': 2493, 'reed': 2494, 'extend': 2495, 'steel': 2496, 'spoken': 2497, 'elev': 2498, 'uncomfort': 2499, 'mansion': 2500, 'bollywood': 2501, 'alter': 2502, 'fix': 2503, 'melt': 2504, 'stanley': 2505, 'beer': 2506, 'goofi': 2507, 'savag': 2508, 'blair': 2509, 'hippi': 2510, 'daili': 2511, 'overact': 2512, 'mous': 2513, 'conceiv': 2514, 'breathtak': 2515, 'dentist': 2516, 'assign': 2517, 'cathol': 2518, 'sacrific': 2519, 'inspector': 2520, 'carpent': 2521, 'subsequ': 2522, 'properli': 2523, 'oppos': 2524, 'everyday': 2525, 'nowaday': 2526, 'burt': 2527, 'succe': 2528, 'laura': 2529, 'block': 2530, 'circl': 2531, 'massacr': 2532, 'neck': 2533, 'christi': 2534, 'access': 2535, 'portrait': 2536, 'seagal': 2537, 'fallen': 2538, 'grey': 2539, 'lesser': 2540, 'pool': 2541, 'concert': 2542, 'mob': 2543, 'fay': 2544, 'isol': 2545, 'sinist': 2546, 'jewish': 2547, 'relax': 2548, 'competit': 2549, 'usa': 2550, 'chees': 2551, 'react': 2552, 'jake': 2553, 'chop': 2554, '2006': 2555, 'nine': 2556, 'ironi': 2557, 'suitabl': 2558, 'spiritu': 2559, 'appal': 2560, 'stink': 2561, 'nonetheless': 2562, 'immens': 2563, 'lyric': 2564, 'creep': 2565, 'sold': 2566, 'spring': 2567, 'reduc': 2568, 'franchis': 2569, 'adopt': 2570, 'luci': 2571, 'nut': 2572, 'user': 2573, 'retir': 2574, 'rage': 2575, 'shirt': 2576, 'showcas': 2577, 'needless': 2578, 'navi': 2579, 'per': 2580, 'zone': 2581, 'asham': 2582, 'bulli': 2583, 'jay': 2584, 'nurs': 2585, 'stanwyck': 2586, 'uninspir': 2587, 'digit': 2588, 'bath': 2589, 'illustr': 2590, 'amongst': 2591, '2001': 2592, 'broadcast': 2593, '1940': 2594, 'sutherland': 2595, 'laid': 2596, 'upper': 2597, 'oddli': 2598, 'brando': 2599, 'disguis': 2600, 'aspir': 2601, 'stylish': 2602, 'baker': 2603, 'throat': 2604, 'fulfil': 2605, 'impli': 2606, 'neighborhood': 2607, 'pound': 2608, 'endear': 2609, 'wwii': 2610, '18': 2611, 'wanna': 2612, 'thief': 2613, 'pride': 2614, 'nobl': 2615, 'em': 2616, 'shift': 2617, 'coher': 2618, 'prop': 2619, 'shoulder': 2620, 'bo': 2621, 'albeit': 2622, 'diseas': 2623, 'distribut': 2624, 'dinner': 2625, 'dawn': 2626, '16': 2627, 'cinematograph': 2628, 'rochest': 2629, 'tens': 2630, 'bett': 2631, 'function': 2632, 'snow': 2633, 'shout': 2634, 'contract': 2635, 'wash': 2636, 'knife': 2637, 'poignant': 2638, 'silenc': 2639, 'forti': 2640, 'rebel': 2641, 'surf': 2642, 'matthau': 2643, 'henc': 2644, 'reunion': 2645, 'eeri': 2646, 'chuck': 2647, 'widmark': 2648, 'instinct': 2649, 'horrend': 2650, 'heat': 2651, 'height': 2652, 'duti': 2653, 'mindless': 2654, 'proof': 2655, 'elvira': 2656, 'cannib': 2657, 'internet': 2658, 'cancel': 2659, 'derek': 2660, 'silver': 2661, 'incoher': 2662, 'absorb': 2663, 'alik': 2664, 'elvi': 2665, 'torn': 2666, 'glori': 2667, 'musician': 2668, 'repetit': 2669, 'neat': 2670, 'innov': 2671, 'etern': 2672, 'premier': 2673, 'spielberg': 2674, 'greatli': 2675, 'pie': 2676, 'mill': 2677, 'crisi': 2678, 'announc': 2679, 'wealthi': 2680, 'bang': 2681, 'homag': 2682, 'redempt': 2683, 'nelson': 2684, 'trite': 2685, 'fbi': 2686, 'diamond': 2687, 'lovabl': 2688, 'racism': 2689, 'itali': 2690, 'horrifi': 2691, 'blank': 2692, 'infam': 2693, 'britain': 2694, 'precis': 2695, 'burton': 2696, 'dedic': 2697, 'parallel': 2698, 'pat': 2699, 'hammer': 2700, 'flop': 2701, 'resolut': 2702, 'ensembl': 2703, 'helen': 2704, 'happili': 2705, 'chaplin': 2706, 'wilder': 2707, 'streisand': 2708, 'factori': 2709, 'broke': 2710, 'disagre': 2711, 'cube': 2712, 'st': 2713, 'plastic': 2714, 'conclud': 2715, 'triumph': 2716, 'carter': 2717, 'mar': 2718, 'oil': 2719, 'march': 2720, 'rocket': 2721, 'own': 2722, 'weight': 2723, 'climb': 2724, 'fighter': 2725, 'chuckl': 2726, 'vega': 2727, 'row': 2728, 'bush': 2729, 'unforgett': 2730, 'kurt': 2731, 'meaning': 2732, 'wherea': 2733, 'spare': 2734, 'luca': 2735, 'dane': 2736, 'enorm': 2737, 'dump': 2738, 'lust': 2739, 'thug': 2740, 'sensibl': 2741, 'boot': 2742, 'mst3k': 2743, 'fifti': 2744, 'dear': 2745, 'bobbi': 2746, 'adequ': 2747, 'threat': 2748, 'butt': 2749, 'caricatur': 2750, 'arnold': 2751, 'engin': 2752, 'brand': 2753, 'stress': 2754, 'difficulti': 2755, 'karloff': 2756, 'rap': 2757, 'elabor': 2758, 'homeless': 2759, 'secretari': 2760, 'polish': 2761, 'barri': 2762, 'arrog': 2763, 'ego': 2764, 'swing': 2765, 'fest': 2766, 'ralph': 2767, 'flynn': 2768, 'journalist': 2769, 'hamlet': 2770, 'simpson': 2771, 'conspiraci': 2772, 'induc': 2773, 'tool': 2774, 'fanci': 2775, 'float': 2776, 'spike': 2777, 'resort': 2778, 'arrang': 2779, 'unbear': 2780, 'puppet': 2781, 'grate': 2782, 'cruis': 2783, 'phillip': 2784, 'basement': 2785, 'guilt': 2786, 'exercis': 2787, 'tribut': 2788, 'pig': 2789, 'choreograph': 2790, 'boll': 2791, 'muppet': 2792, 'toilet': 2793, 'layer': 2794, 'fianc': 2795, 'item': 2796, 'document': 2797, 'puzzl': 2798, 'medium': 2799, 'editor': 2800, 'korean': 2801, 'ham': 2802, 'ward': 2803, '24': 2804, 'babe': 2805, 'tower': 2806, 'file': 2807, 'stan': 2808, 'slip': 2809, 'scarecrow': 2810, 'catherin': 2811, 'portion': 2812, 'persona': 2813, 'assur': 2814, 'spark': 2815, 'librari': 2816, 'orient': 2817, 'philosoph': 2818, 'glover': 2819, 'inexplic': 2820, 'larger': 2821, 'superfici': 2822, 'denzel': 2823, 'territori': 2824, 'slaughter': 2825, 'doc': 2826, 'transit': 2827, 'minim': 2828, 'sneak': 2829, 'financi': 2830, 'pg': 2831, 'owe': 2832, 'ban': 2833, 'jeremi': 2834, 'jet': 2835, 'boredom': 2836, 'shi': 2837, 'wolf': 2838, 'curti': 2839, 'walken': 2840, 'dorothi': 2841, 'ambigu': 2842, 'hudson': 2843, 'metaphor': 2844, 'profound': 2845, 'backdrop': 2846, 'cusack': 2847, 'multi': 2848, 'whale': 2849, 'eleph': 2850, 'birthday': 2851, 'gadget': 2852, 'ultra': 2853, 'hack': 2854, 'elsewher': 2855, 'union': 2856, 'notion': 2857, 'implaus': 2858, 'viru': 2859, 'rave': 2860, '2005': 2861, 'stiff': 2862, '1st': 2863, 'urg': 2864, 'slight': 2865, 'pad': 2866, 'squar': 2867, 'distanc': 2868, 'deriv': 2869, 'reader': 2870, 'newspap': 2871, 'lloyd': 2872, 'poison': 2873, 'disc': 2874, 'afford': 2875, 'bibl': 2876, 'eastwood': 2877, 'eva': 2878, 'canada': 2879, 'superhero': 2880, 'hawk': 2881, 'button': 2882, 'huh': 2883, 'montag': 2884, 'cure': 2885, 'health': 2886, 'essenc': 2887, 'spread': 2888, 'sadist': 2889, 'charisma': 2890, 'drown': 2891, 'skit': 2892, 'heston': 2893, 'restaur': 2894, 'gradual': 2895, 'maniac': 2896, 'muslim': 2897, 'fetch': 2898, 'godfath': 2899, 'dealt': 2900, 'lab': 2901, 'companion': 2902, 'peak': 2903, 'invest': 2904, 'estat': 2905, 'scoobi': 2906, 'servant': 2907, 'kane': 2908, 'gothic': 2909, 'countless': 2910, 'ritter': 2911, 'tea': 2912, 'subtleti': 2913, 'alli': 2914, 'miik': 2915, 'cup': 2916, 'elect': 2917, 'charismat': 2918, 'iii': 2919, 'electr': 2920, 'salli': 2921, 'heroic': 2922, 'briefli': 2923, 'admittedli': 2924, 'toss': 2925, 'tender': 2926, 'cole': 2927, 'nuanc': 2928, 'reel': 2929, 'grandmoth': 2930, 'neil': 2931, 'bud': 2932, 'ingredi': 2933, 'wannab': 2934, 'resourc': 2935, 'poverti': 2936, 'gate': 2937, 'stood': 2938, 'reev': 2939, 'kubrick': 2940, 'punk': 2941, 'mild': 2942, 'pit': 2943, 'stronger': 2944, 'carrey': 2945, 'label': 2946, 'shall': 2947, 'mafia': 2948, 'dawson': 2949, 'pauli': 2950, 'assault': 2951, 'terri': 2952, 'cox': 2953, 'outcom': 2954, 'smooth': 2955, 'tag': 2956, 'cardboard': 2957, 'burst': 2958, 'fond': 2959, 'useless': 2960, 'ian': 2961, 'easier': 2962, 'bakshi': 2963, 'updat': 2964, 'smash': 2965, 'astair': 2966, 'qualifi': 2967, 'coincid': 2968, '2002': 2969, 'exchang': 2970, 'melodramat': 2971, 'increasingli': 2972, 'rex': 2973, 'samurai': 2974, 'fist': 2975, 'resolv': 2976, 'divers': 2977, 'vulner': 2978, 'vari': 2979, 'sketch': 2980, 'templ': 2981, 'suspend': 2982, 'brillianc': 2983, 'conveni': 2984, 'luckili': 2985, 'be': 2986, 'insert': 2987, 'reynold': 2988, 'tame': 2989, 'scratch': 2990, 'blast': 2991, 'soprano': 2992, 'coach': 2993, 'seventi': 2994, 'matthew': 2995, 'ambiti': 2996, 'pin': 2997, 'farm': 2998, 'gotta': 2999, 'strictli': 3000, 'walker': 3001, 'jami': 3002, 'meat': 3003, 'nuclear': 3004, 'hamilton': 3005, 'fisher': 3006, 'empir': 3007, 'clock': 3008, 'convolut': 3009, 'instantli': 3010, 'grasp': 3011, 'struck': 3012, 'recreat': 3013, 'brosnan': 3014, 'monk': 3015, 'worthless': 3016, 'kudo': 3017, 'cave': 3018, 'timeless': 3019, 'closet': 3020, 'revers': 3021, 'butcher': 3022, 'spooki': 3023, 'ninja': 3024, 'discoveri': 3025, 'joey': 3026, 'eccentr': 3027, 'evok': 3028, 'selfish': 3029, 'bleak': 3030, 'declar': 3031, 'fifteen': 3032, 'miracl': 3033, 'sloppi': 3034, 'wipe': 3035, 'partli': 3036, 'communist': 3037, 'importantli': 3038, 'sidekick': 3039, 'inconsist': 3040, 'cliff': 3041, 'pal': 3042, 'norman': 3043, 'mitchel': 3044, 'seller': 3045, 'clown': 3046, 'eighti': 3047, 'gray': 3048, 'destin': 3049, 'ho': 3050, 'superbl': 3051, 'psychiatrist': 3052, '45': 3053, 'flawless': 3054, 'stoog': 3055, 'chew': 3056, 'farc': 3057, 'cheek': 3058, 'enthusiast': 3059, 'australia': 3060, 'debat': 3061, 'websit': 3062, 'piano': 3063, 'aforement': 3064, 'lifestyl': 3065, 'seed': 3066, 'soviet': 3067, 'splatter': 3068, 'anni': 3069, 'akshay': 3070, 'kitchen': 3071, 'dire': 3072, 'directori': 3073, 'abc': 3074, 'dash': 3075, 'pressur': 3076, 'regardless': 3077, 'drivel': 3078, 'wick': 3079, 'wrestl': 3080, 'incompet': 3081, 'slice': 3082, 'bash': 3083, 'emili': 3084, 'cameron': 3085, 'blob': 3086, 'dave': 3087, 'artifici': 3088, 'duo': 3089, 'distant': 3090, 'helicopt': 3091, 'recov': 3092, 'prize': 3093, 'seduc': 3094, 'curios': 3095, 'judi': 3096, 'suppli': 3097, 'doo': 3098, 'increas': 3099, 'ken': 3100, 'boil': 3101, 'pleasantli': 3102, 'chapter': 3103, 'flower': 3104, 'jar': 3105, 'glow': 3106, 'beaten': 3107, 'cia': 3108, 'cagney': 3109, 'mann': 3110, 'lou': 3111, 'eleg': 3112, 'craven': 3113, 'splendid': 3114, 'favour': 3115, 'panic': 3116, 'craig': 3117, 'laurel': 3118, 'perri': 3119, 'web': 3120, 'combat': 3121, 'drunken': 3122, 'ranger': 3123, 'psychot': 3124, 'glenn': 3125, 'ellen': 3126, 'goldberg': 3127, 'francisco': 3128, 'turner': 3129, 'hop': 3130, 'greek': 3131, 'shortli': 3132, 'philosophi': 3133, 'graduat': 3134, 'rid': 3135, 'min': 3136, 'flip': 3137, '20th': 3138, 'fx': 3139, 'plausibl': 3140, 'ruth': 3141, 'slightest': 3142, 'falk': 3143, 'alexand': 3144, 'gandhi': 3145, 'wizard': 3146, 'hatr': 3147, 'gentl': 3148, 'modesti': 3149, 'knight': 3150, 'we': 3151, 'futurist': 3152, 'jealou': 3153, 'holi': 3154, 'manhattan': 3155, 'fund': 3156, 'harm': 3157, 'lend': 3158, 'legal': 3159, 'felix': 3160, 'tall': 3161, 'dracula': 3162, 'ocean': 3163, 'preciou': 3164, 'unpleas': 3165, 'reviv': 3166, 'forbidden': 3167, 'overdon': 3168, 'mock': 3169, 'digniti': 3170, 'thread': 3171, 'tank': 3172, 'childish': 3173, 'nod': 3174, 'bless': 3175, 'ami': 3176, 'scientif': 3177, 'giallo': 3178, 'explicit': 3179, 'mel': 3180, 'repeatedli': 3181, 'thick': 3182, 'torment': 3183, 'eve': 3184, 'pirat': 3185, 'unwatch': 3186, 'elderli': 3187, 'awaken': 3188, 'verhoeven': 3189, '2004': 3190, 'yesterday': 3191, 'margaret': 3192, 'nerv': 3193, 'broad': 3194, '99': 3195, 'awe': 3196, 'fever': 3197, 'publish': 3198, 'timothi': 3199, 'acclaim': 3200, 'ambit': 3201, 'launch': 3202, 'automat': 3203, 'royal': 3204, 'rivet': 3205, 'romero': 3206, 'lean': 3207, 'stiller': 3208, 'kay': 3209, 'eas': 3210, 'griffith': 3211, 'politician': 3212, 'custom': 3213, 'bin': 3214, 'uniform': 3215, 'absenc': 3216, 'ah': 3217, 'roman': 3218, 'termin': 3219, 'transport': 3220, 'crook': 3221, 'pulp': 3222, 'darker': 3223, 'sunshin': 3224, 'phrase': 3225, 'purpl': 3226, 'wallac': 3227, 'antic': 3228, 'warren': 3229, 'foul': 3230, 'bathroom': 3231, 'gabriel': 3232, 'stinker': 3233, 'homicid': 3234, 'pierc': 3235, 'tomato': 3236, 'marin': 3237, 'packag': 3238, 'contrari': 3239, 'sixti': 3240, 'rambo': 3241, 'coloni': 3242, '2003': 3243, 'hollow': 3244, 'revolutionari': 3245, 'li': 3246, 'album': 3247, 'pray': 3248, 'viciou': 3249, 'karen': 3250, 'prom': 3251, 'donna': 3252, 'horrid': 3253, 'awak': 3254, 'evolv': 3255, 'eyr': 3256, 'ought': 3257, 'q': 3258, 'kenneth': 3259, 'brazil': 3260, 'choreographi': 3261, 'saint': 3262, 'juvenil': 3263, 'boast': 3264, 'candid': 3265, 'mummi': 3266, 'blade': 3267, 'ireland': 3268, 'defi': 3269, 'twelv': 3270, 'conserv': 3271, 'overr': 3272, 'nerd': 3273, 'stole': 3274, 'option': 3275, 'dose': 3276, 'mildr': 3277, 'beatti': 3278, 'kapoor': 3279, 'ramon': 3280, 'collabor': 3281, 'astonish': 3282, 'detract': 3283, 'global': 3284, 'altman': 3285, 'trio': 3286, 'confirm': 3287, 'flame': 3288, 'kirk': 3289, 'funer': 3290, 'fulci': 3291, 'natali': 3292, 'jazz': 3293, 'protest': 3294, 'shade': 3295, 'spit': 3296, 'whip': 3297, 'audio': 3298, 'nicholson': 3299, 'blake': 3300, 'bottl': 3301, 'racial': 3302, 'leap': 3303, 'delici': 3304, 'tommi': 3305, 'yellow': 3306, 'destini': 3307, 'mystic': 3308, 'enterpris': 3309, 'bull': 3310, 'inherit': 3311, 'threw': 3312, 'merci': 3313, 'adolesc': 3314, 'vivid': 3315, 'harder': 3316, 'pseudo': 3317, 'fonda': 3318, 'altogeth': 3319, 'swedish': 3320, 'staff': 3321, 'todd': 3322, 'popcorn': 3323, 'enchant': 3324, 'bedroom': 3325, 'visibl': 3326, 'reunit': 3327, 'neo': 3328, 'meaningless': 3329, 'befriend': 3330, 'atlanti': 3331, 'suspici': 3332, 'decor': 3333, 'voight': 3334, 'leonard': 3335, 'respond': 3336, 'fanat': 3337, 'reserv': 3338, 'jew': 3339, 'wire': 3340, 'ruthless': 3341, 'lemmon': 3342, 'moodi': 3343, 'bust': 3344, 'synopsi': 3345, 'roommat': 3346, 'kennedi': 3347, 'lawrenc': 3348, 'madonna': 3349, 'exhibit': 3350, 'await': 3351, 'tip': 3352, 'uneven': 3353, 'edi': 3354, 'crocodil': 3355, 'garner': 3356, 'rural': 3357, 'voyag': 3358, 'incident': 3359, 'centr': 3360, '2007': 3361, 'unsettl': 3362, 'clumsi': 3363, 'dimens': 3364, 'carl': 3365, 'bradi': 3366, 'bold': 3367, 'abysm': 3368, 'clint': 3369, 'bargain': 3370, 'ventur': 3371, 'audit': 3372, 'holli': 3373, 'chao': 3374, 'palma': 3375, 'cd': 3376, '2nd': 3377, 'elimin': 3378, 'cuba': 3379, 'lit': 3380, 'wealth': 3381, 'versu': 3382, 'characterist': 3383, 'nearbi': 3384, 'timon': 3385, 'troop': 3386, 'neglect': 3387, 'ant': 3388, 'imperson': 3389, 'echo': 3390, 'daddi': 3391, 'acknowledg': 3392, 'poetic': 3393, 'tiger': 3394, 'hart': 3395, 'humili': 3396, 'immigr': 3397, 'mall': 3398, 'cari': 3399, 'trail': 3400, 'marshal': 3401, 'mistaken': 3402, 'saga': 3403, 'solo': 3404, 'domest': 3405, 'collaps': 3406, 'paus': 3407, 'pun': 3408, 'prejudic': 3409, 'infect': 3410, 'jeffrey': 3411, 'celluloid': 3412, 'mickey': 3413, 'repuls': 3414, 'homer': 3415, 'sore': 3416, 'promin': 3417, 'undoubtedli': 3418, 'coat': 3419, 'harvey': 3420, 'pant': 3421, 'olivi': 3422, '1996': 3423, 'cake': 3424, 'milk': 3425, 'interrupt': 3426, 'apolog': 3427, 'leon': 3428, 'inan': 3429, 'equip': 3430, 'assembl': 3431, 'coffe': 3432, 'hbo': 3433, 'gear': 3434, 'inappropri': 3435, 'chest': 3436, 'ginger': 3437, 'tribe': 3438, 'institut': 3439, 'airplan': 3440, 'consum': 3441, 'retain': 3442, 'furthermor': 3443, 'instant': 3444, 'humbl': 3445, 'solut': 3446, 'jenni': 3447, 'embrac': 3448, 'trace': 3449, 'pot': 3450, 'devast': 3451, 'vulgar': 3452, 'aveng': 3453, 'polanski': 3454, 'exot': 3455, 'colleagu': 3456, 'colonel': 3457, 'primari': 3458, 'highest': 3459, 'maggi': 3460, 'pen': 3461, 'florida': 3462, 'brooklyn': 3463, '3rd': 3464, 'descend': 3465, 'sale': 3466, 'dian': 3467, 'outer': 3468, 'wive': 3469, 'seduct': 3470, 'illog': 3471, 'ya': 3472, 'strain': 3473, 'linda': 3474, 'gender': 3475, '1999': 3476, 'dutch': 3477, 'principl': 3478, 'godzilla': 3479, 'smaller': 3480, 'poke': 3481, 'bowl': 3482, 'rick': 3483, 'cope': 3484, 'disabl': 3485, 'beneath': 3486, 'blatant': 3487, 'mixtur': 3488, 'yard': 3489, 'dive': 3490, 'rabbit': 3491, 'devoid': 3492, 'secondli': 3493, 'scope': 3494, 'gloriou': 3495, 'predecessor': 3496, 'vast': 3497, 'inferior': 3498, 'bubbl': 3499, 'primarili': 3500, 'cue': 3501, 'glamor': 3502, 'lol': 3503, 'hal': 3504, 'dud': 3505, 'gundam': 3506, 'et': 3507, 'alert': 3508, 'casual': 3509, 'senseless': 3510, 'simplist': 3511, 'disjoint': 3512, 'garbo': 3513, 'aggress': 3514, 'alfr': 3515, 'trademark': 3516, 'myer': 3517, 'invas': 3518, 'shirley': 3519, 'countrysid': 3520, 'museum': 3521, 'arab': 3522, 'talki': 3523, 'pearl': 3524, 'shelf': 3525, 'domino': 3526, 'hideou': 3527, 'breed': 3528, 'april': 3529, 'z': 3530, 'streep': 3531, 'grinch': 3532, 'boom': 3533, 'obtain': 3534, 'slide': 3535, 'robinson': 3536, 'defens': 3537, 'robberi': 3538, 'acid': 3539, 'sh': 3540, 'experiment': 3541, 'mayor': 3542, 'vanish': 3543, 'unhappi': 3544, 'disgrac': 3545, 'loyal': 3546, 'khan': 3547, 'rendit': 3548, 'stellar': 3549, 'mail': 3550, 'maci': 3551, 'hardcor': 3552, 'applaud': 3553, 'stack': 3554, 'hopeless': 3555, 'illeg': 3556, 'stir': 3557, 'uwe': 3558, 'oz': 3559, 'psychic': 3560, 'span': 3561, 'spider': 3562, 'craze': 3563, 'rifl': 3564, 'fri': 3565, 'blew': 3566, 'counter': 3567, 'dicken': 3568, 'incomprehens': 3569, 'wont': 3570, 'berlin': 3571, 'scroog': 3572, 'soccer': 3573, 'tempt': 3574, 'recruit': 3575, 'tenant': 3576, 'amanda': 3577, 'dismiss': 3578, 'topless': 3579, 'diana': 3580, 'declin': 3581, 'emphasi': 3582, 'grandfath': 3583, 'hartley': 3584, 'goer': 3585, 'parad': 3586, 'resurrect': 3587, 'shed': 3588, 'lumet': 3589, 'sibl': 3590, 'riot': 3591, 'ethnic': 3592, 'justin': 3593, 'revolt': 3594, 'intim': 3595, 'ration': 3596, 'sympath': 3597, 'porno': 3598, 'shaw': 3599, 'bitch': 3600, 'trashi': 3601, 'wet': 3602, 'faster': 3603, 'woo': 3604, 'niro': 3605, 'lena': 3606, 'rider': 3607, 'immort': 3608, 'honesti': 3609, 'unreal': 3610, 'wendi': 3611, 'hesit': 3612, 'commend': 3613, 'steam': 3614, 'biographi': 3615, 'region': 3616, 'weakest': 3617, 'ballet': 3618, 'feminist': 3619, 'partial': 3620, 'hopper': 3621, 'choru': 3622, '00': 3623, 'dealer': 3624, 'patriot': 3625, 'enlighten': 3626, 'nephew': 3627, 'ensur': 3628, 'slick': 3629, 'jonathan': 3630, 'mario': 3631, 'farmer': 3632, 'eager': 3633, 'wheel': 3634, 'gap': 3635, 'andr': 3636, 'worm': 3637, 'vice': 3638, 'safeti': 3639, 'wore': 3640, 'leo': 3641, 'repress': 3642, 'sappi': 3643, 'prequel': 3644, 'kingdom': 3645, 'owen': 3646, 'confin': 3647, 'composit': 3648, 'morri': 3649, 'sandra': 3650, 'properti': 3651, 'nostalg': 3652, 'charlott': 3653, 'util': 3654, 'hung': 3655, 'mutant': 3656, 'snap': 3657, 'franco': 3658, 'blunt': 3659, 'victori': 3660, 'psychopath': 3661, 'skull': 3662, 'similarli': 3663, 'macarthur': 3664, 'acquir': 3665, 'thru': 3666, 'deed': 3667, 'recycl': 3668, 'rocki': 3669, '1972': 3670, 'repli': 3671, 'tad': 3672, 'despair': 3673, 'rope': 3674, 'strand': 3675, 'nervou': 3676, 'bumbl': 3677, 'compass': 3678, 'del': 3679, 'exit': 3680, 'speci': 3681, 'emperor': 3682, 'dust': 3683, 'heartbreak': 3684, 'latin': 3685, 'drain': 3686, 'drum': 3687, 'miseri': 3688, 'dalton': 3689, 'bonu': 3690, 'bow': 3691, 'bergman': 3692, 'tail': 3693, 'rambl': 3694, 'farrel': 3695, 'compens': 3696, 'kyle': 3697, 'snl': 3698, 'campbel': 3699, 'pattern': 3700, 'whoopi': 3701, 'cg': 3702, 'hyde': 3703, 'valuabl': 3704, 'montana': 3705, 'radic': 3706, 'carradin': 3707, 'percept': 3708, 'orson': 3709, 'wacki': 3710, 'martian': 3711, 'downhil': 3712, 'rapist': 3713, 'gimmick': 3714, 'roth': 3715, 'chess': 3716, 'rotten': 3717, 'contempl': 3718, 'pour': 3719, 'tonight': 3720, 'mistress': 3721, 'airport': 3722, 'gal': 3723, '35': 3724, 'bleed': 3725, 'da': 3726, 'slug': 3727, 'olli': 3728, 'romp': 3729, 'oppress': 3730, 'pervert': 3731, 'pervers': 3732, 'heal': 3733, 'dazzl': 3734, 'shelley': 3735, 'arguabl': 3736, 'belt': 3737, 'tackl': 3738, 'preach': 3739, 'attorney': 3740, 'taught': 3741, 'pursuit': 3742, 'stilt': 3743, 'slash': 3744, 'unpredict': 3745, 'paltrow': 3746, 'banal': 3747, 'melodi': 3748, 'programm': 3749, 'edgar': 3750, '1983': 3751, 'arc': 3752, 'mislead': 3753, 'champion': 3754, 'tooth': 3755, 'uplift': 3756, 'poem': 3757, 'duval': 3758, 'cleverli': 3759, 'franki': 3760, 'orang': 3761, 'employe': 3762, 'raymond': 3763, 'vocal': 3764, 'chicken': 3765, 'vengeanc': 3766, 'mesmer': 3767, 'dixon': 3768, 'graham': 3769, 'plight': 3770, 'passeng': 3771, 'tiresom': 3772, 'closest': 3773, 'sensat': 3774, 'bela': 3775, 'virginia': 3776, 'maid': 3777, 'rubi': 3778, 'gambl': 3779, 'conneri': 3780, 'marti': 3781, 'swallow': 3782, 'convincingli': 3783, 'calm': 3784, 'scottish': 3785, 'volum': 3786, 'amitabh': 3787, 'mute': 3788, '1968': 3789, 'clone': 3790, 'outing': 3791, 'sirk': 3792, 'gerard': 3793, 'secretli': 3794, 'climact': 3795, 'extens': 3796, 'engross': 3797, 'monologu': 3798, 'whine': 3799, 'abraham': 3800, 'habit': 3801, 'yawn': 3802, 'profan': 3803, 'lundgren': 3804, 'inject': 3805, 'bay': 3806, 'numb': 3807, 'quarter': 3808, 'suffic': 3809, 'tube': 3810, 'iran': 3811, 'crystal': 3812, 'giggl': 3813, 'paranoia': 3814, 'pokemon': 3815, 'profess': 3816, 'expand': 3817, 'ethan': 3818, 'surpass': 3819, 'frankenstein': 3820, 'abort': 3821, 'nichola': 3822, 'chicago': 3823, 'spock': 3824, 'plod': 3825, 'dispos': 3826, 'richardson': 3827, 'backward': 3828, 'im': 3829, 'bend': 3830, 'austen': 3831, 'septemb': 3832, 'underst': 3833, 'lowest': 3834, 'junior': 3835, 'fed': 3836, 'trend': 3837, 'poetri': 3838, 'linger': 3839, 'franci': 3840, 'meander': 3841, 'earl': 3842, 'grotesqu': 3843, 'taxi': 3844, 'instrument': 3845, 'sue': 3846, 'lure': 3847, 'muddl': 3848, 'hum': 3849, 'household': 3850, 'econom': 3851, 'literatur': 3852, 'cannon': 3853, 'tourist': 3854, 'der': 3855, 'eugen': 3856, 'spoke': 3857, 'stallon': 3858, 'dysfunct': 3859, 'rant': 3860, 'catchi': 3861, 'greedi': 3862, 'myth': 3863, 'descent': 3864, 'compliment': 3865, 'waitress': 3866, 'simplic': 3867, 'nostalgia': 3868, 'mundan': 3869, 'rubber': 3870, 'irrelev': 3871, 'mankind': 3872, 'insur': 3873, 'bacal': 3874, 'phoni': 3875, 'alongsid': 3876, 'cent': 3877, 'damon': 3878, 'coast': 3879, 'firstli': 3880, 'dictat': 3881, 'furi': 3882, 'crucial': 3883, 'sissi': 3884, 'dement': 3885, 'phantom': 3886, 'june': 3887, 'duck': 3888, 'lang': 3889, 'molli': 3890, 'recognit': 3891, 'mortal': 3892, 'hello': 3893, 'louis': 3894, 'omen': 3895, 'recognis': 3896, 'occupi': 3897, 'equival': 3898, 'eaten': 3899, 'carel': 3900, 'flee': 3901, 'stale': 3902, 'map': 3903, 'randi': 3904, 'deaf': 3905, 'loyalti': 3906, 'twilight': 3907, 'reign': 3908, 'freez': 3909, 'heel': 3910, 'lengthi': 3911, 'daisi': 3912, 'biko': 3913, 'onlin': 3914, 'ashley': 3915, 'rude': 3916, 'rooney': 3917, 'drake': 3918, 'dreari': 3919, 'blackmail': 3920, 'grayson': 3921, 'labor': 3922, 'bump': 3923, 'newli': 3924, 'wisdom': 3925, 'likewis': 3926, 'cyborg': 3927, 'distinguish': 3928, '1973': 3929, 'bike': 3930, 'buffalo': 3931, 'antwon': 3932, 'damm': 3933, 'inher': 3934, 'vein': 3935, 'startl': 3936, 'nineti': 3937, 'exposur': 3938, 'unorigin': 3939, 'provoc': 3940, 'incorpor': 3941, 'attribut': 3942, 'interior': 3943, 'chronicl': 3944, 'prey': 3945, 'approv': 3946, 'emphas': 3947, 'butler': 3948, 'ridden': 3949, 'proce': 3950, 'baddi': 3951, 'basketbal': 3952, 'boxer': 3953, 'pink': 3954, 'analysi': 3955, 'tunnel': 3956, 'worn': 3957, 'sailor': 3958, 'barrymor': 3959, 'keith': 3960, 'indiffer': 3961, 'substitut': 3962, 'condemn': 3963, 'simmon': 3964, 'belushi': 3965, 'improvis': 3966, 'barrel': 3967, 'degrad': 3968, 'stalker': 3969, 'predat': 3970, 'bunni': 3971, 'hypnot': 3972, 'robbin': 3973, 'underli': 3974, 'millionair': 3975, 'nicol': 3976, 'elm': 3977, 'meyer': 3978, 'walsh': 3979, 'undeni': 3980, 'julian': 3981, 'unrel': 3982, 'er': 3983, 'drift': 3984, 'mighti': 3985, 'othello': 3986, 'fleet': 3987, 'carla': 3988, 'meg': 3989, 'mormon': 3990, 'edgi': 3991, 'nyc': 3992, 'shove': 3993, 'novak': 3994, 'roof': 3995, 'greed': 3996, 'vital': 3997, 'agenda': 3998, 'unawar': 3999, 'exquisit': 4000, 'alarm': 4001, 'priceless': 4002, 'warmth': 4003, 'disord': 4004, 'hay': 4005, 'rukh': 4006, 'watson': 4007, 'enthusiasm': 4008, 'dolph': 4009, 'palac': 4010, 'mtv': 4011, 'marion': 4012, 'firm': 4013, 'reid': 4014, 'lampoon': 4015, 'alison': 4016, 'errol': 4017, '3d': 4018, 'thompson': 4019, 'coup': 4020, 'gestur': 4021, 'randomli': 4022, 'testament': 4023, 'preserv': 4024, 'pamela': 4025, 'championship': 4026, 'campaign': 4027, 'minimum': 4028, 'beatl': 4029, 'spain': 4030, 'showdown': 4031, 'what': 4032, 'peck': 4033, 'simultan': 4034, 'peril': 4035, 'angela': 4036, 'eastern': 4037, 'cassidi': 4038, 'petti': 4039, '1933': 4040, 'nun': 4041, 'session': 4042, 'unleash': 4043, '13th': 4044, 'crown': 4045, 'sergeant': 4046, 'profit': 4047, 'ponder': 4048, 'iraq': 4049, 'drip': 4050, 'distort': 4051, 'orlean': 4052, 'israel': 4053, 'glanc': 4054, 'valentin': 4055, 'zizek': 4056, 'crow': 4057, 'stroke': 4058, 'exposit': 4059, 'cream': 4060, 'reson': 4061, 'represent': 4062, 'quinn': 4063, 'realm': 4064, 'climat': 4065, '1984': 4066, 'travesti': 4067, 'buster': 4068, 'empathi': 4069, 'kurosawa': 4070, 'crawl': 4071, 'regist': 4072, 'valley': 4073, 'rout': 4074, 'stake': 4075, 'calib': 4076, 'perpetu': 4077, 'jan': 4078, 'wig': 4079, 'restrain': 4080, 'unimagin': 4081, 'miyazaki': 4082, 'gentleman': 4083, 'sabrina': 4084, 'scotland': 4085, 'contradict': 4086, 'brenda': 4087, 'bro': 4088, 'shootout': 4089, 'din': 4090, 'cooki': 4091, 'han': 4092, 'mon': 4093, 'fido': 4094, 'monoton': 4095, 'delic': 4096, 'perceiv': 4097, 'absent': 4098, 'unsatisfi': 4099, 'compromis': 4100, 'censor': 4101, 'stargat': 4102, '1987': 4103, 'dana': 4104, 'ross': 4105, 'soderbergh': 4106, 'derang': 4107, 'sucker': 4108, 'shaki': 4109, 'pretens': 4110, 'distress': 4111, 'baldwin': 4112, 'painter': 4113, 'passabl': 4114, 'femm': 4115, '1997': 4116, 'businessman': 4117, 'sammi': 4118, 'wax': 4119, 'josh': 4120, 'spacey': 4121, 'ustinov': 4122, 'demis': 4123, 'cloud': 4124, 'geek': 4125, 'mclaglen': 4126, 'abomin': 4127, 'greg': 4128, 'darren': 4129, 'tacki': 4130, 'meryl': 4131, 'traumat': 4132, 'warrant': 4133, 'unseen': 4134, 'shoddi': 4135, 'pole': 4136, 'fuller': 4137, 'crawford': 4138, 'deceas': 4139, 'exclus': 4140, '1993': 4141, 'fog': 4142, 'tarantino': 4143, 'verbal': 4144, 'fenc': 4145, 'unravel': 4146, 'accuraci': 4147, 'nathan': 4148, 'anchor': 4149, 'reluct': 4150, 'austin': 4151, 'tech': 4152, 'sid': 4153, 'judgment': 4154, 'correctli': 4155, 'norm': 4156, 'seal': 4157, 'polici': 4158, 'clash': 4159, 'primit': 4160, 'jewel': 4161, 'uncov': 4162, 'wholli': 4163, 'dee': 4164, 'deniro': 4165, 'expedit': 4166, 'furiou': 4167, 'click': 4168, 'valid': 4169, 'kumar': 4170, 'antonioni': 4171, 'temper': 4172, 'nicola': 4173, 'seldom': 4174, 'pocket': 4175, 'sustain': 4176, 'fart': 4177, 'behold': 4178, 'conduct': 4179, 'debt': 4180, 'wretch': 4181, 'vanc': 4182, 'ritual': 4183, 'enforc': 4184, 'tax': 4185, 'sand': 4186, 'unfair': 4187, 'crippl': 4188, 'shanghai': 4189, 'bake': 4190, 'hallucin': 4191, 'malon': 4192, 'fabric': 4193, 'fought': 4194, 'roller': 4195, 'logan': 4196, '1995': 4197, 'patienc': 4198, 'sheet': 4199, 'clerk': 4200, 'joel': 4201, 'wang': 4202, 'darn': 4203, '3000': 4204, 'trait': 4205, 'murray': 4206, '1971': 4207, 'slam': 4208, 'sunni': 4209, '2008': 4210, 'dreck': 4211, 'mode': 4212, 'alec': 4213, 'conscious': 4214, 'sweep': 4215, 'exhaust': 4216, 'bias': 4217, 'legaci': 4218, 'penni': 4219, 'grief': 4220, 'canyon': 4221, 'stuart': 4222, 'phil': 4223, 'rita': 4224, 'clau': 4225, 'shell': 4226, 'guitar': 4227, 'helpless': 4228, 'scriptwrit': 4229, 'critiqu': 4230, 'preposter': 4231, 'fundament': 4232, 'tactic': 4233, 'robber': 4234, 'soup': 4235, 'pete': 4236, 'schedul': 4237, 'squad': 4238, 'despis': 4239, 'outlin': 4240, 'isabel': 4241, 'technicolor': 4242, 'bridget': 4243, 'preston': 4244, 'divid': 4245, 'stark': 4246, 'runner': 4247, 'liberti': 4248, 'restrict': 4249, 'inabl': 4250, 'kansa': 4251, 'propos': 4252, 'newman': 4253, 'marc': 4254, 'drove': 4255, 'agenc': 4256, 'vomit': 4257, 'invad': 4258, 'alicia': 4259, 'delv': 4260, 'alley': 4261, 'flair': 4262, 'unexpectedli': 4263, 'jacket': 4264, 'bloom': 4265, 'jodi': 4266, 'cigarett': 4267, 'rehash': 4268, 'lacklust': 4269, 'sentinel': 4270, 'culmin': 4271, 'palanc': 4272, 'passag': 4273, 'consciou': 4274, 'connor': 4275, 'sugar': 4276, 'downey': 4277, 'implic': 4278, 'russia': 4279, 'sniper': 4280, 'gregori': 4281, 'boyl': 4282, 'rear': 4283, '22': 4284, 'tripe': 4285, 'mccoy': 4286, 'aesthet': 4287, 'chainsaw': 4288, 'behaviour': 4289, 'rehears': 4290, 'cap': 4291, 'tendenc': 4292, '1936': 4293, 'improb': 4294, 'wrench': 4295, 'awhil': 4296, 'rampag': 4297, 'lush': 4298, 'sharon': 4299, 'rod': 4300, 'arrow': 4301, 'pale': 4302, 'delet': 4303, 'feat': 4304, 'horn': 4305, 'karl': 4306, 'asylum': 4307, 'ladder': 4308, 'vet': 4309, 'bacon': 4310, 'yeti': 4311, 'foxx': 4312, 'kolchak': 4313, 'loneli': 4314, 'hulk': 4315, 'filler': 4316, 'newcom': 4317, 'wildli': 4318, 'visitor': 4319, 'amazon': 4320, 'stream': 4321, 'hungri': 4322, 'basing': 4323, '1978': 4324, 'shortcom': 4325, 'financ': 4326, 'minu': 4327, 'tasteless': 4328, 'rhythm': 4329, 'paramount': 4330, 'spice': 4331, 'aristocrat': 4332, 'sung': 4333, 'fright': 4334, '19th': 4335, 'paradis': 4336, '1920': 4337, 'suffici': 4338, '1988': 4339, 'weav': 4340, 'globe': 4341, 'coaster': 4342, 'scoop': 4343, 'prank': 4344, 'tomorrow': 4345, 'underneath': 4346, 'suspicion': 4347, 'conscienc': 4348, 'lurk': 4349, 'hackney': 4350, 'elit': 4351, 'rumor': 4352, 'wagner': 4353, 'el': 4354, 'thunderbird': 4355, 'immers': 4356, 'iv': 4357, 'ingeni': 4358, 'bread': 4359, 'chavez': 4360, 'worship': 4361, 'paxton': 4362, 'straightforward': 4363, 'entranc': 4364, 'curli': 4365, 'tierney': 4366, 'en': 4367, 'couch': 4368, 'teas': 4369, 'inmat': 4370, 'penn': 4371, 'atroc': 4372, 'naughti': 4373, 'literari': 4374, 'impos': 4375, 'abrupt': 4376, 'chamberlain': 4377, 'counterpart': 4378, 'leigh': 4379, '1939': 4380, 'dirt': 4381, 'grudg': 4382, 'heist': 4383, 'recogniz': 4384, 'rub': 4385, 'cancer': 4386, 'beverli': 4387, 'springer': 4388, 'hopkin': 4389, 'ram': 4390, 'brit': 4391, 'secondari': 4392, 'wwe': 4393, '75': 4394, 'choppi': 4395, 'posey': 4396, 'lectur': 4397, '1989': 4398, 'smell': 4399, 'minist': 4400, 'quietli': 4401, 'standout': 4402, 'yearn': 4403, 'morbid': 4404, 'clan': 4405, 'convert': 4406, 'nemesi': 4407, 'watcher': 4408, 'lindsay': 4409, 'quaid': 4410, 'skeptic': 4411, 'misguid': 4412, 'injuri': 4413, 'sassi': 4414, 'attenborough': 4415, 'heartfelt': 4416, 'entitl': 4417, 'sublim': 4418, 'net': 4419, 'enthral': 4420, 'missil': 4421, 'moreov': 4422, 'duel': 4423, 'cattl': 4424, 'laurenc': 4425, 'variat': 4426, '1986': 4427, 'bernard': 4428, 'policeman': 4429, 'ace': 4430, 'ratso': 4431, 'nolan': 4432, 'geni': 4433, 'esther': 4434, 'transcend': 4435, 'reliabl': 4436, 'mytholog': 4437, 'diari': 4438, 'tyler': 4439, 'rosemari': 4440, 'graini': 4441, 'hk': 4442, 'moder': 4443, 'facil': 4444, 'buzz': 4445, 'vader': 4446, 'steadi': 4447, 'grin': 4448, 'hopelessli': 4449, 'characteris': 4450, 'poe': 4451, 'egg': 4452, 'spiral': 4453, 'artsi': 4454, 'carlito': 4455, 'kitti': 4456, 'setup': 4457, 'youngest': 4458, 'kidman': 4459, '1979': 4460, 'cruelti': 4461, 'brood': 4462, 'unexplain': 4463, 'uncut': 4464, 'puppi': 4465, 'out': 4466, 'enabl': 4467, 'dont': 4468, 'obstacl': 4469, 'bean': 4470, 'bye': 4471, 'fuel': 4472, 'acquaint': 4473, 'heap': 4474, 'hain': 4475, 'hammi': 4476, 'kline': 4477, 'bronson': 4478, 'niec': 4479, 'preming': 4480, 'oblig': 4481, 'narrow': 4482, 'despic': 4483, 'underworld': 4484, 'clueless': 4485, 'baffl': 4486, 'disastr': 4487, 'effici': 4488, 'exterior': 4489, 'gina': 4490, 'weather': 4491, 'athlet': 4492, 'bewar': 4493, 'patricia': 4494, 'sweat': 4495, 'bounc': 4496, 'brendan': 4497, 'decept': 4498, 'spontan': 4499, 'christin': 4500, '1969': 4501, 'martha': 4502, 'gillian': 4503, 'trigger': 4504, 'fontain': 4505, 'taboo': 4506, 'scar': 4507, 'candl': 4508, 'suprem': 4509, '19': 4510, 'loath': 4511, 'goof': 4512, 'tick': 4513, 'dilemma': 4514, 'dandi': 4515, 'virtu': 4516, 'shatter': 4517, 'insipid': 4518, 'housewif': 4519, 'circu': 4520, 'rome': 4521, 'mermaid': 4522, 'angst': 4523, 'analyz': 4524, 'renaiss': 4525, 'harmless': 4526, 'mayhem': 4527, 'preachi': 4528, 'sleepwalk': 4529, 'headach': 4530, 'outlaw': 4531, 'lester': 4532, 'injur': 4533, 'sooner': 4534, 'biker': 4535, 'loi': 4536, 'enlist': 4537, 'viewpoint': 4538, 'uh': 4539, 'astound': 4540, '73': 4541, 'hepburn': 4542, 'intric': 4543, 'redund': 4544, 'surgeri': 4545, 'phenomenon': 4546, 'steer': 4547, 'gere': 4548, 'oldest': 4549, 'hokey': 4550, 'fluff': 4551, 'contempt': 4552, 'macho': 4553, 'bent': 4554, 'dish': 4555, 'camcord': 4556, 'idol': 4557, 'hooker': 4558, 'spade': 4559, 'immatur': 4560, 'cassavet': 4561, 'amor': 4562, 'stair': 4563, 'foolish': 4564, 'stimul': 4565, 'ariel': 4566, 'scorses': 4567, 'filth': 4568, 'whore': 4569, 'hostag': 4570, 'glorifi': 4571, 'zoom': 4572, 'tripl': 4573, 'salt': 4574, 'ebert': 4575, 'corbett': 4576, 'sox': 4577, 'boston': 4578, 'overlong': 4579, 'slimi': 4580, 'claustrophob': 4581, 'guin': 4582, 'dismal': 4583, 'dwarf': 4584, 'transplant': 4585, 'harold': 4586, 'shred': 4587, 'assert': 4588, 'astronaut': 4589, 'muscl': 4590, 'radiat': 4591, 'zane': 4592, 'perman': 4593, 'trivia': 4594, 'mount': 4595, 'strongest': 4596, 'cow': 4597, 'frantic': 4598, 'flirt': 4599, 'flashi': 4600, 'alvin': 4601, 'schlock': 4602, 'conquer': 4603, 'corman': 4604, 'faint': 4605, 'antagonist': 4606, 'obligatori': 4607, 'spree': 4608, 'margin': 4609, 'flag': 4610, 'cush': 4611, 'remad': 4612, 'rhyme': 4613, 'widescreen': 4614, 'proport': 4615, 'messi': 4616, '1976': 4617, 'beard': 4618, 'gabl': 4619, 'preced': 4620, 'fascist': 4621, 'keen': 4622, 'spinal': 4623, 'shield': 4624, 'gasp': 4625, 'nolt': 4626, 'cohen': 4627, 'mutual': 4628, 'joker': 4629, 'down': 4630, '1981': 4631, 'naschi': 4632, 'divin': 4633, 'discern': 4634, 'brush': 4635, 'vaniti': 4636, 'archiv': 4637, 'flock': 4638, 'ritchi': 4639, 'off': 4640, 'wield': 4641, 'instruct': 4642, 'sensual': 4643, 'bachelor': 4644, 'mol': 4645, 'repris': 4646, 'scandal': 4647, 'fishburn': 4648, 'someday': 4649, 'carey': 4650, 'www': 4651, 'neurot': 4652, 'claud': 4653, 'inflict': 4654, 'triangl': 4655, 'danish': 4656, 'info': 4657, '1945': 4658, 'persuad': 4659, 'bitten': 4660, '28': 4661, 'deer': 4662, '95': 4663, 'hara': 4664, 'boob': 4665, 'strive': 4666, 'mobil': 4667, 'interestingli': 4668, 'resum': 4669, 'barn': 4670, 'departur': 4671, 'raj': 4672, 'aborigin': 4673, 'vibrant': 4674, 'submit': 4675, 'pickford': 4676, 'colin': 4677, 'pacif': 4678, 'miracul': 4679, 'dim': 4680, 'axe': 4681, 'proclaim': 4682, 'casino': 4683, 'biblic': 4684, 'fragil': 4685, 'hug': 4686, 'mobster': 4687, 'cb': 4688, 'banter': 4689, 'hapless': 4690, 'bate': 4691, 'dame': 4692, 'traffic': 4693, 'artwork': 4694, 'recit': 4695, 'senior': 4696, 'clad': 4697, 'luka': 4698, 'frontier': 4699, 'earnest': 4700, 'heartwarm': 4701, 'undermin': 4702, 'helm': 4703, 'melissa': 4704, 'timberlak': 4705, 'dylan': 4706, 'ish': 4707, 'neill': 4708, 'hilar': 4709, 'harrison': 4710, 'wendigo': 4711, 'cycl': 4712, 'cliffhang': 4713, 'prophet': 4714, 'loretta': 4715, 'jade': 4716, 'rot': 4717, 'carlo': 4718, 'parson': 4719, 'kathryn': 4720, 'cher': 4721, 'pixar': 4722, 'anton': 4723, 'europa': 4724, 'mathieu': 4725, 'cerebr': 4726, 'nope': 4727, 'razor': 4728, 'holocaust': 4729, 'mason': 4730, 'orphan': 4731, 'akin': 4732, 'marlon': 4733, 'lucil': 4734, 'choke': 4735, 'vile': 4736, 'illus': 4737, 'venom': 4738, 'toronto': 4739, 'blatantli': 4740, 'sicken': 4741, 'wardrob': 4742, 'lui': 4743, 'legitim': 4744, 'feast': 4745, 'articl': 4746, 'aris': 4747, 'token': 4748, 'http': 4749, 'seedi': 4750, 'antholog': 4751, 'static': 4752, 'jo': 4753, 'northern': 4754, 'pc': 4755, 'misfortun': 4756, 'redneck': 4757, 'flavor': 4758, 'bikini': 4759, 'vanessa': 4760, 'rooki': 4761, 'isra': 4762, 'eli': 4763, 'estrang': 4764, 'foil': 4765, 'shepherd': 4766, 'breakfast': 4767, 'bondag': 4768, 'jordan': 4769, 'milo': 4770, 'uma': 4771, 'electron': 4772, 'winchest': 4773, 'trier': 4774, 'alexandr': 4775, 'deem': 4776, 'peer': 4777, 'swept': 4778, 'cartoonish': 4779, 'disregard': 4780, 'turd': 4781, 'clinic': 4782, 'shorter': 4783, 'fifth': 4784, 'glare': 4785, 'gilbert': 4786, 'huston': 4787, 'feminin': 4788, 'ceremoni': 4789, 'knightley': 4790, 'highway': 4791, 'abund': 4792, 'psych': 4793, 'dudley': 4794, 'tack': 4795, 'ideolog': 4796, 'magician': 4797, 'retriev': 4798, 'outdat': 4799, 'comprehend': 4800, 'linear': 4801, 'leather': 4802, 'styliz': 4803, 'oppon': 4804, 'frog': 4805, 'charlton': 4806, 'audrey': 4807, 'gunga': 4808, 'affleck': 4809, 'smack': 4810, 'boyer': 4811, 'howl': 4812, 'nightclub': 4813, 'wrestler': 4814, 'toe': 4815, 'lavish': 4816, 'monument': 4817, 'whack': 4818, 'lighter': 4819, 'collector': 4820, 'spawn': 4821, '1991': 4822, 'newer': 4823, 'deliver': 4824, 'summar': 4825, 'moe': 4826, 'plate': 4827, 'cemeteri': 4828, 'tara': 4829, 'durat': 4830, 'chip': 4831, 'energet': 4832, 'spine': 4833, '1994': 4834, 'sleaz': 4835, 'breakdown': 4836, 'bastard': 4837, 'greet': 4838, 'btw': 4839, 'snatch': 4840, 'lifeless': 4841, 'cuban': 4842, 'salman': 4843, 'phenomen': 4844, 'client': 4845, 'braveheart': 4846, 'potter': 4847, 'corn': 4848, 'compris': 4849, '4th': 4850, 'boo': 4851, 'uniformli': 4852, 'evolut': 4853, 'mitch': 4854, 'conrad': 4855, 'senat': 4856, 'einstein': 4857, 'goldsworthi': 4858, 'bogu': 4859, 'constitut': 4860, 'ol': 4861, 'signal': 4862, 'trauma': 4863, 'capot': 4864, 'luxuri': 4865, 'neatli': 4866, 'occup': 4867, 'ie': 4868, '1974': 4869, 'spectacl': 4870, 'historian': 4871, 'belli': 4872, 'appl': 4873, 'firmli': 4874, 'healthi': 4875, 'jule': 4876, 'bulk': 4877, 'inaccuraci': 4878, 'eleven': 4879, 'randolph': 4880, 'gilliam': 4881, 'replay': 4882, 'jam': 4883, 'jedi': 4884, 'liu': 4885, 'evelyn': 4886, 'sorrow': 4887, 'judd': 4888, 'armstrong': 4889, 'bori': 4890, 'clara': 4891, 'kent': 4892, 'fluid': 4893, '1977': 4894, 'alleg': 4895, 'embark': 4896, 'lex': 4897, 'cecil': 4898, 'undead': 4899, 'mcqueen': 4900, 'wtf': 4901, 'outright': 4902, 'jare': 4903, 'undertak': 4904, 'pronounc': 4905, 'creek': 4906, 'nina': 4907, 'kazan': 4908, 'subtli': 4909, '1985': 4910, 'comprehens': 4911, 'miniseri': 4912, 'sidewalk': 4913, 'vain': 4914, 'lauren': 4915, 'inclus': 4916, 'blur': 4917, 'pepper': 4918, 'truman': 4919, 'miami': 4920, 'palm': 4921, 'vignett': 4922, 'comb': 4923, 'congratul': 4924, 'walt': 4925, 'poker': 4926, 'ash': 4927, 'antonio': 4928, 'spray': 4929, 'bait': 4930, 'carmen': 4931, 'porter': 4932, 'decapit': 4933, 'bsg': 4934, 'mum': 4935, 'fruit': 4936, 'meal': 4937, 'pioneer': 4938, 'roar': 4939, 'unattract': 4940, 'relentless': 4941, 'aussi': 4942, 'inaccur': 4943, 'knee': 4944, 'kiddi': 4945, 'tokyo': 4946, 'conan': 4947, 'galaxi': 4948, 'forgiven': 4949, 'rosario': 4950, 'curtain': 4951, 'unsuspect': 4952, 'goldblum': 4953, 'abound': 4954, 'groan': 4955, 'id': 4956, 'basket': 4957, 'paula': 4958, 'genet': 4959, 'cape': 4960, 'propheci': 4961, 'lanc': 4962, 'sacrif': 4963, 'victorian': 4964, 'substanti': 4965, 'bravo': 4966, 'frontal': 4967, 'turtl': 4968, 'modest': 4969, 'scarfac': 4970, 'asset': 4971, 'weaker': 4972, 'weari': 4973, 'assort': 4974, 'macabr': 4975, 'orchestr': 4976, 'detach': 4977, 'jill': 4978, 'hostil': 4979, 'ghetto': 4980, 'bach': 4981, 'sophi': 4982, 'hackman': 4983, 'profil': 4984, 'playboy': 4985, 'epitom': 4986, 'reincarn': 4987, 'sparkl': 4988, 'vastli': 4989, 'handicap': 4990, '21st': 4991, 'dubiou': 4992, 'motorcycl': 4993, 'ingrid': 4994, 'evan': 4995, 'spill': 4996, 'growth': 4997, 'optimist': 4998, 'incorrect': 4999}\n"
     ]
    }
   ],
   "source": [
    "# TODO: Use this space to determine the five most frequently appearing words in the training set.\n",
    "print(word_dict)"
   ]
  },
  {
   "cell_type": "markdown",
   "metadata": {},
   "source": [
    "### Save `word_dict`\n",
    "\n",
    "Later on when we construct an endpoint which processes a submitted review we will need to make use of the `word_dict` which we have created. As such, we will save it to a file now for future use."
   ]
  },
  {
   "cell_type": "code",
   "execution_count": 46,
   "metadata": {},
   "outputs": [],
   "source": [
    "data_dir = '../data/pytorch' # The folder we will use for storing data\n",
    "if not os.path.exists(data_dir): # Make sure that the folder exists\n",
    "    os.makedirs(data_dir)"
   ]
  },
  {
   "cell_type": "code",
   "execution_count": 47,
   "metadata": {},
   "outputs": [],
   "source": [
    "with open(os.path.join(data_dir, 'word_dict.pkl'), \"wb\") as f:\n",
    "    pickle.dump(word_dict, f)"
   ]
  },
  {
   "cell_type": "markdown",
   "metadata": {},
   "source": [
    "### Transform the reviews\n",
    "\n",
    "Now that we have our word dictionary which allows us to transform the words appearing in the reviews into integers, it is time to make use of it and convert our reviews to their integer sequence representation, making sure to pad or truncate to a fixed length, which in our case is `500`."
   ]
  },
  {
   "cell_type": "code",
   "execution_count": 48,
   "metadata": {},
   "outputs": [],
   "source": [
    "def convert_and_pad(word_dict, sentence, pad=500):\n",
    "    NOWORD = 0 # We will use 0 to represent the 'no word' category\n",
    "    INFREQ = 1 # and we use 1 to represent the infrequent words, i.e., words not appearing in word_dict\n",
    "    \n",
    "    working_sentence = [NOWORD] * pad\n",
    "    \n",
    "    for word_index, word in enumerate(sentence[:pad]):\n",
    "        if word in word_dict:\n",
    "            working_sentence[word_index] = word_dict[word]\n",
    "        else:\n",
    "            working_sentence[word_index] = INFREQ\n",
    "            \n",
    "    return working_sentence, min(len(sentence), pad)\n",
    "\n",
    "def convert_and_pad_data(word_dict, data, pad=500):\n",
    "    result = []\n",
    "    lengths = []\n",
    "    \n",
    "    for sentence in data:\n",
    "        converted, leng = convert_and_pad(word_dict, sentence, pad)\n",
    "        result.append(converted)\n",
    "        lengths.append(leng)\n",
    "        \n",
    "    return np.array(result), np.array(lengths)"
   ]
  },
  {
   "cell_type": "code",
   "execution_count": 49,
   "metadata": {},
   "outputs": [],
   "source": [
    "train_X, train_X_len = convert_and_pad_data(word_dict, train_X)\n",
    "test_X, test_X_len = convert_and_pad_data(word_dict, test_X)"
   ]
  },
  {
   "cell_type": "markdown",
   "metadata": {},
   "source": [
    "As a quick check to make sure that things are working as intended, check to see what one of the reviews in the training set looks like after having been processeed. Does this look reasonable? What is the length of a review in the training set?"
   ]
  },
  {
   "cell_type": "code",
   "execution_count": 50,
   "metadata": {},
   "outputs": [
    {
     "name": "stdout",
     "output_type": "stream",
     "text": [
      "500\n",
      "[ 456   30    2  460  291   28    6   12  456   12  209  721 2416 4784\n",
      "    6   17 1621   61 3296  117 1850  132   68 1267  747  247 1733  835\n",
      "   10  132   38 3591    0    0    0    0    0    0    0    0    0    0\n",
      "    0    0    0    0    0    0    0    0    0    0    0    0    0    0\n",
      "    0    0    0    0    0    0    0    0    0    0    0    0    0    0\n",
      "    0    0    0    0    0    0    0    0    0    0    0    0    0    0\n",
      "    0    0    0    0    0    0    0    0    0    0    0    0    0    0\n",
      "    0    0    0    0    0    0    0    0    0    0    0    0    0    0\n",
      "    0    0    0    0    0    0    0    0    0    0    0    0    0    0\n",
      "    0    0    0    0    0    0    0    0    0    0    0    0    0    0\n",
      "    0    0    0    0    0    0    0    0    0    0    0    0    0    0\n",
      "    0    0    0    0    0    0    0    0    0    0    0    0    0    0\n",
      "    0    0    0    0    0    0    0    0    0    0    0    0    0    0\n",
      "    0    0    0    0    0    0    0    0    0    0    0    0    0    0\n",
      "    0    0    0    0    0    0    0    0    0    0    0    0    0    0\n",
      "    0    0    0    0    0    0    0    0    0    0    0    0    0    0\n",
      "    0    0    0    0    0    0    0    0    0    0    0    0    0    0\n",
      "    0    0    0    0    0    0    0    0    0    0    0    0    0    0\n",
      "    0    0    0    0    0    0    0    0    0    0    0    0    0    0\n",
      "    0    0    0    0    0    0    0    0    0    0    0    0    0    0\n",
      "    0    0    0    0    0    0    0    0    0    0    0    0    0    0\n",
      "    0    0    0    0    0    0    0    0    0    0    0    0    0    0\n",
      "    0    0    0    0    0    0    0    0    0    0    0    0    0    0\n",
      "    0    0    0    0    0    0    0    0    0    0    0    0    0    0\n",
      "    0    0    0    0    0    0    0    0    0    0    0    0    0    0\n",
      "    0    0    0    0    0    0    0    0    0    0    0    0    0    0\n",
      "    0    0    0    0    0    0    0    0    0    0    0    0    0    0\n",
      "    0    0    0    0    0    0    0    0    0    0    0    0    0    0\n",
      "    0    0    0    0    0    0    0    0    0    0    0    0    0    0\n",
      "    0    0    0    0    0    0    0    0    0    0    0    0    0    0\n",
      "    0    0    0    0    0    0    0    0    0    0    0    0    0    0\n",
      "    0    0    0    0    0    0    0    0    0    0    0    0    0    0\n",
      "    0    0    0    0    0    0    0    0    0    0    0    0    0    0\n",
      "    0    0    0    0    0    0    0    0    0    0    0    0    0    0\n",
      "    0    0    0    0    0    0    0    0    0    0    0    0    0    0\n",
      "    0    0    0    0    0    0    0    0    0    0]\n"
     ]
    }
   ],
   "source": [
    "# Use this cell to examine one of the processed reviews to make sure everything is working as intended.\n",
    "print(len(train_X[100]))\n",
    "print(train_X[100])"
   ]
  },
  {
   "cell_type": "markdown",
   "metadata": {},
   "source": [
    "**Question:** In the cells above we use the `preprocess_data` and `convert_and_pad_data` methods to process both the training and testing set. Why or why not might this be a problem?"
   ]
  },
  {
   "cell_type": "markdown",
   "metadata": {},
   "source": [
    "**Answer:**\n",
    "\n",
    "This works when executing through the cells in this notebook; however, when the model is trained and deployed the preprocessing code will __not__ be a part of the stored Model Artifacts and Docker Container in AWS SageMaker. The preprocessing code will need to be provided through a Lambda function or custom inference code when deploying the model which would preprocess the review **then** send it to the deployed model for inference.\n",
    "\n",
    "It makes sense to preprocess the training data by removing HTML formatting, punctuation, stopwords, and tokenizing the words, but the test dataset is supposed to give a good representation on how the model will behave on input that it hasn't seen before (when deployed) - preprocessing the test dataset in this way may cause the model's tested performance to be biased in its favor. However, this same preprocessing will be applied when deployed so there isn't much concern."
   ]
  },
  {
   "cell_type": "markdown",
   "metadata": {},
   "source": [
    "## Step 3: Upload the data to S3\n",
    "\n",
    "As in the XGBoost notebook, we will need to upload the training dataset to S3 in order for our training code to access it. For now we will save it locally and we will upload to S3 later on.\n",
    "\n",
    "### Save the processed training dataset locally\n",
    "\n",
    "It is important to note the format of the data that we are saving as we will need to know it when we write the training code. In our case, each row of the dataset has the form `label`, `length`, `review[500]` where `review[500]` is a sequence of `500` integers representing the words in the review."
   ]
  },
  {
   "cell_type": "code",
   "execution_count": 51,
   "metadata": {},
   "outputs": [],
   "source": [
    "import pandas as pd\n",
    "    \n",
    "pd.concat([pd.DataFrame(train_y), pd.DataFrame(train_X_len), pd.DataFrame(train_X)], axis=1) \\\n",
    "        .to_csv(os.path.join(data_dir, 'train.csv'), header=False, index=False)"
   ]
  },
  {
   "cell_type": "markdown",
   "metadata": {},
   "source": [
    "### Uploading the training data\n",
    "\n",
    "\n",
    "Next, we need to upload the training data to the SageMaker default S3 bucket so that we can provide access to it while training our model."
   ]
  },
  {
   "cell_type": "code",
   "execution_count": 52,
   "metadata": {},
   "outputs": [],
   "source": [
    "import sagemaker\n",
    "\n",
    "sagemaker_session = sagemaker.Session()\n",
    "\n",
    "bucket = sagemaker_session.default_bucket()\n",
    "prefix = 'sagemaker/sentiment_rnn'\n",
    "\n",
    "role = sagemaker.get_execution_role()"
   ]
  },
  {
   "cell_type": "code",
   "execution_count": 53,
   "metadata": {},
   "outputs": [],
   "source": [
    "input_data = sagemaker_session.upload_data(path=data_dir, bucket=bucket, key_prefix=prefix)"
   ]
  },
  {
   "cell_type": "markdown",
   "metadata": {},
   "source": [
    "**NOTE:** The cell above uploads the entire contents of our data directory. This includes the `word_dict.pkl` file. This is fortunate as we will need this later on when we create an endpoint that accepts an arbitrary review. For now, we will just take note of the fact that it resides in the data directory (and so also in the S3 training bucket) and that we will need to make sure it gets saved in the model directory."
   ]
  },
  {
   "cell_type": "markdown",
   "metadata": {},
   "source": [
    "## Step 4: Build and Train the PyTorch Model\n",
    "\n",
    "In the XGBoost notebook we discussed what a model is in the SageMaker framework. In particular, a model comprises three objects\n",
    "\n",
    " - Model Artifacts,\n",
    " - Training Code, and\n",
    " - Inference Code,\n",
    " \n",
    "each of which interact with one another. In the XGBoost example we used training and inference code that was provided by Amazon. Here we will still be using containers provided by Amazon with the added benefit of being able to include our own custom code.\n",
    "\n",
    "We will start by implementing our own neural network in PyTorch along with a training script. For the purposes of this project we have provided the necessary model object in the `model.py` file, inside of the `train` folder. You can see the provided implementation by running the cell below."
   ]
  },
  {
   "cell_type": "code",
   "execution_count": 54,
   "metadata": {},
   "outputs": [
    {
     "name": "stdout",
     "output_type": "stream",
     "text": [
      "\u001b[34mimport\u001b[39;49;00m \u001b[04m\u001b[36mtorch.nn\u001b[39;49;00m \u001b[34mas\u001b[39;49;00m \u001b[04m\u001b[36mnn\u001b[39;49;00m\r\n",
      "\r\n",
      "\u001b[34mclass\u001b[39;49;00m \u001b[04m\u001b[32mLSTMClassifier\u001b[39;49;00m(nn.Module):\r\n",
      "    \u001b[33m\"\"\"\u001b[39;49;00m\r\n",
      "\u001b[33m    This is the simple RNN model we will be using to perform Sentiment Analysis.\u001b[39;49;00m\r\n",
      "\u001b[33m    \"\"\"\u001b[39;49;00m\r\n",
      "\r\n",
      "    \u001b[34mdef\u001b[39;49;00m \u001b[32m__init__\u001b[39;49;00m(\u001b[36mself\u001b[39;49;00m, embedding_dim, hidden_dim, vocab_size):\r\n",
      "        \u001b[33m\"\"\"\u001b[39;49;00m\r\n",
      "\u001b[33m        Initialize the model by settingg up the various layers.\u001b[39;49;00m\r\n",
      "\u001b[33m        \"\"\"\u001b[39;49;00m\r\n",
      "        \u001b[36msuper\u001b[39;49;00m(LSTMClassifier, \u001b[36mself\u001b[39;49;00m).\u001b[32m__init__\u001b[39;49;00m()\r\n",
      "\r\n",
      "        \u001b[36mself\u001b[39;49;00m.embedding = nn.Embedding(vocab_size, embedding_dim, padding_idx=\u001b[34m0\u001b[39;49;00m)\r\n",
      "        \u001b[36mself\u001b[39;49;00m.lstm = nn.LSTM(embedding_dim, hidden_dim)\r\n",
      "        \u001b[36mself\u001b[39;49;00m.dense = nn.Linear(in_features=hidden_dim, out_features=\u001b[34m1\u001b[39;49;00m)\r\n",
      "        \u001b[36mself\u001b[39;49;00m.sig = nn.Sigmoid()\r\n",
      "        \r\n",
      "        \u001b[36mself\u001b[39;49;00m.word_dict = \u001b[36mNone\u001b[39;49;00m\r\n",
      "\r\n",
      "    \u001b[34mdef\u001b[39;49;00m \u001b[32mforward\u001b[39;49;00m(\u001b[36mself\u001b[39;49;00m, x):\r\n",
      "        \u001b[33m\"\"\"\u001b[39;49;00m\r\n",
      "\u001b[33m        Perform a forward pass of our model on some input.\u001b[39;49;00m\r\n",
      "\u001b[33m        \"\"\"\u001b[39;49;00m\r\n",
      "        x = x.t()\r\n",
      "        lengths = x[\u001b[34m0\u001b[39;49;00m,:]\r\n",
      "        reviews = x[\u001b[34m1\u001b[39;49;00m:,:]\r\n",
      "        embeds = \u001b[36mself\u001b[39;49;00m.embedding(reviews)\r\n",
      "        lstm_out, _ = \u001b[36mself\u001b[39;49;00m.lstm(embeds)\r\n",
      "        out = \u001b[36mself\u001b[39;49;00m.dense(lstm_out)\r\n",
      "        out = out[lengths - \u001b[34m1\u001b[39;49;00m, \u001b[36mrange\u001b[39;49;00m(\u001b[36mlen\u001b[39;49;00m(lengths))]\r\n",
      "        \u001b[34mreturn\u001b[39;49;00m \u001b[36mself\u001b[39;49;00m.sig(out.squeeze())\r\n"
     ]
    }
   ],
   "source": [
    "!pygmentize train/model.py"
   ]
  },
  {
   "cell_type": "markdown",
   "metadata": {},
   "source": [
    "The important takeaway from the implementation provided is that there are three parameters that we may wish to tweak to improve the performance of our model. These are the **embedding dimension, the hidden dimension and the size of the vocabulary**. We will likely want to make these parameters configurable in the training script so that if we wish to modify them we do not need to modify the script itself. We will see how to do this later on. To start we will write some of the training code in the notebook so that we can more easily diagnose any issues that arise.\n",
    "\n",
    "First we will load a small portion of the training data set to use as a sample. It would be very time consuming to try and train the model completely in the notebook as we do not have access to a gpu and the compute instance that we are using is not particularly powerful. However, we can work on a small bit of the data to get a feel for how our training script is behaving."
   ]
  },
  {
   "cell_type": "code",
   "execution_count": 55,
   "metadata": {},
   "outputs": [],
   "source": [
    "import torch\n",
    "import torch.utils.data\n",
    "\n",
    "# Read in only the first 250 rows\n",
    "train_sample = pd.read_csv(os.path.join(data_dir, 'train.csv'), header=None, names=None, nrows=250)\n",
    "\n",
    "# Turn the input pandas dataframe into tensors\n",
    "train_sample_y = torch.from_numpy(train_sample[[0]].values).float().squeeze()\n",
    "train_sample_X = torch.from_numpy(train_sample.drop([0], axis=1).values).long()\n",
    "\n",
    "# Build the dataset\n",
    "train_sample_ds = torch.utils.data.TensorDataset(train_sample_X, train_sample_y)\n",
    "# Build the dataloader\n",
    "train_sample_dl = torch.utils.data.DataLoader(train_sample_ds, batch_size=50)"
   ]
  },
  {
   "cell_type": "markdown",
   "metadata": {},
   "source": [
    "### (TODO) Writing the training method\n",
    "\n",
    "Next we need to write the training code itself. This should be very similar to training methods that you have written before to train PyTorch models. We will leave any difficult aspects such as model saving / loading and parameter loading until a little later."
   ]
  },
  {
   "cell_type": "code",
   "execution_count": 62,
   "metadata": {},
   "outputs": [],
   "source": [
    "def train(model, train_loader, epochs, optimizer, loss_fn, device):\n",
    "    for epoch in range(1, epochs + 1):\n",
    "        model.train()\n",
    "        total_loss = 0\n",
    "        for batch in train_loader:         \n",
    "            batch_X, batch_y = batch\n",
    "            \n",
    "            batch_X = batch_X.to(device)\n",
    "            batch_y = batch_y.to(device)\n",
    "            \n",
    "            # TODO: Complete this train method to train the model provided.\n",
    "            \n",
    "            # Forward Pass\n",
    "            model.zero_grad()\n",
    "            output = model(batch_X)\n",
    "            \n",
    "            # Utilize clip_grad_norm to avoid any exploding gradient problems\n",
    "            torch.nn.utils.clip_grad_norm_(model.parameters(), 5) # Starting with 5 as this has worked well on previous RNNs\n",
    "            \n",
    "            # Perform backprop & optimization\n",
    "            loss = loss_fn(output, batch_y)\n",
    "            loss.backward()\n",
    "            \n",
    "            # Perform backprop\n",
    "            optimizer.step()            \n",
    "            \n",
    "            total_loss += loss.data.item()\n",
    "        print(\"Epoch: {}, BCELoss: {}\".format(epoch, total_loss / len(train_loader)))"
   ]
  },
  {
   "cell_type": "markdown",
   "metadata": {},
   "source": [
    "Supposing we have the training method above, we will test that it is working by writing a bit of code in the notebook that executes our training method on the small sample training set that we loaded earlier. The reason for doing this in the notebook is so that we have an opportunity to fix any errors that arise early when they are easier to diagnose."
   ]
  },
  {
   "cell_type": "code",
   "execution_count": 63,
   "metadata": {},
   "outputs": [
    {
     "name": "stdout",
     "output_type": "stream",
     "text": [
      "Epoch: 1, BCELoss: 0.6945192456245423\n",
      "Epoch: 2, BCELoss: 0.6872063517570496\n",
      "Epoch: 3, BCELoss: 0.6809736371040345\n",
      "Epoch: 4, BCELoss: 0.6739466667175293\n",
      "Epoch: 5, BCELoss: 0.665190863609314\n",
      "Epoch: 6, BCELoss: 0.6533408641815186\n",
      "Epoch: 7, BCELoss: 0.6359332203865051\n",
      "Epoch: 8, BCELoss: 0.6090914011001587\n",
      "Epoch: 9, BCELoss: 0.5822410821914673\n",
      "Epoch: 10, BCELoss: 0.5394009947776794\n"
     ]
    }
   ],
   "source": [
    "import torch.optim as optim\n",
    "from train.model import LSTMClassifier\n",
    "\n",
    "device = torch.device(\"cuda\" if torch.cuda.is_available() else \"cpu\")\n",
    "model = LSTMClassifier(32, 100, 5000).to(device)\n",
    "optimizer = optim.Adam(model.parameters())\n",
    "loss_fn = torch.nn.BCELoss()\n",
    "\n",
    "train(model, train_sample_dl, 10, optimizer, loss_fn, device)"
   ]
  },
  {
   "cell_type": "markdown",
   "metadata": {},
   "source": [
    "In order to construct a PyTorch model using SageMaker we must provide SageMaker with a training script. We may optionally include a directory which will be copied to the container and from which our training code will be run. When the training container is executed it will check the uploaded directory (if there is one) for a `requirements.txt` file and install any required Python libraries, after which the training script will be run."
   ]
  },
  {
   "cell_type": "markdown",
   "metadata": {},
   "source": [
    "### (TODO) Training the model\n",
    "\n",
    "When a PyTorch model is constructed in SageMaker, an entry point must be specified. This is the Python file which will be executed when the model is trained. Inside of the `train` directory is a file called `train.py` which has been provided and which contains most of the necessary code to train our model. The only thing that is missing is the implementation of the `train()` method which you wrote earlier in this notebook.\n",
    "\n",
    "**TODO**: Copy the `train()` method written above and paste it into the `train/train.py` file where required.\n",
    "\n",
    "The way that SageMaker passes hyperparameters to the training script is by way of arguments. These arguments can then be parsed and used in the training script. To see how this is done take a look at the provided `train/train.py` file."
   ]
  },
  {
   "cell_type": "code",
   "execution_count": 68,
   "metadata": {},
   "outputs": [],
   "source": [
    "from sagemaker.pytorch import PyTorch\n",
    "\n",
    "estimator = PyTorch(entry_point=\"train.py\",\n",
    "                    source_dir=\"train\",\n",
    "                    role=role,\n",
    "                    framework_version='0.4.0',\n",
    "                    train_instance_count=1,\n",
    "                    train_instance_type= 'ml.m4.xlarge', # Temp Use of m4.xlarg (no GPU) | Requested limit inc for 'ml.p2.xlarge',\n",
    "                    hyperparameters={\n",
    "                        'epochs': 10,\n",
    "                        'hidden_dim': 200,\n",
    "                    })"
   ]
  },
  {
   "cell_type": "code",
   "execution_count": 69,
   "metadata": {},
   "outputs": [
    {
     "name": "stderr",
     "output_type": "stream",
     "text": [
      "INFO:sagemaker:Creating training-job with name: sagemaker-pytorch-2019-01-13-20-33-04-915\n"
     ]
    },
    {
     "name": "stdout",
     "output_type": "stream",
     "text": [
      "2019-01-13 20:33:05 Starting - Starting the training job...\n",
      "2019-01-13 20:33:13 Starting - Launching requested ML instances.........\n",
      "2019-01-13 20:34:38 Starting - Preparing the instances for training......\n",
      "2019-01-13 20:36:00 Downloading - Downloading input data\n",
      "2019-01-13 20:36:00 Training - Training image download completed. Training in progress..\n",
      "\u001b[31mbash: cannot set terminal process group (-1): Inappropriate ioctl for device\u001b[0m\n",
      "\u001b[31mbash: no job control in this shell\u001b[0m\n",
      "\u001b[31m2019-01-13 20:36:01,508 sagemaker-containers INFO     Imported framework sagemaker_pytorch_container.training\u001b[0m\n",
      "\u001b[31m2019-01-13 20:36:01,511 sagemaker-containers INFO     No GPUs detected (normal if no gpus installed)\u001b[0m\n",
      "\u001b[31m2019-01-13 20:36:01,524 sagemaker_pytorch_container.training INFO     Block until all host DNS lookups succeed.\u001b[0m\n",
      "\u001b[31m2019-01-13 20:36:02,934 sagemaker_pytorch_container.training INFO     Invoking user training script.\u001b[0m\n",
      "\u001b[31m2019-01-13 20:36:03,170 sagemaker-containers INFO     Module train does not provide a setup.py. \u001b[0m\n",
      "\u001b[31mGenerating setup.py\u001b[0m\n",
      "\u001b[31m2019-01-13 20:36:03,170 sagemaker-containers INFO     Generating setup.cfg\u001b[0m\n",
      "\u001b[31m2019-01-13 20:36:03,170 sagemaker-containers INFO     Generating MANIFEST.in\u001b[0m\n",
      "\u001b[31m2019-01-13 20:36:03,170 sagemaker-containers INFO     Installing module with the following command:\u001b[0m\n",
      "\u001b[31m/usr/bin/python -m pip install -U . -r requirements.txt\u001b[0m\n",
      "\u001b[31mProcessing /opt/ml/code\u001b[0m\n",
      "\u001b[31mCollecting pandas (from -r requirements.txt (line 1))\u001b[0m\n",
      "\u001b[31m  Downloading https://files.pythonhosted.org/packages/5d/d4/6e9c56a561f1d27407bf29318ca43f36ccaa289271b805a30034eb3a8ec4/pandas-0.23.4-cp35-cp35m-manylinux1_x86_64.whl (8.7MB)\u001b[0m\n",
      "\u001b[31mRequirement already up-to-date: numpy in /usr/local/lib/python3.5/dist-packages (from -r requirements.txt (line 2)) (1.15.4)\u001b[0m\n",
      "\u001b[31mCollecting nltk (from -r requirements.txt (line 3))\u001b[0m\n",
      "\u001b[31m  Downloading https://files.pythonhosted.org/packages/6f/ed/9c755d357d33bc1931e157f537721efb5b88d2c583fe593cc09603076cc3/nltk-3.4.zip (1.4MB)\u001b[0m\n",
      "\u001b[31mCollecting beautifulsoup4 (from -r requirements.txt (line 4))\n",
      "  Downloading https://files.pythonhosted.org/packages/1d/5d/3260694a59df0ec52f8b4883f5d23b130bc237602a1411fa670eae12351e/beautifulsoup4-4.7.1-py3-none-any.whl (94kB)\u001b[0m\n",
      "\u001b[31mCollecting html5lib (from -r requirements.txt (line 5))\n",
      "  Downloading https://files.pythonhosted.org/packages/a5/62/bbd2be0e7943ec8504b517e62bab011b4946e1258842bc159e5dfde15b96/html5lib-1.0.1-py2.py3-none-any.whl (117kB)\u001b[0m\n",
      "\u001b[31mRequirement already satisfied, skipping upgrade: python-dateutil>=2.5.0 in /usr/local/lib/python3.5/dist-packages (from pandas->-r requirements.txt (line 1)) (2.7.5)\u001b[0m\n",
      "\u001b[31mCollecting pytz>=2011k (from pandas->-r requirements.txt (line 1))\n",
      "  Downloading https://files.pythonhosted.org/packages/61/28/1d3920e4d1d50b19bc5d24398a7cd85cc7b9a75a490570d5a30c57622d34/pytz-2018.9-py2.py3-none-any.whl (510kB)\u001b[0m\n",
      "\u001b[31mRequirement already satisfied, skipping upgrade: six in /usr/local/lib/python3.5/dist-packages (from nltk->-r requirements.txt (line 3)) (1.11.0)\u001b[0m\n",
      "\u001b[31mCollecting singledispatch (from nltk->-r requirements.txt (line 3))\n",
      "  Downloading https://files.pythonhosted.org/packages/c5/10/369f50bcd4621b263927b0a1519987a04383d4a98fb10438042ad410cf88/singledispatch-3.4.0.3-py2.py3-none-any.whl\u001b[0m\n",
      "\u001b[31mCollecting soupsieve>=1.2 (from beautifulsoup4->-r requirements.txt (line 4))\n",
      "  Downloading https://files.pythonhosted.org/packages/4f/88/08ff8b9e01ddfc3932b37988c794ce5751c1b8e3bc760686ad41d0771c78/soupsieve-1.7.1-py2.py3-none-any.whl\u001b[0m\n",
      "\u001b[31mCollecting webencodings (from html5lib->-r requirements.txt (line 5))\n",
      "  Downloading https://files.pythonhosted.org/packages/f4/24/2a3e3df732393fed8b3ebf2ec078f05546de641fe1b667ee316ec1dcf3b7/webencodings-0.5.1-py2.py3-none-any.whl\u001b[0m\n",
      "\u001b[31mBuilding wheels for collected packages: nltk, train\n",
      "  Running setup.py bdist_wheel for nltk: started\n",
      "  Running setup.py bdist_wheel for nltk: finished with status 'done'\n",
      "  Stored in directory: /root/.cache/pip/wheels/4b/c8/24/b2343664bcceb7147efeb21c0b23703a05b23fcfeaceaa2a1e\n",
      "  Running setup.py bdist_wheel for train: started\u001b[0m\n",
      "\u001b[31m  Running setup.py bdist_wheel for train: finished with status 'done'\n",
      "  Stored in directory: /tmp/pip-ephem-wheel-cache-789z72v8/wheels/35/24/16/37574d11bf9bde50616c67372a334f94fa8356bc7164af8ca3\u001b[0m\n",
      "\u001b[31mSuccessfully built nltk train\u001b[0m\n",
      "\u001b[31mInstalling collected packages: pytz, pandas, singledispatch, nltk, soupsieve, beautifulsoup4, webencodings, html5lib, train\u001b[0m\n",
      "\u001b[31mSuccessfully installed beautifulsoup4-4.7.1 html5lib-1.0.1 nltk-3.4 pandas-0.23.4 pytz-2018.9 singledispatch-3.4.0.3 soupsieve-1.7.1 train-1.0.0 webencodings-0.5.1\u001b[0m\n",
      "\u001b[31m2019-01-13 20:36:11,101 sagemaker-containers INFO     No GPUs detected (normal if no gpus installed)\u001b[0m\n",
      "\u001b[31m2019-01-13 20:36:11,114 sagemaker-containers INFO     Invoking user script\n",
      "\u001b[0m\n",
      "\u001b[31mTraining Env:\n",
      "\u001b[0m\n",
      "\u001b[31m{\n",
      "    \"additional_framework_parameters\": {},\n",
      "    \"resource_config\": {\n",
      "        \"hosts\": [\n",
      "            \"algo-1\"\n",
      "        ],\n",
      "        \"current_host\": \"algo-1\",\n",
      "        \"network_interface_name\": \"ethwe\"\n",
      "    },\n",
      "    \"input_config_dir\": \"/opt/ml/input/config\",\n",
      "    \"job_name\": \"sagemaker-pytorch-2019-01-13-20-33-04-915\",\n",
      "    \"output_dir\": \"/opt/ml/output\",\n",
      "    \"log_level\": 20,\n",
      "    \"channel_input_dirs\": {\n",
      "        \"training\": \"/opt/ml/input/data/training\"\n",
      "    },\n",
      "    \"output_data_dir\": \"/opt/ml/output/data\",\n",
      "    \"hosts\": [\n",
      "        \"algo-1\"\n",
      "    ],\n",
      "    \"user_entry_point\": \"train.py\",\n",
      "    \"module_dir\": \"s3://sagemaker-us-east-2-024249494170/sagemaker-pytorch-2019-01-13-20-33-04-915/source/sourcedir.tar.gz\",\n",
      "    \"input_data_config\": {\n",
      "        \"training\": {\n",
      "            \"TrainingInputMode\": \"File\",\n",
      "            \"RecordWrapperType\": \"None\",\n",
      "            \"S3DistributionType\": \"FullyReplicated\"\n",
      "        }\n",
      "    },\n",
      "    \"num_gpus\": 0,\n",
      "    \"model_dir\": \"/opt/ml/model\",\n",
      "    \"module_name\": \"train\",\n",
      "    \"input_dir\": \"/opt/ml/input\",\n",
      "    \"network_interface_name\": \"ethwe\",\n",
      "    \"output_intermediate_dir\": \"/opt/ml/output/intermediate\",\n",
      "    \"num_cpus\": 4,\n",
      "    \"current_host\": \"algo-1\",\n",
      "    \"hyperparameters\": {\n",
      "        \"epochs\": 10,\n",
      "        \"hidden_dim\": 200\n",
      "    },\n",
      "    \"framework_module\": \"sagemaker_pytorch_container.training:main\"\u001b[0m\n",
      "\u001b[31m}\n",
      "\u001b[0m\n",
      "\u001b[31mEnvironment variables:\n",
      "\u001b[0m\n",
      "\u001b[31mSM_HP_EPOCHS=10\u001b[0m\n",
      "\u001b[31mSM_MODULE_NAME=train\u001b[0m\n",
      "\u001b[31mSM_INPUT_DATA_CONFIG={\"training\":{\"RecordWrapperType\":\"None\",\"S3DistributionType\":\"FullyReplicated\",\"TrainingInputMode\":\"File\"}}\u001b[0m\n",
      "\u001b[31mSM_INPUT_DIR=/opt/ml/input\u001b[0m\n",
      "\u001b[31mSM_FRAMEWORK_PARAMS={}\u001b[0m\n",
      "\u001b[31mSM_OUTPUT_INTERMEDIATE_DIR=/opt/ml/output/intermediate\u001b[0m\n",
      "\u001b[31mSM_MODEL_DIR=/opt/ml/model\u001b[0m\n",
      "\u001b[31mSM_USER_ENTRY_POINT=train.py\u001b[0m\n",
      "\u001b[31mSM_OUTPUT_DATA_DIR=/opt/ml/output/data\u001b[0m\n",
      "\u001b[31mSM_MODULE_DIR=s3://sagemaker-us-east-2-024249494170/sagemaker-pytorch-2019-01-13-20-33-04-915/source/sourcedir.tar.gz\u001b[0m\n",
      "\u001b[31mPYTHONPATH=/usr/local/bin:/usr/lib/python35.zip:/usr/lib/python3.5:/usr/lib/python3.5/plat-x86_64-linux-gnu:/usr/lib/python3.5/lib-dynload:/usr/local/lib/python3.5/dist-packages:/usr/lib/python3/dist-packages\u001b[0m\n",
      "\u001b[31mSM_LOG_LEVEL=20\u001b[0m\n",
      "\u001b[31mSM_TRAINING_ENV={\"additional_framework_parameters\":{},\"channel_input_dirs\":{\"training\":\"/opt/ml/input/data/training\"},\"current_host\":\"algo-1\",\"framework_module\":\"sagemaker_pytorch_container.training:main\",\"hosts\":[\"algo-1\"],\"hyperparameters\":{\"epochs\":10,\"hidden_dim\":200},\"input_config_dir\":\"/opt/ml/input/config\",\"input_data_config\":{\"training\":{\"RecordWrapperType\":\"None\",\"S3DistributionType\":\"FullyReplicated\",\"TrainingInputMode\":\"File\"}},\"input_dir\":\"/opt/ml/input\",\"job_name\":\"sagemaker-pytorch-2019-01-13-20-33-04-915\",\"log_level\":20,\"model_dir\":\"/opt/ml/model\",\"module_dir\":\"s3://sagemaker-us-east-2-024249494170/sagemaker-pytorch-2019-01-13-20-33-04-915/source/sourcedir.tar.gz\",\"module_name\":\"train\",\"network_interface_name\":\"ethwe\",\"num_cpus\":4,\"num_gpus\":0,\"output_data_dir\":\"/opt/ml/output/data\",\"output_dir\":\"/opt/ml/output\",\"output_intermediate_dir\":\"/opt/ml/output/intermediate\",\"resource_config\":{\"current_host\":\"algo-1\",\"hosts\":[\"algo-1\"],\"network_interface_name\":\"ethwe\"},\"user_entry_point\":\"train.py\"}\u001b[0m\n",
      "\u001b[31mSM_RESOURCE_CONFIG={\"current_host\":\"algo-1\",\"hosts\":[\"algo-1\"],\"network_interface_name\":\"ethwe\"}\u001b[0m\n",
      "\u001b[31mSM_NUM_CPUS=4\u001b[0m\n",
      "\u001b[31mSM_HP_HIDDEN_DIM=200\u001b[0m\n",
      "\u001b[31mSM_CURRENT_HOST=algo-1\u001b[0m\n",
      "\u001b[31mSM_CHANNEL_TRAINING=/opt/ml/input/data/training\u001b[0m\n",
      "\u001b[31mSM_OUTPUT_DIR=/opt/ml/output\u001b[0m\n",
      "\u001b[31mSM_CHANNELS=[\"training\"]\u001b[0m\n",
      "\u001b[31mSM_NETWORK_INTERFACE_NAME=ethwe\u001b[0m\n",
      "\u001b[31mSM_HPS={\"epochs\":10,\"hidden_dim\":200}\u001b[0m\n",
      "\u001b[31mSM_INPUT_CONFIG_DIR=/opt/ml/input/config\u001b[0m\n",
      "\u001b[31mSM_USER_ARGS=[\"--epochs\",\"10\",\"--hidden_dim\",\"200\"]\u001b[0m\n",
      "\u001b[31mSM_NUM_GPUS=0\u001b[0m\n",
      "\u001b[31mSM_HOSTS=[\"algo-1\"]\u001b[0m\n",
      "\u001b[31mSM_FRAMEWORK_MODULE=sagemaker_pytorch_container.training:main\n",
      "\u001b[0m\n",
      "\u001b[31mInvoking script with the following command:\n",
      "\u001b[0m\n",
      "\u001b[31m/usr/bin/python -m train --epochs 10 --hidden_dim 200\n",
      "\n",
      "\u001b[0m\n",
      "\u001b[31mUsing device cpu.\u001b[0m\n",
      "\u001b[31mGet train data loader.\u001b[0m\n",
      "\u001b[31mModel loaded with embedding_dim 32, hidden_dim 200, vocab_size 5000.\u001b[0m\n",
      "\u001b[31mEpoch: 1, BCELoss: 0.6708037403165078\u001b[0m\n",
      "\u001b[31mEpoch: 2, BCELoss: 0.5941025858022728\u001b[0m\n",
      "\u001b[31mEpoch: 3, BCELoss: 0.5126849218290679\u001b[0m\n",
      "\u001b[31mEpoch: 4, BCELoss: 0.44633517155841906\u001b[0m\n",
      "\u001b[31mEpoch: 5, BCELoss: 0.43821042532823523\u001b[0m\n",
      "\u001b[31mEpoch: 6, BCELoss: 0.3649082189919997\u001b[0m\n",
      "\u001b[31mEpoch: 7, BCELoss: 0.34746605036210043\u001b[0m\n",
      "\u001b[31mEpoch: 8, BCELoss: 0.3374285971631809\u001b[0m\n",
      "\u001b[31mEpoch: 9, BCELoss: 0.3082875244471492\u001b[0m\n",
      "\u001b[31mEpoch: 10, BCELoss: 0.2950988159495957\u001b[0m\n",
      "\u001b[31m2019-01-13 22:16:51,155 sagemaker-containers INFO     Reporting training SUCCESS\u001b[0m\n",
      "\n",
      "2019-01-13 22:17:22 Uploading - Uploading generated training model\n",
      "2019-01-13 22:17:22 Completed - Training job completed\n",
      "Billable seconds: 6106\n"
     ]
    }
   ],
   "source": [
    "estimator.fit({'training': input_data})"
   ]
  },
  {
   "cell_type": "markdown",
   "metadata": {},
   "source": [
    "## Step 5: Testing the model\n",
    "\n",
    "As mentioned at the top of this notebook, we will be testing this model by first deploying it and then sending the testing data to the deployed endpoint. We will do this so that we can make sure that the deployed model is working correctly.\n",
    "\n",
    "## Step 6: Deploy the model for testing\n",
    "\n",
    "Now that we have trained our model, we would like to test it to see how it performs. Currently our model takes input of the form `review_length, review[500]` where `review[500]` is a sequence of `500` integers which describe the words present in the review, encoded using `word_dict`. Fortunately for us, SageMaker provides built-in inference code for models with simple inputs such as this.\n",
    "\n",
    "There is one thing that we need to provide, however, and that is a function which loads the saved model. This function must be called `model_fn()` and takes as its only parameter a path to the directory where the model artifacts are stored. This function must also be present in the python file which we specified as the entry point. In our case the model loading function has been provided and so no changes need to be made.\n",
    "\n",
    "**NOTE**: When the built-in inference code is run it must import the `model_fn()` method from the `train.py` file. This is why the training code is wrapped in a main guard ( ie, `if __name__ == '__main__':` )\n",
    "\n",
    "Since we don't need to change anything in the code that was uploaded during training, we can simply deploy the current model as-is.\n",
    "\n",
    "**NOTE:** When deploying a model you are asking SageMaker to launch an compute instance that will wait for data to be sent to it. As a result, this compute instance will continue to run until *you* shut it down. This is important to know since the cost of a deployed endpoint depends on how long it has been running for.\n",
    "\n",
    "In other words **If you are no longer using a deployed endpoint, shut it down!**\n",
    "\n",
    "**TODO:** Deploy the trained model."
   ]
  },
  {
   "cell_type": "code",
   "execution_count": 70,
   "metadata": {},
   "outputs": [
    {
     "name": "stderr",
     "output_type": "stream",
     "text": [
      "INFO:sagemaker:Creating model with name: sagemaker-pytorch-2019-01-13-20-33-04-915\n",
      "INFO:sagemaker:Creating endpoint with name sagemaker-pytorch-2019-01-13-20-33-04-915\n"
     ]
    },
    {
     "name": "stdout",
     "output_type": "stream",
     "text": [
      "--------------------------------------------------------------------------!"
     ]
    }
   ],
   "source": [
    "# TODO: Deploy the trained model\n",
    "predictor = estimator.deploy(initial_instance_count=1, instance_type='ml.m4.xlarge')"
   ]
  },
  {
   "cell_type": "markdown",
   "metadata": {},
   "source": [
    "## Step 7 - Use the model for testing\n",
    "\n",
    "Once deployed, we can read in the test data and send it off to our deployed model to get some results. Once we collect all of the results we can determine how accurate our model is."
   ]
  },
  {
   "cell_type": "code",
   "execution_count": 71,
   "metadata": {},
   "outputs": [],
   "source": [
    "test_X = pd.concat([pd.DataFrame(test_X_len), pd.DataFrame(test_X)], axis=1)"
   ]
  },
  {
   "cell_type": "code",
   "execution_count": 79,
   "metadata": {},
   "outputs": [],
   "source": [
    "# We split the data into chunks and send each chunk seperately, accumulating the results.\n",
    "\n",
    "def predict(data, rows=512):\n",
    "    split_array = np.array_split(data, int(data.shape[0] / float(rows) + 1))\n",
    "    predictions = np.array([])\n",
    "    for array in split_array:\n",
    "        predictions = np.append(predictions, predictor.predict(array))\n",
    "    \n",
    "    return predictions"
   ]
  },
  {
   "cell_type": "code",
   "execution_count": 73,
   "metadata": {},
   "outputs": [],
   "source": [
    "predictions = predict(test_X.values)\n",
    "predictions = [round(num) for num in predictions]"
   ]
  },
  {
   "cell_type": "code",
   "execution_count": 74,
   "metadata": {},
   "outputs": [
    {
     "data": {
      "text/plain": [
       "0.84888"
      ]
     },
     "execution_count": 74,
     "metadata": {},
     "output_type": "execute_result"
    }
   ],
   "source": [
    "from sklearn.metrics import accuracy_score\n",
    "accuracy_score(test_y, predictions)"
   ]
  },
  {
   "cell_type": "markdown",
   "metadata": {},
   "source": [
    "**Question:** How does this model compare to the XGBoost model you created earlier? Why might these two models perform differently on this dataset? Which do *you* think is better for sentiment analysis?"
   ]
  },
  {
   "cell_type": "markdown",
   "metadata": {},
   "source": [
    "**Answer:**<br>\n",
    "\n",
    "Accuracies:\n",
    "- RNN: ~85%\n",
    "- XGBoost: ~86%\n",
    "\n",
    "This RNN network compares similarly to the XGBoost model created for the same task. Both have a similar accuracy on the Test sets.\n",
    "\n",
    "The RNN may have a lower accuracy than the XGBoost model due to the number of epochs used for training and model hyperparameters used. With more epochs of training and finding an optimized model architecture for the RNN, it --might-- be able to outperform the XGBoost algorithm, because over time it could learn more complex contextual usages of words given enough hidden states.\n",
    "\n",
    "XGBoost though has provided very efficient and superior results across many application and data competitions. It utilizes decision tree ensembles (sets of classification and regression trees) and combines the predicted results of all trees into a final prediction. This has been found to be very efficient and accurate for many applications - quickly. In this case, I also utilized AWS SageMaker's Hyperparameter tuning on the XGBoost model to find the best hyperparameters - a big advantage over the RNN I just built using basic hyperparameters.\n",
    "\n",
    "When compared to an well optimized deep learning model for a specific task (say sentiment analysis in this case), the deep learning model will outperform XGBoost. However, finding this perfect model architecture is more involved than simply utilizing XGBoost and Automatic Hyperparameter tuning."
   ]
  },
  {
   "cell_type": "markdown",
   "metadata": {},
   "source": [
    "### (TODO) More testing\n",
    "\n",
    "We now have a trained model which has been deployed and which we can send processed reviews to and which returns the predicted sentiment. However, ultimately we would like to be able to send our model an unprocessed review. That is, we would like to send the review itself as a string. For example, suppose we wish to send the following review to our model."
   ]
  },
  {
   "cell_type": "code",
   "execution_count": 75,
   "metadata": {},
   "outputs": [],
   "source": [
    "test_review = 'The simplest pleasures in life are the best, and this film is one of them. Combining a rather basic storyline of love and adventure this movie transcends the usual weekend fair with wit and unmitigated charm.'"
   ]
  },
  {
   "cell_type": "markdown",
   "metadata": {},
   "source": [
    "The question we now need to answer is, how do we send this review to our model?\n",
    "\n",
    "Recall in the first section of this notebook we did a bunch of data processing to the IMDb dataset. In particular, we did two specific things to the provided reviews.\n",
    " - Removed any html tags and stemmed the input\n",
    " - Encoded the review as a sequence of integers using `word_dict`\n",
    " \n",
    "In order process the review we will need to repeat these two steps.\n",
    "\n",
    "**TODO**: Using the `review_to_words` and `convert_and_pad` methods from section one, convert `test_review` into a numpy array `test_data` suitable to send to our model. Remember that our model expects input of the form `review_length, review[500]`."
   ]
  },
  {
   "cell_type": "code",
   "execution_count": 83,
   "metadata": {},
   "outputs": [
    {
     "name": "stdout",
     "output_type": "stream",
     "text": [
      "[[  20    1 1375   49   53    3    4  878  173  392  682   29  723    2\n",
      "  4435  275 2080 1059  760    1  580    0    0    0    0    0    0    0\n",
      "     0    0    0    0    0    0    0    0    0    0    0    0    0    0\n",
      "     0    0    0    0    0    0    0    0    0    0    0    0    0    0\n",
      "     0    0    0    0    0    0    0    0    0    0    0    0    0    0\n",
      "     0    0    0    0    0    0    0    0    0    0    0    0    0    0\n",
      "     0    0    0    0    0    0    0    0    0    0    0    0    0    0\n",
      "     0    0    0    0    0    0    0    0    0    0    0    0    0    0\n",
      "     0    0    0    0    0    0    0    0    0    0    0    0    0    0\n",
      "     0    0    0    0    0    0    0    0    0    0    0    0    0    0\n",
      "     0    0    0    0    0    0    0    0    0    0    0    0    0    0\n",
      "     0    0    0    0    0    0    0    0    0    0    0    0    0    0\n",
      "     0    0    0    0    0    0    0    0    0    0    0    0    0    0\n",
      "     0    0    0    0    0    0    0    0    0    0    0    0    0    0\n",
      "     0    0    0    0    0    0    0    0    0    0    0    0    0    0\n",
      "     0    0    0    0    0    0    0    0    0    0    0    0    0    0\n",
      "     0    0    0    0    0    0    0    0    0    0    0    0    0    0\n",
      "     0    0    0    0    0    0    0    0    0    0    0    0    0    0\n",
      "     0    0    0    0    0    0    0    0    0    0    0    0    0    0\n",
      "     0    0    0    0    0    0    0    0    0    0    0    0    0    0\n",
      "     0    0    0    0    0    0    0    0    0    0    0    0    0    0\n",
      "     0    0    0    0    0    0    0    0    0    0    0    0    0    0\n",
      "     0    0    0    0    0    0    0    0    0    0    0    0    0    0\n",
      "     0    0    0    0    0    0    0    0    0    0    0    0    0    0\n",
      "     0    0    0    0    0    0    0    0    0    0    0    0    0    0\n",
      "     0    0    0    0    0    0    0    0    0    0    0    0    0    0\n",
      "     0    0    0    0    0    0    0    0    0    0    0    0    0    0\n",
      "     0    0    0    0    0    0    0    0    0    0    0    0    0    0\n",
      "     0    0    0    0    0    0    0    0    0    0    0    0    0    0\n",
      "     0    0    0    0    0    0    0    0    0    0    0    0    0    0\n",
      "     0    0    0    0    0    0    0    0    0    0    0    0    0    0\n",
      "     0    0    0    0    0    0    0    0    0    0    0    0    0    0\n",
      "     0    0    0    0    0    0    0    0    0    0    0    0    0    0\n",
      "     0    0    0    0    0    0    0    0    0    0    0    0    0    0\n",
      "     0    0    0    0    0    0    0    0    0    0    0    0    0    0\n",
      "     0    0    0    0    0    0    0    0    0    0    0]]\n"
     ]
    }
   ],
   "source": [
    "# TODO: Convert test_review into a form usable by the model and save the results in test_data\n",
    "converted_Test_Review, converted_Test_Review_len = convert_and_pad(word_dict, review_to_words(test_review))\n",
    "\n",
    "test_data = np.hstack((converted_Test_Review_len, converted_Test_Review)).reshape(1, -1)\n",
    "#Might need to reshape\n",
    "print(test_data)"
   ]
  },
  {
   "cell_type": "markdown",
   "metadata": {},
   "source": [
    "Now that we have processed the review, we can send the resulting array to our model to predict the sentiment of the review."
   ]
  },
  {
   "cell_type": "code",
   "execution_count": 87,
   "metadata": {},
   "outputs": [
    {
     "data": {
      "text/plain": [
       "array(0.8873253, dtype=float32)"
      ]
     },
     "execution_count": 87,
     "metadata": {},
     "output_type": "execute_result"
    }
   ],
   "source": [
    "predictor.predict(test_data)"
   ]
  },
  {
   "cell_type": "markdown",
   "metadata": {},
   "source": [
    "Since the return value of our model is close to `1`, we can be certain that the review we submitted is positive."
   ]
  },
  {
   "cell_type": "markdown",
   "metadata": {},
   "source": [
    "### Delete the endpoint\n",
    "\n",
    "Of course, just like in the XGBoost notebook, once we've deployed an endpoint it continues to run until we tell it to shut down. Since we are done using our endpoint for now, we can delete it."
   ]
  },
  {
   "cell_type": "code",
   "execution_count": 88,
   "metadata": {},
   "outputs": [
    {
     "name": "stderr",
     "output_type": "stream",
     "text": [
      "INFO:sagemaker:Deleting endpoint with name: sagemaker-pytorch-2019-01-13-20-33-04-915\n"
     ]
    }
   ],
   "source": [
    "estimator.delete_endpoint()"
   ]
  },
  {
   "cell_type": "markdown",
   "metadata": {},
   "source": [
    "## Step 6 (again) - Deploy the model for the web app\n",
    "\n",
    "Now that we know that our model is working, it's time to create some custom inference code so that we can send the model a review which has not been processed and have it determine the sentiment of the review.\n",
    "\n",
    "As we saw above, by default the estimator which we created, when deployed, will use the entry script and directory which we provided when creating the model. However, since we now wish to accept a string as input and our model expects a processed review, we need to write some custom inference code.\n",
    "\n",
    "We will store the code that we write in the `serve` directory. Provided in this directory is the `model.py` file that we used to construct our model, a `utils.py` file which contains the `review_to_words` and `convert_and_pad` pre-processing functions which we used during the initial data processing, and `predict.py`, the file which will contain our custom inference code. Note also that `requirements.txt` is present which will tell SageMaker what Python libraries are required by our custom inference code.\n",
    "\n",
    "When deploying a PyTorch model in SageMaker, you are expected to provide four functions which the SageMaker inference container will use.\n",
    " - `model_fn`: This function is the same function that we used in the training script and it tells SageMaker how to load our model.\n",
    " - `input_fn`: This function receives the raw serialized input that has been sent to the model's endpoint and its job is to de-serialize and make the input available for the inference code.\n",
    " - `output_fn`: This function takes the output of the inference code and its job is to serialize this output and return it to the caller of the model's endpoint.\n",
    " - `predict_fn`: The heart of the inference script, this is where the actual prediction is done and is the function which you will need to complete.\n",
    "\n",
    "For the simple website that we are constructing during this project, the `input_fn` and `output_fn` methods are relatively straightforward. We only require being able to accept a string as input and we expect to return a single value as output. You might imagine though that in a more complex application the input or output may be image data or some other binary data which would require some effort to serialize.\n",
    "\n",
    "### (TODO) Writing inference code\n",
    "\n",
    "Before writing our custom inference code, we will begin by taking a look at the code which has been provided."
   ]
  },
  {
   "cell_type": "code",
   "execution_count": 89,
   "metadata": {},
   "outputs": [
    {
     "name": "stdout",
     "output_type": "stream",
     "text": [
      "\u001b[34mimport\u001b[39;49;00m \u001b[04m\u001b[36margparse\u001b[39;49;00m\r\n",
      "\u001b[34mimport\u001b[39;49;00m \u001b[04m\u001b[36mjson\u001b[39;49;00m\r\n",
      "\u001b[34mimport\u001b[39;49;00m \u001b[04m\u001b[36mos\u001b[39;49;00m\r\n",
      "\u001b[34mimport\u001b[39;49;00m \u001b[04m\u001b[36mpickle\u001b[39;49;00m\r\n",
      "\u001b[34mimport\u001b[39;49;00m \u001b[04m\u001b[36msys\u001b[39;49;00m\r\n",
      "\u001b[34mimport\u001b[39;49;00m \u001b[04m\u001b[36msagemaker_containers\u001b[39;49;00m\r\n",
      "\u001b[34mimport\u001b[39;49;00m \u001b[04m\u001b[36mpandas\u001b[39;49;00m \u001b[34mas\u001b[39;49;00m \u001b[04m\u001b[36mpd\u001b[39;49;00m\r\n",
      "\u001b[34mimport\u001b[39;49;00m \u001b[04m\u001b[36mnumpy\u001b[39;49;00m \u001b[34mas\u001b[39;49;00m \u001b[04m\u001b[36mnp\u001b[39;49;00m\r\n",
      "\u001b[34mimport\u001b[39;49;00m \u001b[04m\u001b[36mtorch\u001b[39;49;00m\r\n",
      "\u001b[34mimport\u001b[39;49;00m \u001b[04m\u001b[36mtorch.nn\u001b[39;49;00m \u001b[34mas\u001b[39;49;00m \u001b[04m\u001b[36mnn\u001b[39;49;00m\r\n",
      "\u001b[34mimport\u001b[39;49;00m \u001b[04m\u001b[36mtorch.optim\u001b[39;49;00m \u001b[34mas\u001b[39;49;00m \u001b[04m\u001b[36moptim\u001b[39;49;00m\r\n",
      "\u001b[34mimport\u001b[39;49;00m \u001b[04m\u001b[36mtorch.utils.data\u001b[39;49;00m\r\n",
      "\r\n",
      "\u001b[34mfrom\u001b[39;49;00m \u001b[04m\u001b[36mmodel\u001b[39;49;00m \u001b[34mimport\u001b[39;49;00m LSTMClassifier\r\n",
      "\r\n",
      "\u001b[34mfrom\u001b[39;49;00m \u001b[04m\u001b[36mutils\u001b[39;49;00m \u001b[34mimport\u001b[39;49;00m review_to_words, convert_and_pad\r\n",
      "\r\n",
      "\u001b[34mdef\u001b[39;49;00m \u001b[32mmodel_fn\u001b[39;49;00m(model_dir):\r\n",
      "    \u001b[33m\"\"\"Load the PyTorch model from the `model_dir` directory.\"\"\"\u001b[39;49;00m\r\n",
      "    \u001b[34mprint\u001b[39;49;00m(\u001b[33m\"\u001b[39;49;00m\u001b[33mLoading model.\u001b[39;49;00m\u001b[33m\"\u001b[39;49;00m)\r\n",
      "\r\n",
      "    \u001b[37m# First, load the parameters used to create the model.\u001b[39;49;00m\r\n",
      "    model_info = {}\r\n",
      "    model_info_path = os.path.join(model_dir, \u001b[33m'\u001b[39;49;00m\u001b[33mmodel_info.pth\u001b[39;49;00m\u001b[33m'\u001b[39;49;00m)\r\n",
      "    \u001b[34mwith\u001b[39;49;00m \u001b[36mopen\u001b[39;49;00m(model_info_path, \u001b[33m'\u001b[39;49;00m\u001b[33mrb\u001b[39;49;00m\u001b[33m'\u001b[39;49;00m) \u001b[34mas\u001b[39;49;00m f:\r\n",
      "        model_info = torch.load(f)\r\n",
      "\r\n",
      "    \u001b[34mprint\u001b[39;49;00m(\u001b[33m\"\u001b[39;49;00m\u001b[33mmodel_info: {}\u001b[39;49;00m\u001b[33m\"\u001b[39;49;00m.format(model_info))\r\n",
      "\r\n",
      "    \u001b[37m# Determine the device and construct the model.\u001b[39;49;00m\r\n",
      "    device = torch.device(\u001b[33m\"\u001b[39;49;00m\u001b[33mcuda\u001b[39;49;00m\u001b[33m\"\u001b[39;49;00m \u001b[34mif\u001b[39;49;00m torch.cuda.is_available() \u001b[34melse\u001b[39;49;00m \u001b[33m\"\u001b[39;49;00m\u001b[33mcpu\u001b[39;49;00m\u001b[33m\"\u001b[39;49;00m)\r\n",
      "    model = LSTMClassifier(model_info[\u001b[33m'\u001b[39;49;00m\u001b[33membedding_dim\u001b[39;49;00m\u001b[33m'\u001b[39;49;00m], model_info[\u001b[33m'\u001b[39;49;00m\u001b[33mhidden_dim\u001b[39;49;00m\u001b[33m'\u001b[39;49;00m], model_info[\u001b[33m'\u001b[39;49;00m\u001b[33mvocab_size\u001b[39;49;00m\u001b[33m'\u001b[39;49;00m])\r\n",
      "\r\n",
      "    \u001b[37m# Load the store model parameters.\u001b[39;49;00m\r\n",
      "    model_path = os.path.join(model_dir, \u001b[33m'\u001b[39;49;00m\u001b[33mmodel.pth\u001b[39;49;00m\u001b[33m'\u001b[39;49;00m)\r\n",
      "    \u001b[34mwith\u001b[39;49;00m \u001b[36mopen\u001b[39;49;00m(model_path, \u001b[33m'\u001b[39;49;00m\u001b[33mrb\u001b[39;49;00m\u001b[33m'\u001b[39;49;00m) \u001b[34mas\u001b[39;49;00m f:\r\n",
      "        model.load_state_dict(torch.load(f))\r\n",
      "\r\n",
      "    \u001b[37m# Load the saved word_dict.\u001b[39;49;00m\r\n",
      "    word_dict_path = os.path.join(model_dir, \u001b[33m'\u001b[39;49;00m\u001b[33mword_dict.pkl\u001b[39;49;00m\u001b[33m'\u001b[39;49;00m)\r\n",
      "    \u001b[34mwith\u001b[39;49;00m \u001b[36mopen\u001b[39;49;00m(word_dict_path, \u001b[33m'\u001b[39;49;00m\u001b[33mrb\u001b[39;49;00m\u001b[33m'\u001b[39;49;00m) \u001b[34mas\u001b[39;49;00m f:\r\n",
      "        model.word_dict = pickle.load(f)\r\n",
      "\r\n",
      "    model.to(device).eval()\r\n",
      "\r\n",
      "    \u001b[34mprint\u001b[39;49;00m(\u001b[33m\"\u001b[39;49;00m\u001b[33mDone loading model.\u001b[39;49;00m\u001b[33m\"\u001b[39;49;00m)\r\n",
      "    \u001b[34mreturn\u001b[39;49;00m model\r\n",
      "\r\n",
      "\u001b[34mdef\u001b[39;49;00m \u001b[32minput_fn\u001b[39;49;00m(serialized_input_data, content_type):\r\n",
      "    \u001b[34mprint\u001b[39;49;00m(\u001b[33m'\u001b[39;49;00m\u001b[33mDeserializing the input data.\u001b[39;49;00m\u001b[33m'\u001b[39;49;00m)\r\n",
      "    \u001b[34mif\u001b[39;49;00m content_type == \u001b[33m'\u001b[39;49;00m\u001b[33mtext/plain\u001b[39;49;00m\u001b[33m'\u001b[39;49;00m:\r\n",
      "        data = serialized_input_data.decode(\u001b[33m'\u001b[39;49;00m\u001b[33mutf-8\u001b[39;49;00m\u001b[33m'\u001b[39;49;00m)\r\n",
      "        \u001b[34mreturn\u001b[39;49;00m data\r\n",
      "    \u001b[34mraise\u001b[39;49;00m \u001b[36mException\u001b[39;49;00m(\u001b[33m'\u001b[39;49;00m\u001b[33mRequested unsupported ContentType in content_type: \u001b[39;49;00m\u001b[33m'\u001b[39;49;00m + content_type)\r\n",
      "\r\n",
      "\u001b[34mdef\u001b[39;49;00m \u001b[32moutput_fn\u001b[39;49;00m(prediction_output, accept):\r\n",
      "    \u001b[34mprint\u001b[39;49;00m(\u001b[33m'\u001b[39;49;00m\u001b[33mSerializing the generated output.\u001b[39;49;00m\u001b[33m'\u001b[39;49;00m)\r\n",
      "    \u001b[34mreturn\u001b[39;49;00m \u001b[36mstr\u001b[39;49;00m(prediction_output)\r\n",
      "\r\n",
      "\u001b[34mdef\u001b[39;49;00m \u001b[32mpredict_fn\u001b[39;49;00m(input_data, model):\r\n",
      "    \u001b[34mprint\u001b[39;49;00m(\u001b[33m'\u001b[39;49;00m\u001b[33mInferring sentiment of input data.\u001b[39;49;00m\u001b[33m'\u001b[39;49;00m)\r\n",
      "\r\n",
      "    device = torch.device(\u001b[33m\"\u001b[39;49;00m\u001b[33mcuda\u001b[39;49;00m\u001b[33m\"\u001b[39;49;00m \u001b[34mif\u001b[39;49;00m torch.cuda.is_available() \u001b[34melse\u001b[39;49;00m \u001b[33m\"\u001b[39;49;00m\u001b[33mcpu\u001b[39;49;00m\u001b[33m\"\u001b[39;49;00m)\r\n",
      "    \r\n",
      "    \u001b[34mif\u001b[39;49;00m model.word_dict \u001b[35mis\u001b[39;49;00m \u001b[36mNone\u001b[39;49;00m:\r\n",
      "        \u001b[34mraise\u001b[39;49;00m \u001b[36mException\u001b[39;49;00m(\u001b[33m'\u001b[39;49;00m\u001b[33mModel has not been loaded properly, no word_dict.\u001b[39;49;00m\u001b[33m'\u001b[39;49;00m)\r\n",
      "    \r\n",
      "    \u001b[37m# TODO: Process input_data so that it is ready to be sent to our model.\u001b[39;49;00m\r\n",
      "    \u001b[37m#       You should produce two variables:\u001b[39;49;00m\r\n",
      "    \u001b[37m#         data_X   - A sequence of length 500 which represents the converted review\u001b[39;49;00m\r\n",
      "    \u001b[37m#         data_len - The length of the review\u001b[39;49;00m\r\n",
      "    data_X = \u001b[36mNone\u001b[39;49;00m\r\n",
      "    data_len = \u001b[36mNone\u001b[39;49;00m\r\n",
      "\r\n",
      "    \u001b[37m# Using data_X and data_len we construct an appropriate input tensor. Remember\u001b[39;49;00m\r\n",
      "    \u001b[37m# that our model expects input data of the form 'len, review[500]'.\u001b[39;49;00m\r\n",
      "    data_pack = np.hstack((data_len, data_X))\r\n",
      "    data_pack = data_pack.reshape(\u001b[34m1\u001b[39;49;00m, -\u001b[34m1\u001b[39;49;00m)\r\n",
      "    \r\n",
      "    data = torch.from_numpy(data_pack)\r\n",
      "    data = data.to(device)\r\n",
      "\r\n",
      "    \u001b[37m# Make sure to put the model into evaluation mode\u001b[39;49;00m\r\n",
      "    model.eval()\r\n",
      "\r\n",
      "    \u001b[37m# TODO: Compute the result of applying the model to the input data. The variable `result` should\u001b[39;49;00m\r\n",
      "    \u001b[37m#       be a numpy array which contains a single integer which is either 1 or 0\u001b[39;49;00m\r\n",
      "\r\n",
      "    \u001b[34mreturn\u001b[39;49;00m result\r\n"
     ]
    }
   ],
   "source": [
    "!pygmentize serve/predict.py"
   ]
  },
  {
   "cell_type": "markdown",
   "metadata": {},
   "source": [
    "As mentioned earlier, the `model_fn` method is the same as the one provided in the training code and the `input_fn` and `output_fn` methods are very simple and your task will be to complete the `predict_fn` method. Make sure that you save the completed file as `predict.py` in the `serve` directory.\n",
    "\n",
    "**TODO**: Complete the `predict_fn()` method in the `serve/predict.py` file."
   ]
  },
  {
   "cell_type": "markdown",
   "metadata": {},
   "source": [
    "### Deploying the model\n",
    "\n",
    "Now that the custom inference code has been written, we will create and deploy our model. To begin with, we need to construct a new PyTorchModel object which points to the model artifacts created during training and also points to the inference code that we wish to use. Then we can call the deploy method to launch the deployment container.\n",
    "\n",
    "**NOTE**: The default behaviour for a deployed PyTorch model is to assume that any input passed to the predictor is a `numpy` array. In our case we want to send a string so we need to construct a simple wrapper around the `RealTimePredictor` class to accomodate simple strings. In a more complicated situation you may want to provide a serialization object, for example if you wanted to sent image data."
   ]
  },
  {
   "cell_type": "code",
   "execution_count": 133,
   "metadata": {},
   "outputs": [
    {
     "name": "stderr",
     "output_type": "stream",
     "text": [
      "INFO:sagemaker:Creating model with name: sagemaker-pytorch-2019-01-14-02-43-49-113\n",
      "INFO:sagemaker:Creating endpoint with name sagemaker-pytorch-2019-01-14-02-43-49-113\n"
     ]
    },
    {
     "name": "stdout",
     "output_type": "stream",
     "text": [
      "---------------------------------------------------------------!"
     ]
    }
   ],
   "source": [
    "from sagemaker.predictor import RealTimePredictor\n",
    "from sagemaker.pytorch import PyTorchModel\n",
    "\n",
    "class StringPredictor(RealTimePredictor):\n",
    "    def __init__(self, endpoint_name, sagemaker_session):\n",
    "        super(StringPredictor, self).__init__(endpoint_name, sagemaker_session, content_type='text/plain')\n",
    "\n",
    "model = PyTorchModel(model_data=estimator.model_data,\n",
    "                     role = role,\n",
    "                     framework_version='0.4.0',\n",
    "                     entry_point='predict.py',\n",
    "                     source_dir='serve',\n",
    "                     predictor_cls=StringPredictor)\n",
    "predictor = model.deploy(initial_instance_count=1, instance_type='ml.m4.xlarge')"
   ]
  },
  {
   "cell_type": "markdown",
   "metadata": {},
   "source": [
    "### Testing the model\n",
    "\n",
    "Now that we have deployed our model with the custom inference code, we should test to see if everything is working. Here we test our model by loading the first `250` positive and negative reviews and send them to the endpoint, then collect the results. The reason for only sending some of the data is that the amount of time it takes for our model to process the input and then perform inference is quite long and so testing the entire data set would be prohibitive."
   ]
  },
  {
   "cell_type": "code",
   "execution_count": 125,
   "metadata": {},
   "outputs": [],
   "source": [
    "import glob\n",
    "\n",
    "def test_reviews(data_dir='../data/aclImdb', stop=250):\n",
    "    \n",
    "    results = []\n",
    "    ground = []\n",
    "    \n",
    "    # We make sure to test both positive and negative reviews    \n",
    "    for sentiment in ['pos', 'neg']:\n",
    "        \n",
    "        path = os.path.join(data_dir, 'test', sentiment, '*.txt')\n",
    "        files = glob.glob(path)\n",
    "        \n",
    "        files_read = 0\n",
    "        \n",
    "        print('Starting ', sentiment, ' files')\n",
    "        \n",
    "        # Iterate through the files and send them to the predictor\n",
    "        for f in files:\n",
    "            with open(f) as review:\n",
    "                # First, we store the ground truth (was the review positive or negative)\n",
    "                if sentiment == 'pos':\n",
    "                    ground.append(1)\n",
    "                else:\n",
    "                    ground.append(0)\n",
    "                # Read in the review and convert to 'utf-8' for transmission via HTTP\n",
    "                review_input = review.read().encode('utf-8')\n",
    "                # Send the review to the predictor and store the results\n",
    "                results.append(int(predictor.predict(review_input)))\n",
    "                \n",
    "            # Sending reviews to our endpoint one at a time takes a while so we\n",
    "            # only send a small number of reviews\n",
    "            files_read += 1\n",
    "            if files_read == stop:\n",
    "                break\n",
    "            \n",
    "    return ground, results"
   ]
  },
  {
   "cell_type": "code",
   "execution_count": 126,
   "metadata": {},
   "outputs": [
    {
     "name": "stdout",
     "output_type": "stream",
     "text": [
      "Starting  pos  files\n",
      "Starting  neg  files\n"
     ]
    }
   ],
   "source": [
    "ground, results = test_reviews()"
   ]
  },
  {
   "cell_type": "code",
   "execution_count": 127,
   "metadata": {},
   "outputs": [
    {
     "data": {
      "text/plain": [
       "0.854"
      ]
     },
     "execution_count": 127,
     "metadata": {},
     "output_type": "execute_result"
    }
   ],
   "source": [
    "from sklearn.metrics import accuracy_score\n",
    "accuracy_score(ground, results)"
   ]
  },
  {
   "cell_type": "markdown",
   "metadata": {},
   "source": [
    "As an additional test, we can try sending the `test_review` that we looked at earlier."
   ]
  },
  {
   "cell_type": "code",
   "execution_count": 132,
   "metadata": {},
   "outputs": [
    {
     "name": "stdout",
     "output_type": "stream",
     "text": [
      "b'1'\n"
     ]
    }
   ],
   "source": [
    "test_output = predictor.predict(test_review)\n",
    "\n",
    "print(test_output)"
   ]
  },
  {
   "cell_type": "markdown",
   "metadata": {},
   "source": [
    "Now that we know our endpoint is working as expected, we can set up the web page that will interact with it. If you don't have time to finish the project now, make sure to skip down to the end of this notebook and shut down your endpoint. You can deploy it again when you come back."
   ]
  },
  {
   "cell_type": "markdown",
   "metadata": {},
   "source": [
    "## Step 7 (again): Use the model for the web app\n",
    "\n",
    "> **TODO:** This entire section and the next contain tasks for you to complete, mostly using the AWS console.\n",
    "\n",
    "So far we have been accessing our model endpoint by constructing a predictor object which uses the endpoint and then just using the predictor object to perform inference. What if we wanted to create a web app which accessed our model? The way things are set up currently makes that not possible since in order to access a SageMaker endpoint the app would first have to authenticate with AWS using an IAM role which included access to SageMaker endpoints. However, there is an easier way! We just need to use some additional AWS services.\n",
    "\n",
    "<img src=\"Web App Diagram.svg\">\n",
    "\n",
    "The diagram above gives an overview of how the various services will work together. On the far right is the model which we trained above and which is deployed using SageMaker. On the far left is our web app that collects a user's movie review, sends it off and expects a positive or negative sentiment in return.\n",
    "\n",
    "In the middle is where some of the magic happens. We will construct a Lambda function, which you can think of as a straightforward Python function that can be executed whenever a specified event occurs. We will give this function permission to send and recieve data from a SageMaker endpoint.\n",
    "\n",
    "Lastly, the method we will use to execute the Lambda function is a new endpoint that we will create using API Gateway. This endpoint will be a url that listens for data to be sent to it. Once it gets some data it will pass that data on to the Lambda function and then return whatever the Lambda function returns. Essentially it will act as an interface that lets our web app communicate with the Lambda function.\n",
    "\n",
    "### Setting up a Lambda function\n",
    "\n",
    "The first thing we are going to do is set up a Lambda function. This Lambda function will be executed whenever our public API has data sent to it. When it is executed it will receive the data, perform any sort of processing that is required, send the data (the review) to the SageMaker endpoint we've created and then return the result.\n",
    "\n",
    "#### Part A: Create an IAM Role for the Lambda function\n",
    "\n",
    "Since we want the Lambda function to call a SageMaker endpoint, we need to make sure that it has permission to do so. To do this, we will construct a role that we can later give the Lambda function.\n",
    "\n",
    "Using the AWS Console, navigate to the **IAM** page and click on **Roles**. Then, click on **Create role**. Make sure that the **AWS service** is the type of trusted entity selected and choose **Lambda** as the service that will use this role, then click **Next: Permissions**.\n",
    "\n",
    "In the search box type `sagemaker` and select the check box next to the **AmazonSageMakerFullAccess** policy. Then, click on **Next: Review**.\n",
    "\n",
    "Lastly, give this role a name. Make sure you use a name that you will remember later on, for example `LambdaSageMakerRole`. Then, click on **Create role**.\n",
    "\n",
    "#### Part B: Create a Lambda function\n",
    "\n",
    "Now it is time to actually create the Lambda function.\n",
    "\n",
    "Using the AWS Console, navigate to the AWS Lambda page and click on **Create a function**. When you get to the next page, make sure that **Author from scratch** is selected. Now, name your Lambda function, using a name that you will remember later on, for example `sentiment_analysis_func`. Make sure that the **Python 3.6** runtime is selected and then choose the role that you created in the previous part. Then, click on **Create Function**.\n",
    "\n",
    "On the next page you will see some information about the Lambda function you've just created. If you scroll down you should see an editor in which you can write the code that will be executed when your Lambda function is triggered. In our example, we will use the code below. \n",
    "\n",
    "```python\n",
    "# We need to use the low-level library to interact with SageMaker since the SageMaker API\n",
    "# is not available natively through Lambda.\n",
    "import boto3\n",
    "\n",
    "def lambda_handler(event, context):\n",
    "\n",
    "    # The SageMaker runtime is what allows us to invoke the endpoint that we've created.\n",
    "    runtime = boto3.Session().client('sagemaker-runtime')\n",
    "\n",
    "    # Now we use the SageMaker runtime to invoke our endpoint, sending the review we were given\n",
    "    response = runtime.invoke_endpoint(EndpointName = '**ENDPOINT NAME HERE**',    # The name of the endpoint we created\n",
    "                                       ContentType = 'text/plain',                 # The data format that is expected\n",
    "                                       Body = event['body'])                       # The actual review\n",
    "\n",
    "    # The response is an HTTP response whose body contains the result of our inference\n",
    "    result = response['Body'].read().decode('utf-8')\n",
    "\n",
    "    return {\n",
    "        'statusCode' : 200,\n",
    "        'headers' : { 'Content-Type' : 'text/plain', 'Access-Control-Allow-Origin' : '*' },\n",
    "        'body' : result\n",
    "    }\n",
    "```\n",
    "\n",
    "Once you have copy and pasted the code above into the Lambda code editor, replace the `**ENDPOINT NAME HERE**` portion with the name of the endpoint that we deployed earlier. You can determine the name of the endpoint using the code cell below."
   ]
  },
  {
   "cell_type": "code",
   "execution_count": 134,
   "metadata": {},
   "outputs": [
    {
     "data": {
      "text/plain": [
       "'sagemaker-pytorch-2019-01-14-02-43-49-113'"
      ]
     },
     "execution_count": 134,
     "metadata": {},
     "output_type": "execute_result"
    }
   ],
   "source": [
    "predictor.endpoint"
   ]
  },
  {
   "cell_type": "markdown",
   "metadata": {},
   "source": [
    "Once you have added the endpoint name to the Lambda function, click on **Save**. Your Lambda function is now up and running. Next we need to create a way for our web app to execute the Lambda function.\n",
    "\n",
    "### Setting up API Gateway\n",
    "\n",
    "Now that our Lambda function is set up, it is time to create a new API using API Gateway that will trigger the Lambda function we have just created.\n",
    "\n",
    "Using AWS Console, navigate to **Amazon API Gateway** and then click on **Get started**.\n",
    "\n",
    "On the next page, make sure that **New API** is selected and give the new api a name, for example, `sentiment_analysis_api`. Then, click on **Create API**.\n",
    "\n",
    "Now we have created an API, however it doesn't currently do anything. What we want it to do is to trigger the Lambda function that we created earlier.\n",
    "\n",
    "Select the **Actions** dropdown menu and click **Create Method**. A new blank method will be created, select its dropdown menu and select **POST**, then click on the check mark beside it.\n",
    "\n",
    "For the integration point, make sure that **Lambda Function** is selected and click on the **Use Lambda Proxy integration**. This option makes sure that the data that is sent to the API is then sent directly to the Lambda function with no processing. It also means that the return value must be a proper response object as it will also not be processed by API Gateway.\n",
    "\n",
    "Type the name of the Lambda function you created earlier into the **Lambda Function** text entry box and then click on **Save**. Click on **OK** in the pop-up box that then appears, giving permission to API Gateway to invoke the Lambda function you created.\n",
    "\n",
    "The last step in creating the API Gateway is to select the **Actions** dropdown and click on **Deploy API**. You will need to create a new Deployment stage and name it anything you like, for example `prod`.\n",
    "\n",
    "You have now successfully set up a public API to access your SageMaker model. Make sure to copy or write down the URL provided to invoke your newly created public API as this will be needed in the next step. This URL can be found at the top of the page, highlighted in blue next to the text **Invoke URL**."
   ]
  },
  {
   "cell_type": "markdown",
   "metadata": {},
   "source": [
    "## Step 4: Deploying our web app\n",
    "\n",
    "Now that we have a publicly available API, we can start using it in a web app. For our purposes, we have provided a simple static html file which can make use of the public api you created earlier.\n",
    "\n",
    "In the `website` folder there should be a file called `index.html`. Download the file to your computer and open that file up in a text editor of your choice. There should be a line which contains **\\*\\*REPLACE WITH PUBLIC API URL\\*\\***. Replace this string with the url that you wrote down in the last step and then save the file.\n",
    "\n",
    "Now, if you open `index.html` on your local computer, your browser will behave as a local web server and you can use the provided site to interact with your SageMaker model.\n",
    "\n",
    "If you'd like to go further, you can host this html file anywhere you'd like, for example using github or hosting a static site on Amazon's S3. Once you have done this you can share the link with anyone you'd like and have them play with it too!\n",
    "\n",
    "> **Important Note** In order for the web app to communicate with the SageMaker endpoint, the endpoint has to actually be deployed and running. This means that you are paying for it. Make sure that the endpoint is running when you want to use the web app but that you shut it down when you don't need it, otherwise you will end up with a surprisingly large AWS bill.\n",
    "\n",
    "**TODO:** Make sure that you include the edited `index.html` file in your project submission."
   ]
  },
  {
   "cell_type": "markdown",
   "metadata": {},
   "source": [
    "Now that your web app is working, trying playing around with it and see how well it works.\n",
    "\n",
    "**Question**: Give an example of a review that you entered into your web app. What was the predicted sentiment of your example review?"
   ]
  },
  {
   "cell_type": "markdown",
   "metadata": {},
   "source": [
    "**Answer:**\n",
    "\n",
    "Example Reviews: \n",
    "\n",
    "1. With all of the aesthetic touches and attention to cinematic detail, the most beautiful part of the film lies within its thematic material, such as its focus on the human desires for the most abstract concepts, like hope and freedom.\n",
    "    <br>**Predicted Sentiment:** Positive\n",
    "2. Oh dear!! Never has a franchise been so abused for such a cynical cash grab. I'll give it to you straight. It wasn't teribble; but it wasn't good either.\n",
    "    <br>**Predicted Sentiment:** Negative"
   ]
  },
  {
   "cell_type": "markdown",
   "metadata": {},
   "source": [
    "### Delete the endpoint\n",
    "\n",
    "Remember to always shut down your endpoint if you are no longer using it. You are charged for the length of time that the endpoint is running so if you forget and leave it on you could end up with an unexpectedly large bill."
   ]
  },
  {
   "cell_type": "code",
   "execution_count": 135,
   "metadata": {},
   "outputs": [
    {
     "name": "stderr",
     "output_type": "stream",
     "text": [
      "INFO:sagemaker:Deleting endpoint with name: sagemaker-pytorch-2019-01-14-02-43-49-113\n"
     ]
    }
   ],
   "source": [
    "predictor.delete_endpoint()"
   ]
  },
  {
   "cell_type": "code",
   "execution_count": null,
   "metadata": {},
   "outputs": [],
   "source": []
  }
 ],
 "metadata": {
  "kernelspec": {
   "display_name": "conda_pytorch_p36",
   "language": "python",
   "name": "conda_pytorch_p36"
  },
  "language_info": {
   "codemirror_mode": {
    "name": "ipython",
    "version": 3
   },
   "file_extension": ".py",
   "mimetype": "text/x-python",
   "name": "python",
   "nbconvert_exporter": "python",
   "pygments_lexer": "ipython3",
   "version": "3.6.5"
  }
 },
 "nbformat": 4,
 "nbformat_minor": 2
}
